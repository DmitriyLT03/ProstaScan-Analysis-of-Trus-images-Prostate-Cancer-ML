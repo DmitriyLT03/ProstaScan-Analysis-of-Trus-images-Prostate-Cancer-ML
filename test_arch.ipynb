{
 "cells": [
  {
   "cell_type": "code",
   "execution_count": 1,
   "metadata": {},
   "outputs": [],
   "source": [
    "import torch\n",
    "import src\n",
    "\n",
    "from src.utils.CustomDataset import load_data"
   ]
  },
  {
   "cell_type": "code",
   "execution_count": 3,
   "metadata": {},
   "outputs": [],
   "source": [
    "ENCODER = 'resnet34'\n",
    "ENCODER_WEIGHTS = 'imagenet'\n",
    "ACTIVATION = 'sigmoid' # could be None for logits or 'softmax2d' for multicalss segmentation\n",
    "DEVICE = ('cuda' if torch.cuda.is_available() else 'cpu') "
   ]
  },
  {
   "cell_type": "code",
   "execution_count": 4,
   "metadata": {},
   "outputs": [],
   "source": [
    "model = src.FPN(\n",
    "    encoder_name=ENCODER, \n",
    "    encoder_weights=ENCODER_WEIGHTS,\n",
    "    in_channels=1,\n",
    "    classes=1,\n",
    "    activation=ACTIVATION,\n",
    ")"
   ]
  },
  {
   "cell_type": "code",
   "execution_count": 5,
   "metadata": {},
   "outputs": [],
   "source": [
    "loss = src.utils.base.SumOfLosses(\n",
    "    src.utils.losses.DiceLoss(),\n",
    "    src.utils.losses.BCELoss()\n",
    ")\n",
    "\n",
    "metrics = [\n",
    "    src.utils.metrics.IoU(threshold=0.5)\n",
    "]\n",
    "\n",
    "optimizer = torch.optim.Adam([ \n",
    "    dict(params=model.parameters(), lr=0.0001),\n",
    "])"
   ]
  },
  {
   "cell_type": "code",
   "execution_count": 6,
   "metadata": {},
   "outputs": [],
   "source": [
    "train_epoch = src.utils.train.TrainEpoch(\n",
    "    model, \n",
    "    loss=loss, \n",
    "    metrics=metrics, \n",
    "    optimizer=optimizer,\n",
    "    device=DEVICE,\n",
    "    verbose=True,\n",
    ")\n",
    "\n",
    "valid_epoch = src.utils.train.ValidEpoch(\n",
    "    model,\n",
    "    loss=loss, \n",
    "    metrics=metrics, \n",
    "    device=DEVICE,\n",
    "    verbose=True,\n",
    ")"
   ]
  },
  {
   "cell_type": "code",
   "execution_count": 7,
   "metadata": {},
   "outputs": [],
   "source": [
    "train_loader, valid_loader = load_data(test_size=0.3, batch_size=1, img_size=256, dir='./data/', artificial_increase=20)"
   ]
  },
  {
   "cell_type": "code",
   "execution_count": 10,
   "metadata": {},
   "outputs": [
    {
     "name": "stdout",
     "output_type": "stream",
     "text": [
      "\n",
      "Epoch: 0\n",
      "train: 100%|██████████| 266/266 [00:19<00:00, 13.58it/s, dice_loss + bce_loss - 0.9187, iou_score - 0.1119] \n",
      "valid: 100%|██████████| 114/114 [00:09<00:00, 11.53it/s, dice_loss + bce_loss - 0.7722, iou_score - 0.1976]\n",
      "Model saved!\n",
      "\n",
      "Epoch: 1\n",
      "train: 100%|██████████| 266/266 [00:16<00:00, 15.69it/s, dice_loss + bce_loss - 0.7365, iou_score - 0.221]  \n",
      "valid: 100%|██████████| 114/114 [00:09<00:00, 11.51it/s, dice_loss + bce_loss - 0.5375, iou_score - 0.4106]\n",
      "Model saved!\n",
      "\n",
      "Epoch: 2\n",
      "train: 100%|██████████| 266/266 [00:16<00:00, 15.86it/s, dice_loss + bce_loss - 0.6293, iou_score - 0.3066]\n",
      "valid: 100%|██████████| 114/114 [00:09<00:00, 11.64it/s, dice_loss + bce_loss - 0.4963, iou_score - 0.403] \n",
      "Model saved!\n",
      "\n",
      "Epoch: 3\n",
      "train: 100%|██████████| 266/266 [00:16<00:00, 15.84it/s, dice_loss + bce_loss - 0.5207, iou_score - 0.3956]\n",
      "valid: 100%|██████████| 114/114 [00:09<00:00, 11.56it/s, dice_loss + bce_loss - 0.3146, iou_score - 0.5905]\n",
      "Model saved!\n",
      "\n",
      "Epoch: 4\n",
      "train: 100%|██████████| 266/266 [00:17<00:00, 15.49it/s, dice_loss + bce_loss - 0.4228, iou_score - 0.4849]\n",
      "valid: 100%|██████████| 114/114 [00:10<00:00, 10.86it/s, dice_loss + bce_loss - 0.328, iou_score - 0.5758] \n",
      "\n",
      "Epoch: 5\n",
      "train: 100%|██████████| 266/266 [00:18<00:00, 14.28it/s, dice_loss + bce_loss - 0.3626, iou_score - 0.5415]\n",
      "valid: 100%|██████████| 114/114 [00:09<00:00, 11.47it/s, dice_loss + bce_loss - 0.2416, iou_score - 0.6644]\n",
      "Model saved!\n",
      "\n",
      "Epoch: 6\n",
      "train: 100%|██████████| 266/266 [00:16<00:00, 16.12it/s, dice_loss + bce_loss - 0.2997, iou_score - 0.6036]\n",
      "valid: 100%|██████████| 114/114 [00:09<00:00, 11.99it/s, dice_loss + bce_loss - 0.197, iou_score - 0.7131] \n",
      "Model saved!\n",
      "\n",
      "Epoch: 7\n",
      "train: 100%|██████████| 266/266 [00:16<00:00, 16.19it/s, dice_loss + bce_loss - 0.2684, iou_score - 0.6392]\n",
      "valid: 100%|██████████| 114/114 [00:09<00:00, 11.81it/s, dice_loss + bce_loss - 0.17, iou_score - 0.7527]  \n",
      "Model saved!\n",
      "\n",
      "Epoch: 8\n",
      "train: 100%|██████████| 266/266 [00:17<00:00, 15.42it/s, dice_loss + bce_loss - 0.2374, iou_score - 0.6709]\n",
      "valid: 100%|██████████| 114/114 [00:09<00:00, 11.62it/s, dice_loss + bce_loss - 0.1478, iou_score - 0.7724]\n",
      "Model saved!\n",
      "\n",
      "Epoch: 9\n",
      "train: 100%|██████████| 266/266 [00:16<00:00, 15.85it/s, dice_loss + bce_loss - 0.1967, iou_score - 0.7136]\n",
      "valid: 100%|██████████| 114/114 [00:09<00:00, 11.48it/s, dice_loss + bce_loss - 0.1508, iou_score - 0.7689]\n"
     ]
    }
   ],
   "source": [
    "max_score = 5\n",
    "trash = 0\n",
    "for i in range(0, 10):\n",
    "    if trash > 6:\n",
    "        break\n",
    "    print('\\nEpoch: {}'.format(i))\n",
    "    train_logs = train_epoch.run(train_loader)\n",
    "    valid_logs = valid_epoch.run(valid_loader)\n",
    "    \n",
    "    # do something (save model, change lr, etc.)\n",
    "    if max_score > valid_logs['dice_loss + bce_loss']:\n",
    "        max_score = valid_logs['dice_loss + bce_loss']\n",
    "        torch.save(model, './checkpoint/best_model.pth')\n",
    "        trash = 0\n",
    "        print('Model saved!')\n",
    "    else:\n",
    "        trash +=1\n",
    "        \n",
    "    if i == 25:\n",
    "        optimizer.param_groups[0]['lr'] = optimizer.param_groups[0]['lr']*0.56\n",
    "        print('Decrease decoder learning rate to 1e-5!')"
   ]
  },
  {
   "cell_type": "code",
   "execution_count": null,
   "metadata": {},
   "outputs": [],
   "source": []
  }
 ],
 "metadata": {
  "kernelspec": {
   "display_name": "env_trus",
   "language": "python",
   "name": "python3"
  },
  "language_info": {
   "codemirror_mode": {
    "name": "ipython",
    "version": 3
   },
   "file_extension": ".py",
   "mimetype": "text/x-python",
   "name": "python",
   "nbconvert_exporter": "python",
   "pygments_lexer": "ipython3",
   "version": "3.9.13 (main, Aug 25 2022, 23:51:50) [MSC v.1916 64 bit (AMD64)]"
  },
  "orig_nbformat": 4,
  "vscode": {
   "interpreter": {
    "hash": "4af9a2159fab24886d4f91335261a63555b0395985130eb8d259fcbaf5c78d65"
   }
  }
 },
 "nbformat": 4,
 "nbformat_minor": 2
}
