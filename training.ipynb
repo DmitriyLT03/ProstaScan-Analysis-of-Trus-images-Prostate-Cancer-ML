{
 "cells": [
  {
   "cell_type": "code",
   "execution_count": 1,
   "metadata": {},
   "outputs": [],
   "source": [
    "import torch\n",
    "import src\n",
    "import wandb\n",
    "import numpy as np\n",
    "import cv2\n",
    "import os\n",
    "\n",
    "from PIL import Image\n",
    "from src.utils.dataset import Preprocessing\n",
    "from src.utils.dataset import Dataset\n",
    "from sklearn.model_selection import train_test_split"
   ]
  },
  {
   "cell_type": "code",
   "execution_count": 2,
   "metadata": {},
   "outputs": [],
   "source": [
    "ENCODER = 'resnet152'\n",
    "ENCODER_WEIGHTS = 'imagenet'\n",
    "ACTIVATION = 'sigmoid' # could be None for logits or 'softmax2d' for multicalss segmentation\n",
    "DEVICE = ('cuda' if torch.cuda.is_available() else 'cpu') "
   ]
  },
  {
   "cell_type": "code",
   "execution_count": 3,
   "metadata": {},
   "outputs": [],
   "source": [
    "model = src.FPN(\n",
    "    encoder_name=ENCODER, \n",
    "    encoder_weights=ENCODER_WEIGHTS,\n",
    "    in_channels=1,\n",
    "    classes=1,\n",
    "    activation=ACTIVATION,\n",
    ")"
   ]
  },
  {
   "cell_type": "code",
   "execution_count": 4,
   "metadata": {},
   "outputs": [],
   "source": [
    "loss = src.utils.base.SumOfLosses(\n",
    "    src.utils.losses.DiceLoss(),\n",
    "    src.utils.losses.BCELoss()\n",
    ")\n",
    "\n",
    "metrics = [\n",
    "    src.utils.metrics.IoU(threshold=0.5)\n",
    "]\n",
    "\n",
    "optimizer = torch.optim.Adam([ \n",
    "    dict(params=model.parameters(), lr=0.0001),\n",
    "])\n",
    "\n",
    "scheduler = torch.optim.lr_scheduler.ReduceLROnPlateau(optimizer, mode='min',\n",
    "        factor=0.01, patience=10, threshold=0.0001, threshold_mode='abs')"
   ]
  },
  {
   "cell_type": "code",
   "execution_count": 5,
   "metadata": {},
   "outputs": [],
   "source": [
    "train_epoch = src.utils.train.TrainEpoch(\n",
    "    model, \n",
    "    loss=loss, \n",
    "    metrics=metrics, \n",
    "    optimizer=optimizer,\n",
    "    device=DEVICE,\n",
    "    verbose=True,\n",
    ")\n",
    "\n",
    "valid_epoch = src.utils.train.ValidEpoch(\n",
    "    model,\n",
    "    loss=loss, \n",
    "    metrics=metrics, \n",
    "    device=DEVICE,\n",
    "    verbose=True,\n",
    ")"
   ]
  },
  {
   "cell_type": "code",
   "execution_count": 6,
   "metadata": {},
   "outputs": [],
   "source": [
    "preprocess = Preprocessing(\n",
    "    dir='./data/',\n",
    "    img_size=768,\n",
    "    augmentation=False\n",
    ")"
   ]
  },
  {
   "cell_type": "code",
   "execution_count": 7,
   "metadata": {},
   "outputs": [
    {
     "name": "stderr",
     "output_type": "stream",
     "text": [
      "Failed to detect the name of this notebook, you can set it manually with the WANDB_NOTEBOOK_NAME environment variable to enable code saving.\n",
      "\u001b[34m\u001b[1mwandb\u001b[0m: Currently logged in as: \u001b[33mdalyutkin01\u001b[0m. Use \u001b[1m`wandb login --relogin`\u001b[0m to force relogin\n"
     ]
    },
    {
     "data": {
      "text/html": [
       "wandb version 0.14.0 is available!  To upgrade, please run:\n",
       " $ pip install wandb --upgrade"
      ],
      "text/plain": [
       "<IPython.core.display.HTML object>"
      ]
     },
     "metadata": {},
     "output_type": "display_data"
    },
    {
     "data": {
      "text/html": [
       "Tracking run with wandb version 0.13.9"
      ],
      "text/plain": [
       "<IPython.core.display.HTML object>"
      ]
     },
     "metadata": {},
     "output_type": "display_data"
    },
    {
     "data": {
      "text/html": [
       "Run data is saved locally in <code>c:\\Users\\Dmitry\\Desktop\\code\\analysis_trus_images\\wandb\\run-20230404_140942-iygl5z1h</code>"
      ],
      "text/plain": [
       "<IPython.core.display.HTML object>"
      ]
     },
     "metadata": {},
     "output_type": "display_data"
    },
    {
     "data": {
      "text/html": [
       "Syncing run <strong><a href=\"https://wandb.ai/dalyutkin01/Trus_images/runs/iygl5z1h\" target=\"_blank\">clear-blaze-92</a></strong> to <a href=\"https://wandb.ai/dalyutkin01/Trus_images\" target=\"_blank\">Weights & Biases</a> (<a href=\"https://wandb.me/run\" target=\"_blank\">docs</a>)<br/>"
      ],
      "text/plain": [
       "<IPython.core.display.HTML object>"
      ]
     },
     "metadata": {},
     "output_type": "display_data"
    },
    {
     "data": {
      "text/html": [
       " View project at <a href=\"https://wandb.ai/dalyutkin01/Trus_images\" target=\"_blank\">https://wandb.ai/dalyutkin01/Trus_images</a>"
      ],
      "text/plain": [
       "<IPython.core.display.HTML object>"
      ]
     },
     "metadata": {},
     "output_type": "display_data"
    },
    {
     "data": {
      "text/html": [
       " View run at <a href=\"https://wandb.ai/dalyutkin01/Trus_images/runs/iygl5z1h\" target=\"_blank\">https://wandb.ai/dalyutkin01/Trus_images/runs/iygl5z1h</a>"
      ],
      "text/plain": [
       "<IPython.core.display.HTML object>"
      ]
     },
     "metadata": {},
     "output_type": "display_data"
    },
    {
     "data": {
      "text/html": [
       "<button onClick=\"this.nextSibling.style.display='block';this.style.display='none';\">Display W&B run</button><iframe src=\"https://wandb.ai/dalyutkin01/Trus_images/runs/iygl5z1h?jupyter=true\" style=\"border:none;width:100%;height:420px;display:none;\"></iframe>"
      ],
      "text/plain": [
       "<wandb.sdk.wandb_run.Run at 0x206a120b040>"
      ]
     },
     "execution_count": 7,
     "metadata": {},
     "output_type": "execute_result"
    }
   ],
   "source": [
    "wandb.login()\n",
    "\n",
    "wandb.init(project=\"Trus_images\")"
   ]
  },
  {
   "cell_type": "code",
   "execution_count": 8,
   "metadata": {},
   "outputs": [],
   "source": [
    "max_IoU = 0.43\n",
    "clear_images, clear_masks = preprocess.load_folder()\n",
    "X_train, X_test, y_train, y_test = train_test_split(clear_images, clear_masks, test_size=0.2, random_state=42)"
   ]
  },
  {
   "cell_type": "code",
   "execution_count": 9,
   "metadata": {},
   "outputs": [
    {
     "name": "stdout",
     "output_type": "stream",
     "text": [
      "\n",
      "Epoch: 1\n",
      "train: 100%|██████████| 41/41 [00:28<00:00,  1.43it/s, dice_loss + bce_loss - 0.7844, iou_score - 0.1817] \n",
      "valid: 100%|██████████| 11/11 [00:10<00:00,  1.08it/s, dice_loss + bce_loss - 0.5842, iou_score - 0.3253]\n"
     ]
    },
    {
     "data": {
      "text/html": [
       "Waiting for W&B process to finish... <strong style=\"color:green\">(success).</strong>"
      ],
      "text/plain": [
       "<IPython.core.display.HTML object>"
      ]
     },
     "metadata": {},
     "output_type": "display_data"
    },
    {
     "data": {
      "application/vnd.jupyter.widget-view+json": {
       "model_id": "963dbeb2a65b46758c159f7de39792f7",
       "version_major": 2,
       "version_minor": 0
      },
      "text/plain": [
       "VBox(children=(Label(value='0.001 MB of 0.001 MB uploaded (0.000 MB deduped)\\r'), FloatProgress(value=1.0, max…"
      ]
     },
     "metadata": {},
     "output_type": "display_data"
    },
    {
     "data": {
      "text/html": [
       "<style>\n",
       "    table.wandb td:nth-child(1) { padding: 0 10px; text-align: left ; width: auto;} td:nth-child(2) {text-align: left ; width: 100%}\n",
       "    .wandb-row { display: flex; flex-direction: row; flex-wrap: wrap; justify-content: flex-start; width: 100% }\n",
       "    .wandb-col { display: flex; flex-direction: column; flex-basis: 100%; flex: 1; padding: 10px; }\n",
       "    </style>\n",
       "<div class=\"wandb-row\"><div class=\"wandb-col\"><h3>Run history:</h3><br/><table class=\"wandb\"><tr><td>train/train_IoU</td><td>▁</td></tr><tr><td>train/train_loss</td><td>▁</td></tr><tr><td>valid/valid_IoU</td><td>▁</td></tr><tr><td>valid/valid_loss</td><td>▁</td></tr></table><br/></div><div class=\"wandb-col\"><h3>Run summary:</h3><br/><table class=\"wandb\"><tr><td>train/train_IoU</td><td>0.18166</td></tr><tr><td>train/train_loss</td><td>0.78436</td></tr><tr><td>valid/valid_IoU</td><td>0.32531</td></tr><tr><td>valid/valid_loss</td><td>0.58421</td></tr></table><br/></div></div>"
      ],
      "text/plain": [
       "<IPython.core.display.HTML object>"
      ]
     },
     "metadata": {},
     "output_type": "display_data"
    },
    {
     "data": {
      "text/html": [
       " View run <strong style=\"color:#cdcd00\">clear-blaze-92</strong> at: <a href=\"https://wandb.ai/dalyutkin01/Trus_images/runs/iygl5z1h\" target=\"_blank\">https://wandb.ai/dalyutkin01/Trus_images/runs/iygl5z1h</a><br/>Synced 5 W&B file(s), 0 media file(s), 0 artifact file(s) and 0 other file(s)"
      ],
      "text/plain": [
       "<IPython.core.display.HTML object>"
      ]
     },
     "metadata": {},
     "output_type": "display_data"
    },
    {
     "data": {
      "text/html": [
       "Find logs at: <code>.\\wandb\\run-20230404_140942-iygl5z1h\\logs</code>"
      ],
      "text/plain": [
       "<IPython.core.display.HTML object>"
      ]
     },
     "metadata": {},
     "output_type": "display_data"
    }
   ],
   "source": [
    "for i in range(0, 1):\n",
    "    train_loader, valid_loader = preprocess.Generator(\n",
    "        batch_size=2, \n",
    "        X_train=X_train, \n",
    "        X_test=X_test, \n",
    "        y_train=y_train, \n",
    "        y_test=y_test)\n",
    "    print('\\nEpoch: {}'.format(i + 1))\n",
    "    train_logs = train_epoch.run(train_loader)\n",
    "    valid_logs = valid_epoch.run(valid_loader)\n",
    "    wandb.log({'train/train_IoU': train_logs['iou_score'], 'train/train_loss': train_logs['dice_loss + bce_loss']})\n",
    "    wandb.log({'valid/valid_IoU': valid_logs['iou_score'], 'valid/valid_loss': valid_logs['dice_loss + bce_loss']})\n",
    "    scheduler.step(valid_logs['dice_loss + bce_loss'])\n",
    "    if max_IoU < valid_logs['iou_score']:\n",
    "        max_IoU = valid_logs['iou_score']\n",
    "        torch.save({\n",
    "            'model_state_dict': model.state_dict(),\n",
    "            'best_IoU' : max_IoU\n",
    "            }, './checkpoint/best_model_without_kfold.pth')\n",
    "        print('Model saved!')\n",
    "        \n",
    "wandb.finish()"
   ]
  },
  {
   "cell_type": "code",
   "execution_count": 10,
   "metadata": {},
   "outputs": [],
   "source": [
    "checkpoint = torch.load('./checkpoint/best_model_without_kfold.pth')"
   ]
  },
  {
   "cell_type": "code",
   "execution_count": 11,
   "metadata": {},
   "outputs": [
    {
     "data": {
      "text/plain": [
       "0.44076838547533204"
      ]
     },
     "execution_count": 11,
     "metadata": {},
     "output_type": "execute_result"
    }
   ],
   "source": [
    "checkpoint['best_IoU']"
   ]
  },
  {
   "cell_type": "code",
   "execution_count": 12,
   "metadata": {},
   "outputs": [
    {
     "data": {
      "text/plain": [
       "<All keys matched successfully>"
      ]
     },
     "execution_count": 12,
     "metadata": {},
     "output_type": "execute_result"
    }
   ],
   "source": [
    "model.load_state_dict(checkpoint['model_state_dict'])"
   ]
  },
  {
   "cell_type": "code",
   "execution_count": 13,
   "metadata": {},
   "outputs": [],
   "source": [
    "import os\n",
    "import cv2\n",
    "from PIL import Image"
   ]
  },
  {
   "cell_type": "code",
   "execution_count": 14,
   "metadata": {},
   "outputs": [],
   "source": [
    "shape = X_test[0].shape[:2]"
   ]
  },
  {
   "cell_type": "code",
   "execution_count": 15,
   "metadata": {},
   "outputs": [],
   "source": [
    "preds = []\n",
    "for image in X_test:\n",
    "    image_prepoc = preprocess.prepocessing_image(image)\n",
    "    image_prepoc = torch.tensor(np.array([[image_prepoc]]), dtype = torch.float)\n",
    "    image_prepoc = image_prepoc.to(DEVICE)\n",
    "    with torch.no_grad():\n",
    "        predict = model.forward(image_prepoc)\n",
    "    predict_value = predict.cpu().detach().numpy()\n",
    "    preds.append(predict_value)"
   ]
  },
  {
   "cell_type": "code",
   "execution_count": 16,
   "metadata": {},
   "outputs": [],
   "source": [
    "valid_pred_folder = './valid_predict_v1/'"
   ]
  },
  {
   "cell_type": "code",
   "execution_count": 17,
   "metadata": {},
   "outputs": [],
   "source": [
    "def preproc_predict(image):\n",
    "    predict = (image[0][0]*255).astype(np.uint8)\n",
    "    img  = np.array(Image.fromarray(predict))\n",
    "    return img"
   ]
  },
  {
   "cell_type": "code",
   "execution_count": 18,
   "metadata": {},
   "outputs": [],
   "source": [
    "def green_chanel(image):\n",
    "    blue,green,red = cv2.split(image)\n",
    "    zeros = np.zeros(blue.shape, np.uint8)\n",
    "    greenBGR = cv2.merge([zeros,green,zeros])\n",
    "    return greenBGR"
   ]
  },
  {
   "cell_type": "code",
   "execution_count": 19,
   "metadata": {},
   "outputs": [],
   "source": [
    "def blue_chanel_predict(image):\n",
    "    image = cv2.cvtColor(image, cv2.COLOR_BGR2RGB)\n",
    "    image = cv2.resize(image, (1280, 872), interpolation = cv2.INTER_AREA)\n",
    "    blue, green, _ = cv2.split(image)\n",
    "    zeros = np.zeros(blue.shape, np.uint8)\n",
    "    blueBGR = cv2.merge([blue,zeros,zeros])\n",
    "    return blueBGR\n",
    "\n",
    "def green_chanel_predict(image):\n",
    "    image = cv2.cvtColor(image, cv2.COLOR_BGR2RGB)\n",
    "    image = cv2.resize(image, (1280, 872), interpolation = cv2.INTER_AREA)\n",
    "    blue, green, _ = cv2.split(image)\n",
    "    zeros = np.zeros(blue.shape, np.uint8)\n",
    "    green = cv2.merge([zeros,green,zeros])\n",
    "    return green"
   ]
  },
  {
   "cell_type": "code",
   "execution_count": 20,
   "metadata": {},
   "outputs": [],
   "source": [
    "def calc_IoU(image_first, image_second):\n",
    "    bitwiseOR = cv2.bitwise_or(image_first, image_second)\n",
    "    bitwiseOR = bitwiseOR / 255\n",
    "    bitwiseOR = (np.rint(bitwiseOR)).astype(int)\n",
    "    summary = bitwiseOR.sum()\n",
    "    bitwiseAnd = cv2.bitwise_and(image_first, image_second)\n",
    "    bitwiseAnd = bitwiseAnd / 255\n",
    "    bitwiseAnd = (np.rint(bitwiseAnd)).astype(int)\n",
    "    peres = bitwiseAnd.sum()\n",
    "    return peres / summary"
   ]
  },
  {
   "cell_type": "code",
   "execution_count": 21,
   "metadata": {},
   "outputs": [],
   "source": [
    "for num in range(len(X_test)):\n",
    "    true_mask = y_test[num]\n",
    "    greenBGR = green_chanel(true_mask)\n",
    "    concat_true = cv2.addWeighted(X_test[num], 0.4, y_test[num], 0.9, 0)\n",
    "    \n",
    "    #resize true image and create 3rd channels\n",
    "    cvtColor = cv2.cvtColor(X_test[num], cv2.COLOR_BGR2GRAY )\n",
    "    resize_image = cv2.resize(cvtColor, (1280, 872), interpolation = cv2.INTER_AREA)\n",
    "    resize_image = cv2.cvtColor(resize_image, cv2.COLOR_BGR2RGB)\n",
    "    \n",
    "    #preproc predict\n",
    "    predict_mask = preproc_predict(preds[num])\n",
    "    blueBGR_predict = blue_chanel_predict(predict_mask)\n",
    "    greenBGR_predict = green_chanel_predict(predict_mask)\n",
    "    # concat_predict = cv2.bitwise_or(resize_image, predict_mask, mask = predict_mask)\n",
    "    # image_rgb=cv2.cvtColor(concat_predict, cv2.COLOR_BGR2RGB)\n",
    "    \n",
    "    #calc IoU\n",
    "    # print(greenBGR.shape)\n",
    "    # print(greenBGR_predict.shape)\n",
    "    IoU = calc_IoU(greenBGR, greenBGR_predict)\n",
    "    \n",
    "    #concat two masks\n",
    "    bitwiseAnd = cv2.bitwise_or(greenBGR, blueBGR_predict)\n",
    "    \n",
    "    #concat true images with mask\n",
    "    concat_predict = cv2.addWeighted(resize_image, 0.4, bitwiseAnd, 0.7, 0)\n",
    "    concat_predict_resize = cv2.resize(concat_predict, (1280, 872), interpolation = cv2.INTER_AREA)\n",
    "    \n",
    "    #put text\n",
    "    font = cv2.FONT_HERSHEY_SIMPLEX\n",
    "    org = (570, 50)\n",
    "    fontScale = 1\n",
    "    color = (0, 255, 255)\n",
    "    thickness = 2\n",
    "    image = cv2.putText(concat_predict_resize, 'IoU ' + str(round(IoU, 3)), org, font, \n",
    "                   fontScale, color, thickness, cv2.LINE_AA)\n",
    "    \n",
    "    #save \n",
    "    cv2.imwrite(filename=os.path.join(valid_pred_folder + str(num) + \"_true\" + '.png'), img=concat_true)\n",
    "    cv2.imwrite(filename=os.path.join(valid_pred_folder + str(num) + \"_predict\" + '.png'), img=concat_predict_resize)"
   ]
  },
  {
   "cell_type": "code",
   "execution_count": null,
   "metadata": {},
   "outputs": [],
   "source": []
  }
 ],
 "metadata": {
  "kernelspec": {
   "display_name": "env_trus",
   "language": "python",
   "name": "python3"
  },
  "language_info": {
   "codemirror_mode": {
    "name": "ipython",
    "version": 3
   },
   "file_extension": ".py",
   "mimetype": "text/x-python",
   "name": "python",
   "nbconvert_exporter": "python",
   "pygments_lexer": "ipython3",
   "version": "3.9.13"
  },
  "orig_nbformat": 4,
  "vscode": {
   "interpreter": {
    "hash": "4af9a2159fab24886d4f91335261a63555b0395985130eb8d259fcbaf5c78d65"
   }
  }
 },
 "nbformat": 4,
 "nbformat_minor": 2
}
