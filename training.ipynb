{
 "cells": [
  {
   "cell_type": "code",
   "execution_count": 1,
   "metadata": {},
   "outputs": [],
   "source": [
    "import torch\n",
    "import src\n",
    "\n",
    "from src.utils.dataset import load_data"
   ]
  },
  {
   "cell_type": "code",
   "execution_count": 2,
   "metadata": {},
   "outputs": [],
   "source": [
    "ENCODER = 'resnet34'\n",
    "ENCODER_WEIGHTS = 'imagenet'\n",
    "ACTIVATION = 'sigmoid' # could be None for logits or 'softmax2d' for multicalss segmentation\n",
    "DEVICE = ('cuda' if torch.cuda.is_available() else 'cpu') "
   ]
  },
  {
   "cell_type": "code",
   "execution_count": 3,
   "metadata": {},
   "outputs": [],
   "source": [
    "model = src.FPN(\n",
    "    encoder_name=ENCODER, \n",
    "    encoder_weights=ENCODER_WEIGHTS,\n",
    "    in_channels=1,\n",
    "    classes=1,\n",
    "    activation=ACTIVATION,\n",
    ")"
   ]
  },
  {
   "cell_type": "code",
   "execution_count": 4,
   "metadata": {},
   "outputs": [],
   "source": [
    "loss = src.utils.base.SumOfLosses(\n",
    "    src.utils.losses.DiceLoss(),\n",
    "    src.utils.losses.BCELoss()\n",
    ")\n",
    "\n",
    "metrics = [\n",
    "    src.utils.metrics.IoU(threshold=0.5)\n",
    "]\n",
    "\n",
    "optimizer = torch.optim.Adam([ \n",
    "    dict(params=model.parameters(), lr=0.0001),\n",
    "])"
   ]
  },
  {
   "cell_type": "code",
   "execution_count": 5,
   "metadata": {},
   "outputs": [],
   "source": [
    "train_epoch = src.utils.train.TrainEpoch(\n",
    "    model, \n",
    "    loss=loss, \n",
    "    metrics=metrics, \n",
    "    optimizer=optimizer,\n",
    "    device=DEVICE,\n",
    "    verbose=True,\n",
    ")\n",
    "\n",
    "valid_epoch = src.utils.train.ValidEpoch(\n",
    "    model,\n",
    "    loss=loss, \n",
    "    metrics=metrics, \n",
    "    device=DEVICE,\n",
    "    verbose=True,\n",
    ")"
   ]
  },
  {
   "cell_type": "code",
   "execution_count": 6,
   "metadata": {},
   "outputs": [],
   "source": [
    "train_loader, valid_loader = load_data(test_size=0.3, batch_size=1, img_size=256, dir='./data/', artificial_increase=20)"
   ]
  },
  {
   "cell_type": "code",
   "execution_count": 7,
   "metadata": {},
   "outputs": [
    {
     "name": "stdout",
     "output_type": "stream",
     "text": [
      "\n",
      "Epoch: 0\n",
      "train: 100%|██████████| 266/266 [00:19<00:00, 13.90it/s, dice_loss + bce_loss - 0.9186, iou_score - 0.09474]\n",
      "valid: 100%|██████████| 114/114 [00:09<00:00, 11.80it/s, dice_loss + bce_loss - 0.7231, iou_score - 0.2332]\n",
      "Model saved!\n",
      "\n",
      "Epoch: 1\n",
      "train: 100%|██████████| 266/266 [00:16<00:00, 16.11it/s, dice_loss + bce_loss - 0.7101, iou_score - 0.2458]\n",
      "valid: 100%|██████████| 114/114 [00:10<00:00, 11.34it/s, dice_loss + bce_loss - 0.679, iou_score - 0.2557] \n",
      "Model saved!\n",
      "\n",
      "Epoch: 2\n",
      "train: 100%|██████████| 266/266 [00:16<00:00, 15.89it/s, dice_loss + bce_loss - 0.6372, iou_score - 0.3021]\n",
      "valid: 100%|██████████| 114/114 [00:09<00:00, 11.60it/s, dice_loss + bce_loss - 0.4492, iou_score - 0.4549]\n",
      "Model saved!\n",
      "\n",
      "Epoch: 3\n",
      "train: 100%|██████████| 266/266 [00:16<00:00, 15.93it/s, dice_loss + bce_loss - 0.5332, iou_score - 0.3837]\n",
      "valid: 100%|██████████| 114/114 [00:09<00:00, 11.57it/s, dice_loss + bce_loss - 0.3361, iou_score - 0.5659]\n",
      "Model saved!\n",
      "\n",
      "Epoch: 4\n",
      "train: 100%|██████████| 266/266 [00:16<00:00, 16.02it/s, dice_loss + bce_loss - 0.4453, iou_score - 0.4661]\n",
      "valid: 100%|██████████| 114/114 [00:09<00:00, 11.54it/s, dice_loss + bce_loss - 0.3007, iou_score - 0.6004]\n",
      "Model saved!\n",
      "\n",
      "Epoch: 5\n",
      "train: 100%|██████████| 266/266 [00:18<00:00, 14.03it/s, dice_loss + bce_loss - 0.3714, iou_score - 0.5326]\n",
      "valid: 100%|██████████| 114/114 [00:10<00:00, 11.08it/s, dice_loss + bce_loss - 0.2433, iou_score - 0.6726]\n",
      "Model saved!\n",
      "\n",
      "Epoch: 6\n",
      "train: 100%|██████████| 266/266 [00:19<00:00, 13.33it/s, dice_loss + bce_loss - 0.304, iou_score - 0.6005] \n",
      "valid: 100%|██████████| 114/114 [00:10<00:00, 11.29it/s, dice_loss + bce_loss - 0.2254, iou_score - 0.692] \n",
      "Model saved!\n",
      "\n",
      "Epoch: 7\n",
      "train: 100%|██████████| 266/266 [00:16<00:00, 15.93it/s, dice_loss + bce_loss - 0.2409, iou_score - 0.6663]\n",
      "valid: 100%|██████████| 114/114 [00:09<00:00, 11.65it/s, dice_loss + bce_loss - 0.175, iou_score - 0.7511] \n",
      "Model saved!\n",
      "\n",
      "Epoch: 8\n",
      "train: 100%|██████████| 266/266 [00:17<00:00, 14.88it/s, dice_loss + bce_loss - 0.2182, iou_score - 0.6924]\n",
      "valid: 100%|██████████| 114/114 [00:09<00:00, 11.59it/s, dice_loss + bce_loss - 0.14, iou_score - 0.7863]  \n",
      "Model saved!\n",
      "\n",
      "Epoch: 9\n",
      "train: 100%|██████████| 266/266 [00:18<00:00, 14.06it/s, dice_loss + bce_loss - 0.2025, iou_score - 0.7131]\n",
      "valid: 100%|██████████| 114/114 [00:09<00:00, 11.86it/s, dice_loss + bce_loss - 0.129, iou_score - 0.7998] \n",
      "Model saved!\n"
     ]
    }
   ],
   "source": [
    "max_score = 5\n",
    "trash = 0\n",
    "for i in range(0, 10):\n",
    "    if trash > 6:\n",
    "        break\n",
    "    print('\\nEpoch: {}'.format(i))\n",
    "    train_logs = train_epoch.run(train_loader)\n",
    "    valid_logs = valid_epoch.run(valid_loader)\n",
    "    \n",
    "    # do something (save model, change lr, etc.)\n",
    "    if max_score > valid_logs['dice_loss + bce_loss']:\n",
    "        max_score = valid_logs['dice_loss + bce_loss']\n",
    "        torch.save(model, './checkpoint/best_model.pth')\n",
    "        trash = 0\n",
    "        print('Model saved!')\n",
    "    else:\n",
    "        trash +=1\n",
    "        \n",
    "    if i == 25:\n",
    "        optimizer.param_groups[0]['lr'] = optimizer.param_groups[0]['lr']*0.56\n",
    "        print('Decrease decoder learning rate to 1e-5!')"
   ]
  },
  {
   "cell_type": "code",
   "execution_count": null,
   "metadata": {},
   "outputs": [],
   "source": []
  }
 ],
 "metadata": {
  "kernelspec": {
   "display_name": "env_trus",
   "language": "python",
   "name": "python3"
  },
  "language_info": {
   "codemirror_mode": {
    "name": "ipython",
    "version": 3
   },
   "file_extension": ".py",
   "mimetype": "text/x-python",
   "name": "python",
   "nbconvert_exporter": "python",
   "pygments_lexer": "ipython3",
   "version": "3.9.13"
  },
  "orig_nbformat": 4,
  "vscode": {
   "interpreter": {
    "hash": "4af9a2159fab24886d4f91335261a63555b0395985130eb8d259fcbaf5c78d65"
   }
  }
 },
 "nbformat": 4,
 "nbformat_minor": 2
}
