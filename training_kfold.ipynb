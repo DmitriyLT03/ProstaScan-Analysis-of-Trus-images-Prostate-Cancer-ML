{
 "cells": [
  {
   "cell_type": "code",
   "execution_count": 1,
   "metadata": {},
   "outputs": [],
   "source": [
    "import torch\n",
    "import src\n",
    "import wandb\n",
    "import numpy as np\n",
    "import os\n",
    "import cv2\n",
    "import random\n",
    "\n",
    "from PIL import Image\n",
    "from sklearn.model_selection import KFold"
   ]
  },
  {
   "cell_type": "code",
   "execution_count": 2,
   "metadata": {},
   "outputs": [],
   "source": [
    "def set_random_seed(seed):\n",
    "    torch.backends.cudnn.deterministic = True\n",
    "    torch.manual_seed(seed)\n",
    "    torch.cuda.manual_seed(seed)\n",
    "    np.random.seed(seed)\n",
    "    random.seed(seed)"
   ]
  },
  {
   "cell_type": "code",
   "execution_count": 3,
   "metadata": {},
   "outputs": [],
   "source": [
    "ENCODER = 'resnet152'\n",
    "ENCODER_WEIGHTS = 'imagenet'\n",
    "ACTIVATION = 'sigmoid' # could be None for logits or 'softmax2d' for multicalss segmentation\n",
    "DEVICE = ('cuda' if torch.cuda.is_available() else 'cpu') \n",
    "PARAMS = {\n",
    "    \"lr\" : 0.00005,\n",
    "    \"batch_size\" : 1,\n",
    "    \"num_splits\" : 3,\n",
    "}\n",
    "set_random_seed(345262)"
   ]
  },
  {
   "cell_type": "code",
   "execution_count": 4,
   "metadata": {},
   "outputs": [],
   "source": [
    "loss = src.utils.base.SumOfLosses(\n",
    "    src.utils.losses.DiceLoss(),\n",
    "    src.utils.losses.BCELoss()\n",
    ")\n",
    "\n",
    "# loss = src.utils.losses.JaccardLoss()\n",
    "\n",
    "# loss = src.utils.losses.DiceLoss()\n",
    "\n",
    "metrics = [\n",
    "    src.utils.metrics.IoU(threshold=0.9)\n",
    "]"
   ]
  },
  {
   "cell_type": "code",
   "execution_count": 5,
   "metadata": {},
   "outputs": [
    {
     "name": "stderr",
     "output_type": "stream",
     "text": [
      "Failed to detect the name of this notebook, you can set it manually with the WANDB_NOTEBOOK_NAME environment variable to enable code saving.\n",
      "\u001b[34m\u001b[1mwandb\u001b[0m: Currently logged in as: \u001b[33mdalyutkin01\u001b[0m (\u001b[33mcancer_research\u001b[0m). Use \u001b[1m`wandb login --relogin`\u001b[0m to force relogin\n"
     ]
    },
    {
     "data": {
      "text/html": [
       "wandb version 0.14.1 is available!  To upgrade, please run:\n",
       " $ pip install wandb --upgrade"
      ],
      "text/plain": [
       "<IPython.core.display.HTML object>"
      ]
     },
     "metadata": {},
     "output_type": "display_data"
    },
    {
     "data": {
      "text/html": [
       "Tracking run with wandb version 0.13.9"
      ],
      "text/plain": [
       "<IPython.core.display.HTML object>"
      ]
     },
     "metadata": {},
     "output_type": "display_data"
    },
    {
     "data": {
      "text/html": [
       "Run data is saved locally in <code>c:\\Users\\Dmitry\\Desktop\\code\\analysis_trus_images\\wandb\\run-20230407_154310-nn3gopau</code>"
      ],
      "text/plain": [
       "<IPython.core.display.HTML object>"
      ]
     },
     "metadata": {},
     "output_type": "display_data"
    },
    {
     "data": {
      "text/html": [
       "Syncing run <strong><a href=\"https://wandb.ai/cancer_research/cancer_research-dima/runs/nn3gopau\" target=\"_blank\">astral-frog-29</a></strong> to <a href=\"https://wandb.ai/cancer_research/cancer_research-dima\" target=\"_blank\">Weights & Biases</a> (<a href=\"https://wandb.me/run\" target=\"_blank\">docs</a>)<br/>"
      ],
      "text/plain": [
       "<IPython.core.display.HTML object>"
      ]
     },
     "metadata": {},
     "output_type": "display_data"
    },
    {
     "data": {
      "text/html": [
       " View project at <a href=\"https://wandb.ai/cancer_research/cancer_research-dima\" target=\"_blank\">https://wandb.ai/cancer_research/cancer_research-dima</a>"
      ],
      "text/plain": [
       "<IPython.core.display.HTML object>"
      ]
     },
     "metadata": {},
     "output_type": "display_data"
    },
    {
     "data": {
      "text/html": [
       " View run at <a href=\"https://wandb.ai/cancer_research/cancer_research-dima/runs/nn3gopau\" target=\"_blank\">https://wandb.ai/cancer_research/cancer_research-dima/runs/nn3gopau</a>"
      ],
      "text/plain": [
       "<IPython.core.display.HTML object>"
      ]
     },
     "metadata": {},
     "output_type": "display_data"
    },
    {
     "data": {
      "text/html": [
       "<button onClick=\"this.nextSibling.style.display='block';this.style.display='none';\">Display W&B run</button><iframe src=\"https://wandb.ai/cancer_research/cancer_research-dima/runs/nn3gopau?jupyter=true\" style=\"border:none;width:100%;height:420px;display:none;\"></iframe>"
      ],
      "text/plain": [
       "<wandb.sdk.wandb_run.Run at 0x2899910edc0>"
      ]
     },
     "execution_count": 5,
     "metadata": {},
     "output_type": "execute_result"
    }
   ],
   "source": [
    "wandb.login()\n",
    "wandb.init(project=\"cancer_research-dima\")"
   ]
  },
  {
   "cell_type": "code",
   "execution_count": 6,
   "metadata": {},
   "outputs": [],
   "source": [
    "preprocess = src.utils.dataset.Preprocessing(\n",
    "    dir='./data/',\n",
    "    img_size=768,\n",
    "    augmentation=False\n",
    ")"
   ]
  },
  {
   "cell_type": "code",
   "execution_count": 7,
   "metadata": {},
   "outputs": [],
   "source": [
    "clear_images, clear_masks = preprocess.load_folder()\n",
    "kfold = KFold(n_splits=PARAMS[\"num_splits\"], shuffle=True)\n",
    "fold_data = []\n",
    "for fold, (train_indices, test_indices) in enumerate(kfold.split(clear_masks)):\n",
    "    train_data = {\n",
    "        \"images\" : [clear_images[index] for index in train_indices],\n",
    "        \"masks\" : [clear_masks[index] for index in train_indices]\n",
    "    }\n",
    "    test_data = {\n",
    "        \"images\" : [clear_images[index] for index in test_indices],\n",
    "        \"masks\" : [clear_masks[index] for index in test_indices]\n",
    "    }\n",
    "    fold_data.append((train_data, test_data))"
   ]
  },
  {
   "cell_type": "code",
   "execution_count": 8,
   "metadata": {},
   "outputs": [
    {
     "data": {
      "text/plain": [
       "(615, 980)"
      ]
     },
     "execution_count": 8,
     "metadata": {},
     "output_type": "execute_result"
    }
   ],
   "source": [
    "clear_masks[0].shape"
   ]
  },
  {
   "cell_type": "code",
   "execution_count": 9,
   "metadata": {},
   "outputs": [
    {
     "name": "stdout",
     "output_type": "stream",
     "text": [
      "Training on fold 1...\n",
      "\n",
      "Epoch: 1\n",
      "train: 100%|██████████| 68/68 [00:36<00:00,  1.85it/s, dice_loss + bce_loss - 1.557, iou_score - 0.1941] \n",
      "valid: 100%|██████████| 34/34 [00:13<00:00,  2.46it/s, dice_loss + bce_loss - 1.411, iou_score - 0.3012]\n",
      "Model saved!\n",
      "\n",
      "Epoch: 2\n",
      "train: 100%|██████████| 68/68 [00:33<00:00,  2.02it/s, dice_loss + bce_loss - 1.364, iou_score - 0.4082]\n",
      "valid: 100%|██████████| 34/34 [00:13<00:00,  2.47it/s, dice_loss + bce_loss - 1.339, iou_score - 0.357] \n",
      "Model saved!\n",
      "Training on fold 2...\n",
      "\n",
      "Epoch: 1\n",
      "train: 100%|██████████| 68/68 [00:33<00:00,  2.03it/s, dice_loss + bce_loss - 1.182, iou_score - 0.05663]  \n",
      "valid: 100%|██████████| 34/34 [00:13<00:00,  2.44it/s, dice_loss + bce_loss - 1.092, iou_score - 0.3149]\n",
      "\n",
      "Epoch: 2\n",
      "train: 100%|██████████| 68/68 [00:33<00:00,  2.06it/s, dice_loss + bce_loss - 1.044, iou_score - 0.3333]\n",
      "valid: 100%|██████████| 34/34 [00:13<00:00,  2.47it/s, dice_loss + bce_loss - 1.031, iou_score - 0.4359]\n",
      "Model saved!\n",
      "Training on fold 3...\n",
      "\n",
      "Epoch: 1\n",
      "train: 100%|██████████| 68/68 [00:33<00:00,  2.06it/s, dice_loss + bce_loss - 1.694, iou_score - 0.001405]\n",
      "valid: 100%|██████████| 34/34 [00:13<00:00,  2.44it/s, dice_loss + bce_loss - 1.493, iou_score - 1.603e-11]\n",
      "\n",
      "Epoch: 2\n",
      "train: 100%|██████████| 68/68 [00:33<00:00,  2.03it/s, dice_loss + bce_loss - 1.426, iou_score - 0.1579]   \n",
      "valid: 100%|██████████| 34/34 [00:13<00:00,  2.45it/s, dice_loss + bce_loss - 1.378, iou_score - 0.2432]\n"
     ]
    },
    {
     "data": {
      "text/html": [
       "Waiting for W&B process to finish... <strong style=\"color:green\">(success).</strong>"
      ],
      "text/plain": [
       "<IPython.core.display.HTML object>"
      ]
     },
     "metadata": {},
     "output_type": "display_data"
    },
    {
     "data": {
      "text/html": [
       "<style>\n",
       "    table.wandb td:nth-child(1) { padding: 0 10px; text-align: left ; width: auto;} td:nth-child(2) {text-align: left ; width: 100%}\n",
       "    .wandb-row { display: flex; flex-direction: row; flex-wrap: wrap; justify-content: flex-start; width: 100% }\n",
       "    .wandb-col { display: flex; flex-direction: column; flex-basis: 100%; flex: 1; padding: 10px; }\n",
       "    </style>\n",
       "<div class=\"wandb-row\"><div class=\"wandb-col\"><h3>Run history:</h3><br/><table class=\"wandb\"><tr><td>fold_1/train/train_IoU</td><td>▁█</td></tr><tr><td>fold_1/train/train_loss</td><td>█▁</td></tr><tr><td>fold_1/valid/valid_IoU</td><td>▁█</td></tr><tr><td>fold_1/valid/valid_loss</td><td>█▁</td></tr><tr><td>fold_2/train/train_IoU</td><td>▁█</td></tr><tr><td>fold_2/train/train_loss</td><td>█▁</td></tr><tr><td>fold_2/valid/valid_IoU</td><td>▁█</td></tr><tr><td>fold_2/valid/valid_loss</td><td>█▁</td></tr><tr><td>fold_3/train/train_IoU</td><td>▁█</td></tr><tr><td>fold_3/train/train_loss</td><td>█▁</td></tr><tr><td>fold_3/valid/valid_IoU</td><td>▁█</td></tr><tr><td>fold_3/valid/valid_loss</td><td>█▁</td></tr></table><br/></div><div class=\"wandb-col\"><h3>Run summary:</h3><br/><table class=\"wandb\"><tr><td>fold_1/train/train_IoU</td><td>0.40819</td></tr><tr><td>fold_1/train/train_loss</td><td>1.36395</td></tr><tr><td>fold_1/valid/valid_IoU</td><td>0.35702</td></tr><tr><td>fold_1/valid/valid_loss</td><td>1.33911</td></tr><tr><td>fold_2/train/train_IoU</td><td>0.3333</td></tr><tr><td>fold_2/train/train_loss</td><td>1.04413</td></tr><tr><td>fold_2/valid/valid_IoU</td><td>0.43595</td></tr><tr><td>fold_2/valid/valid_loss</td><td>1.03079</td></tr><tr><td>fold_3/train/train_IoU</td><td>0.15789</td></tr><tr><td>fold_3/train/train_loss</td><td>1.42559</td></tr><tr><td>fold_3/valid/valid_IoU</td><td>0.24316</td></tr><tr><td>fold_3/valid/valid_loss</td><td>1.37808</td></tr></table><br/></div></div>"
      ],
      "text/plain": [
       "<IPython.core.display.HTML object>"
      ]
     },
     "metadata": {},
     "output_type": "display_data"
    },
    {
     "data": {
      "text/html": [
       " View run <strong style=\"color:#cdcd00\">astral-frog-29</strong> at: <a href=\"https://wandb.ai/cancer_research/cancer_research-dima/runs/nn3gopau\" target=\"_blank\">https://wandb.ai/cancer_research/cancer_research-dima/runs/nn3gopau</a><br/>Synced 5 W&B file(s), 0 media file(s), 0 artifact file(s) and 0 other file(s)"
      ],
      "text/plain": [
       "<IPython.core.display.HTML object>"
      ]
     },
     "metadata": {},
     "output_type": "display_data"
    },
    {
     "data": {
      "text/html": [
       "Find logs at: <code>.\\wandb\\run-20230407_154310-nn3gopau\\logs</code>"
      ],
      "text/plain": [
       "<IPython.core.display.HTML object>"
      ]
     },
     "metadata": {},
     "output_type": "display_data"
    }
   ],
   "source": [
    "track = 0\n",
    "TEST_IMAGES = 0\n",
    "TEST_MASKS = 0\n",
    "loader_for_top_model = 0\n",
    "for fold, (train_data, test_data) in enumerate(fold_data):\n",
    "    print(f\"Training on fold {fold + 1}...\")\n",
    "    model = src.UnetPlusPlus(\n",
    "        encoder_name=ENCODER, \n",
    "        encoder_weights=ENCODER_WEIGHTS,\n",
    "        in_channels=3,\n",
    "        classes=1,\n",
    "        activation=ACTIVATION,\n",
    "    )\n",
    "    optimizer = torch.optim.Adam([dict(params=model.parameters(), lr=PARAMS[\"lr\"]),])\n",
    "    scheduler = torch.optim.lr_scheduler.ReduceLROnPlateau(optimizer, mode='min',\n",
    "        factor=0.1, patience=1, threshold=0.0001, threshold_mode='abs')\n",
    "    # scheduler = torch.optim.lr_scheduler.ExponentialLR(optimizer, gamma=0.02)\n",
    "    train_epoch = src.utils.train.TrainEpoch(\n",
    "        model, \n",
    "        loss=loss, \n",
    "        metrics=metrics, \n",
    "        optimizer=optimizer,\n",
    "        device=DEVICE,\n",
    "        verbose=True,\n",
    "    )\n",
    "    valid_epoch = src.utils.train.ValidEpoch(\n",
    "        model,\n",
    "        loss=loss, \n",
    "        metrics=metrics, \n",
    "        device=DEVICE,\n",
    "        verbose=True,\n",
    "    )\n",
    "    \n",
    "    train_dataloader, valid_dataloader = preprocess.Generator(\n",
    "        batch_size=PARAMS[\"batch_size\"],\n",
    "        X_train=train_data[\"images\"],\n",
    "        y_train=train_data[\"masks\"],\n",
    "        X_test=test_data[\"images\"],\n",
    "        y_test=test_data[\"masks\"]\n",
    "    )\n",
    "\n",
    "    for epoch in range(0, 2):\n",
    "        print('\\nEpoch: {}'.format(epoch + 1))\n",
    "        train_logs = train_epoch.run(train_dataloader)\n",
    "        valid_logs = valid_epoch.run(valid_dataloader)\n",
    "        \n",
    "        wandb.log({\n",
    "            f'fold_{fold+1}/train/train_IoU': train_logs['iou_score'],\n",
    "            f'fold_{fold+1}/train/train_loss': train_logs['dice_loss + bce_loss']\n",
    "        })\n",
    "        wandb.log({\n",
    "            f'fold_{fold+1}/valid/valid_IoU': valid_logs['iou_score'], \n",
    "            f'fold_{fold+1}/valid/valid_loss': valid_logs['dice_loss + bce_loss']\n",
    "        })\n",
    "        \n",
    "        scheduler.step(valid_logs['dice_loss + bce_loss'])\n",
    "        if track < valid_logs['iou_score']:\n",
    "            TEST_IMAGES = test_data[\"images\"]\n",
    "            TEST_MASKS = test_data[\"masks\"]\n",
    "            track = valid_logs['iou_score']\n",
    "            loader_for_top_model = test_data\n",
    "            torch.save({\n",
    "                'model_state_dict': model.state_dict(),\n",
    "                'best_IoU' : track\n",
    "                }, f'./checkpoint/best_model_{PARAMS[\"num_splits\"]}fold.pth')\n",
    "            print('Model saved!')\n",
    "wandb.finish()"
   ]
  },
  {
   "cell_type": "code",
   "execution_count": 10,
   "metadata": {},
   "outputs": [
    {
     "data": {
      "text/plain": [
       "0.4359488605579042"
      ]
     },
     "execution_count": 10,
     "metadata": {},
     "output_type": "execute_result"
    }
   ],
   "source": [
    "valid_pred_folder = './valid_predict_kfold_v1/'\n",
    "checkpoint = torch.load(f'./checkpoint/best_model_{PARAMS[\"num_splits\"]}fold.pth')\n",
    "model.load_state_dict(checkpoint['model_state_dict'])\n",
    "checkpoint['best_IoU']"
   ]
  },
  {
   "cell_type": "code",
   "execution_count": 11,
   "metadata": {},
   "outputs": [],
   "source": [
    "preds = []\n",
    "for image in TEST_IMAGES:\n",
    "    image_prepoc = preprocess.inference_image(image)\n",
    "    image_prepoc = torch.tensor(np.array([image_prepoc]), dtype = torch.float)\n",
    "    image_prepoc = image_prepoc.to(DEVICE)\n",
    "    with torch.no_grad():\n",
    "        predict = model.forward(image_prepoc)\n",
    "    predict_value = predict.cpu().detach().numpy()\n",
    "    preds.append(predict_value)"
   ]
  },
  {
   "cell_type": "code",
   "execution_count": 12,
   "metadata": {},
   "outputs": [],
   "source": [
    "def test(number):\n",
    "    test = cv2.resize(\n",
    "        TEST_MASKS[number],\n",
    "        (768, 768),\n",
    "        interpolation = cv2.INTER_AREA\n",
    "    ).astype('float32')\n",
    "    return float(metrics[0](torch.tensor(test), torch.tensor(preds[number][0][0])))"
   ]
  },
  {
   "cell_type": "code",
   "execution_count": 13,
   "metadata": {},
   "outputs": [
    {
     "name": "stdout",
     "output_type": "stream",
     "text": [
      "0.02566584965953713\n"
     ]
    }
   ],
   "source": [
    "test_list = []\n",
    "for i in range(len(TEST_MASKS)):\n",
    "    test_list.append(test(i))\n",
    "print(sum(test_list) / len(test_list))"
   ]
  },
  {
   "cell_type": "code",
   "execution_count": 15,
   "metadata": {},
   "outputs": [],
   "source": [
    "for num in range(len(TEST_IMAGES)):\n",
    "    true_mask = TEST_MASKS[num]\n",
    "    true_mask = cv2.cvtColor(true_mask, cv2.COLOR_BGR2RGB)\n",
    "    greenBGR = src.utils.plotting.Visual.green_chanel(true_mask)\n",
    "    concat_true = cv2.addWeighted(TEST_IMAGES[num], 0.4, true_mask, 0.9, 0)\n",
    "    \n",
    "    #preproc predict\n",
    "    predict_mask = src.utils.plotting.Visual.preproc_predict(preds[num])\n",
    "    blueBGR_predict = src.utils.plotting.Visual.blue_chanel_predict(predict_mask)\n",
    "    greenBGR_predict = src.utils.plotting.Visual.green_chanel_predict(predict_mask)\n",
    "    \n",
    "    #calc IoU\n",
    "    IoU = src.utils.plotting.Visual.calc_IoU(greenBGR, greenBGR_predict)\n",
    "    \n",
    "    #concat two masks\n",
    "    bitwiseAnd = cv2.bitwise_or(greenBGR, blueBGR_predict)\n",
    "    \n",
    "    #concat true images with mask\n",
    "    concat_predict = cv2.addWeighted(TEST_IMAGES[num], 0.7, bitwiseAnd, 0.7, 0)\n",
    "    concat_predict_resize = cv2.resize(concat_predict, (1280, 872), interpolation = cv2.INTER_AREA)\n",
    "    \n",
    "    #put text\n",
    "    font = cv2.FONT_HERSHEY_SIMPLEX\n",
    "    org = (570, 50)\n",
    "    fontScale = 1\n",
    "    color = (0, 255, 255)\n",
    "    thickness = 2\n",
    "    image = cv2.putText(concat_predict_resize, 'IoU ' + str(round(IoU, 3)), org, font, \n",
    "                   fontScale, color, thickness, cv2.LINE_AA)\n",
    "    \n",
    "    #save \n",
    "    cv2.imwrite(filename=os.path.join(valid_pred_folder + str(num) + \"_true\" + '.png'), img=concat_true)\n",
    "    cv2.imwrite(filename=os.path.join(valid_pred_folder + str(num) + \"_predict\" + '.png'), img=concat_predict_resize)"
   ]
  }
 ],
 "metadata": {
  "kernelspec": {
   "display_name": "env_trus",
   "language": "python",
   "name": "python3"
  },
  "language_info": {
   "codemirror_mode": {
    "name": "ipython",
    "version": 3
   },
   "file_extension": ".py",
   "mimetype": "text/x-python",
   "name": "python",
   "nbconvert_exporter": "python",
   "pygments_lexer": "ipython3",
   "version": "3.9.13"
  },
  "orig_nbformat": 4,
  "vscode": {
   "interpreter": {
    "hash": "4af9a2159fab24886d4f91335261a63555b0395985130eb8d259fcbaf5c78d65"
   }
  }
 },
 "nbformat": 4,
 "nbformat_minor": 2
}
