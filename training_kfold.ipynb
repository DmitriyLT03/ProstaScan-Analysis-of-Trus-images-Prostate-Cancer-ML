{
 "cells": [
  {
   "cell_type": "code",
   "execution_count": 1,
   "metadata": {},
   "outputs": [],
   "source": [
    "import torch\n",
    "import src\n",
    "import wandb\n",
    "import numpy as np\n",
    "import os\n",
    "import cv2\n",
    "import random\n",
    "\n",
    "from PIL import Image\n",
    "from sklearn.model_selection import KFold"
   ]
  },
  {
   "cell_type": "code",
   "execution_count": 2,
   "metadata": {},
   "outputs": [],
   "source": [
    "def set_random_seed(seed):\n",
    "    torch.backends.cudnn.deterministic = True\n",
    "    torch.manual_seed(seed)\n",
    "    torch.cuda.manual_seed(seed)\n",
    "    np.random.seed(seed)\n",
    "    random.seed(seed)"
   ]
  },
  {
   "cell_type": "code",
   "execution_count": 3,
   "metadata": {},
   "outputs": [],
   "source": [
    "ENCODER = 'resnet152'\n",
    "ENCODER_WEIGHTS = 'imagenet'\n",
    "ACTIVATION = 'sigmoid' # could be None for logits or 'softmax2d' for multicalss segmentation\n",
    "DEVICE = ('cuda' if torch.cuda.is_available() else 'cpu') \n",
    "PARAMS = {\n",
    "    \"lr\" : 0.0001,\n",
    "    \"batch_size\" : 4,\n",
    "    \"num_splits\" : 3,\n",
    "}\n",
    "set_random_seed(345262)"
   ]
  },
  {
   "cell_type": "code",
   "execution_count": 4,
   "metadata": {},
   "outputs": [],
   "source": [
    "loss = src.utils.base.SumOfLosses(\n",
    "    src.utils.losses.DiceLoss(),\n",
    "    src.utils.losses.BCELoss()\n",
    ")\n",
    "\n",
    "metrics = [\n",
    "    src.utils.metrics.IoU(threshold=0.5)\n",
    "]"
   ]
  },
  {
   "cell_type": "code",
   "execution_count": 5,
   "metadata": {},
   "outputs": [
    {
     "name": "stderr",
     "output_type": "stream",
     "text": [
      "Failed to detect the name of this notebook, you can set it manually with the WANDB_NOTEBOOK_NAME environment variable to enable code saving.\n",
      "\u001b[34m\u001b[1mwandb\u001b[0m: Currently logged in as: \u001b[33mdalyutkin01\u001b[0m. Use \u001b[1m`wandb login --relogin`\u001b[0m to force relogin\n"
     ]
    },
    {
     "data": {
      "text/html": [
       "Tracking run with wandb version 0.13.9"
      ],
      "text/plain": [
       "<IPython.core.display.HTML object>"
      ]
     },
     "metadata": {},
     "output_type": "display_data"
    },
    {
     "data": {
      "text/html": [
       "Run data is saved locally in <code>c:\\Users\\Dmitry\\Desktop\\code\\analysis_trus_images\\wandb\\run-20230405_144919-crx98mim</code>"
      ],
      "text/plain": [
       "<IPython.core.display.HTML object>"
      ]
     },
     "metadata": {},
     "output_type": "display_data"
    },
    {
     "data": {
      "text/html": [
       "Syncing run <strong><a href=\"https://wandb.ai/dalyutkin01/Trus_images/runs/crx98mim\" target=\"_blank\">ferengi-daedalus-128</a></strong> to <a href=\"https://wandb.ai/dalyutkin01/Trus_images\" target=\"_blank\">Weights & Biases</a> (<a href=\"https://wandb.me/run\" target=\"_blank\">docs</a>)<br/>"
      ],
      "text/plain": [
       "<IPython.core.display.HTML object>"
      ]
     },
     "metadata": {},
     "output_type": "display_data"
    },
    {
     "data": {
      "text/html": [
       " View project at <a href=\"https://wandb.ai/dalyutkin01/Trus_images\" target=\"_blank\">https://wandb.ai/dalyutkin01/Trus_images</a>"
      ],
      "text/plain": [
       "<IPython.core.display.HTML object>"
      ]
     },
     "metadata": {},
     "output_type": "display_data"
    },
    {
     "data": {
      "text/html": [
       " View run at <a href=\"https://wandb.ai/dalyutkin01/Trus_images/runs/crx98mim\" target=\"_blank\">https://wandb.ai/dalyutkin01/Trus_images/runs/crx98mim</a>"
      ],
      "text/plain": [
       "<IPython.core.display.HTML object>"
      ]
     },
     "metadata": {},
     "output_type": "display_data"
    },
    {
     "data": {
      "text/html": [
       "<button onClick=\"this.nextSibling.style.display='block';this.style.display='none';\">Display W&B run</button><iframe src=\"https://wandb.ai/dalyutkin01/Trus_images/runs/crx98mim?jupyter=true\" style=\"border:none;width:100%;height:420px;display:none;\"></iframe>"
      ],
      "text/plain": [
       "<wandb.sdk.wandb_run.Run at 0x24a18b00a90>"
      ]
     },
     "execution_count": 5,
     "metadata": {},
     "output_type": "execute_result"
    }
   ],
   "source": [
    "wandb.login()\n",
    "wandb.init(project=\"Trus_images\")"
   ]
  },
  {
   "cell_type": "code",
   "execution_count": 6,
   "metadata": {},
   "outputs": [],
   "source": [
    "preprocess = src.utils.dataset.Preprocessing(\n",
    "    dir='./data/',\n",
    "    img_size=768,\n",
    "    augmentation=True\n",
    ")"
   ]
  },
  {
   "cell_type": "code",
   "execution_count": 7,
   "metadata": {},
   "outputs": [],
   "source": [
    "clear_images, clear_masks = preprocess.load_folder()\n",
    "kfold = KFold(n_splits=PARAMS[\"num_splits\"], shuffle=True)\n",
    "fold_data = []\n",
    "for fold, (train_indices, test_indices) in enumerate(kfold.split(clear_masks)):\n",
    "    train_data = {\n",
    "        \"images\" : [clear_images[index] for index in train_indices],\n",
    "        \"masks\" : [clear_masks[index] for index in train_indices]\n",
    "    }\n",
    "    test_data = {\n",
    "        \"images\" : [clear_images[index] for index in test_indices],\n",
    "        \"masks\" : [clear_masks[index] for index in test_indices]\n",
    "    }\n",
    "    fold_data.append((train_data, test_data))"
   ]
  },
  {
   "cell_type": "code",
   "execution_count": 8,
   "metadata": {},
   "outputs": [
    {
     "name": "stdout",
     "output_type": "stream",
     "text": [
      "Training on fold 1...\n",
      "\n",
      "Epoch: 1\n",
      "train: 100%|██████████| 17/17 [00:21<00:00,  1.24s/it, dice_loss + bce_loss - 0.8478, iou_score - 0.1538]\n",
      "valid: 100%|██████████| 9/9 [00:10<00:00,  1.17s/it, dice_loss + bce_loss - 1.004, iou_score - 0.04458]  \n",
      "Model saved!\n",
      "\n",
      "Epoch: 2\n",
      "train: 100%|██████████| 17/17 [00:16<00:00,  1.01it/s, dice_loss + bce_loss - 0.7031, iou_score - 0.2384]\n",
      "valid: 100%|██████████| 9/9 [00:10<00:00,  1.21s/it, dice_loss + bce_loss - 0.8152, iou_score - 0.149]  \n",
      "Model saved!\n",
      "\n",
      "Epoch: 3\n",
      "train: 100%|██████████| 17/17 [00:16<00:00,  1.04it/s, dice_loss + bce_loss - 0.7306, iou_score - 0.2246]\n",
      "valid: 100%|██████████| 9/9 [00:10<00:00,  1.15s/it, dice_loss + bce_loss - 0.7942, iou_score - 0.1638] \n",
      "Model saved!\n",
      "\n",
      "Epoch: 4\n",
      "train: 100%|██████████| 17/17 [00:16<00:00,  1.06it/s, dice_loss + bce_loss - 0.74, iou_score - 0.2025]  \n",
      "valid: 100%|██████████| 9/9 [00:10<00:00,  1.17s/it, dice_loss + bce_loss - 0.6705, iou_score - 0.253] \n",
      "Model saved!\n",
      "\n",
      "Epoch: 5\n",
      "train: 100%|██████████| 17/17 [00:16<00:00,  1.04it/s, dice_loss + bce_loss - 0.6392, iou_score - 0.2851]\n",
      "valid: 100%|██████████| 9/9 [00:10<00:00,  1.17s/it, dice_loss + bce_loss - 0.737, iou_score - 0.2085] \n",
      "\n",
      "Epoch: 6\n",
      "train: 100%|██████████| 17/17 [00:16<00:00,  1.03it/s, dice_loss + bce_loss - 0.5965, iou_score - 0.3161]\n",
      "valid: 100%|██████████| 9/9 [00:10<00:00,  1.15s/it, dice_loss + bce_loss - 0.7211, iou_score - 0.2233]\n",
      "\n",
      "Epoch: 7\n",
      "train: 100%|██████████| 17/17 [00:16<00:00,  1.04it/s, dice_loss + bce_loss - 0.5098, iou_score - 0.3861]\n",
      "valid: 100%|██████████| 9/9 [00:10<00:00,  1.17s/it, dice_loss + bce_loss - 0.6941, iou_score - 0.245] \n",
      "\n",
      "Epoch: 8\n",
      "train: 100%|██████████| 17/17 [00:16<00:00,  1.02it/s, dice_loss + bce_loss - 0.4869, iou_score - 0.3956]\n",
      "valid: 100%|██████████| 9/9 [00:10<00:00,  1.17s/it, dice_loss + bce_loss - 0.675, iou_score - 0.2587] \n",
      "Model saved!\n",
      "\n",
      "Epoch: 9\n",
      "train: 100%|██████████| 17/17 [00:16<00:00,  1.03it/s, dice_loss + bce_loss - 0.4859, iou_score - 0.4087]\n",
      "valid: 100%|██████████| 9/9 [00:10<00:00,  1.15s/it, dice_loss + bce_loss - 0.6756, iou_score - 0.2584]\n",
      "\n",
      "Epoch: 10\n",
      "train: 100%|██████████| 17/17 [00:16<00:00,  1.04it/s, dice_loss + bce_loss - 0.4724, iou_score - 0.4219]\n",
      "valid: 100%|██████████| 9/9 [00:10<00:00,  1.17s/it, dice_loss + bce_loss - 0.6737, iou_score - 0.2596]\n",
      "Model saved!\n",
      "\n",
      "Epoch: 11\n",
      "train: 100%|██████████| 17/17 [00:16<00:00,  1.01it/s, dice_loss + bce_loss - 0.4544, iou_score - 0.4363]\n",
      "valid: 100%|██████████| 9/9 [00:10<00:00,  1.13s/it, dice_loss + bce_loss - 0.6749, iou_score - 0.2585]\n",
      "\n",
      "Epoch: 12\n",
      "train: 100%|██████████| 17/17 [00:16<00:00,  1.05it/s, dice_loss + bce_loss - 0.4744, iou_score - 0.4109]\n",
      "valid: 100%|██████████| 9/9 [00:09<00:00,  1.10s/it, dice_loss + bce_loss - 0.6749, iou_score - 0.2585]\n",
      "\n",
      "Epoch: 13\n",
      "train: 100%|██████████| 17/17 [00:16<00:00,  1.05it/s, dice_loss + bce_loss - 0.4267, iou_score - 0.4614]\n",
      "valid: 100%|██████████| 9/9 [00:10<00:00,  1.15s/it, dice_loss + bce_loss - 0.6773, iou_score - 0.2574]\n",
      "\n",
      "Epoch: 14\n",
      "train: 100%|██████████| 17/17 [00:16<00:00,  1.04it/s, dice_loss + bce_loss - 0.4524, iou_score - 0.4391]\n",
      "valid: 100%|██████████| 9/9 [00:10<00:00,  1.16s/it, dice_loss + bce_loss - 0.674, iou_score - 0.259]  \n",
      "\n",
      "Epoch: 15\n",
      "train: 100%|██████████| 17/17 [00:16<00:00,  1.02it/s, dice_loss + bce_loss - 0.4698, iou_score - 0.4233]\n",
      "valid: 100%|██████████| 9/9 [00:10<00:00,  1.15s/it, dice_loss + bce_loss - 0.678, iou_score - 0.2565] \n",
      "\n",
      "Epoch: 16\n",
      "train: 100%|██████████| 17/17 [00:16<00:00,  1.03it/s, dice_loss + bce_loss - 0.4294, iou_score - 0.4571]\n",
      "valid: 100%|██████████| 9/9 [00:10<00:00,  1.15s/it, dice_loss + bce_loss - 0.6791, iou_score - 0.2561]\n",
      "\n",
      "Epoch: 17\n",
      "train: 100%|██████████| 17/17 [00:16<00:00,  1.04it/s, dice_loss + bce_loss - 0.4587, iou_score - 0.4268]\n",
      "valid: 100%|██████████| 9/9 [00:10<00:00,  1.16s/it, dice_loss + bce_loss - 0.6754, iou_score - 0.2588]\n",
      "\n",
      "Epoch: 18\n",
      "train: 100%|██████████| 17/17 [00:16<00:00,  1.04it/s, dice_loss + bce_loss - 0.4799, iou_score - 0.4033]\n",
      "valid: 100%|██████████| 9/9 [00:10<00:00,  1.14s/it, dice_loss + bce_loss - 0.6774, iou_score - 0.2563]\n",
      "\n",
      "Epoch: 19\n",
      "train: 100%|██████████| 17/17 [00:16<00:00,  1.05it/s, dice_loss + bce_loss - 0.4596, iou_score - 0.4231]\n",
      "valid: 100%|██████████| 9/9 [00:10<00:00,  1.16s/it, dice_loss + bce_loss - 0.6768, iou_score - 0.2582]\n",
      "\n",
      "Epoch: 20\n",
      "train: 100%|██████████| 17/17 [00:16<00:00,  1.03it/s, dice_loss + bce_loss - 0.52, iou_score - 0.3773]  \n",
      "valid: 100%|██████████| 9/9 [00:10<00:00,  1.16s/it, dice_loss + bce_loss - 0.6718, iou_score - 0.2609]\n",
      "Model saved!\n",
      "Training on fold 2...\n",
      "\n",
      "Epoch: 1\n",
      "train: 100%|██████████| 17/17 [00:16<00:00,  1.03it/s, dice_loss + bce_loss - 0.8774, iou_score - 0.1181] \n",
      "valid: 100%|██████████| 9/9 [00:10<00:00,  1.19s/it, dice_loss + bce_loss - 0.8637, iou_score - 0.09633]\n",
      "\n",
      "Epoch: 2\n",
      "train: 100%|██████████| 17/17 [00:17<00:00,  1.04s/it, dice_loss + bce_loss - 0.7654, iou_score - 0.1991]\n",
      "valid: 100%|██████████| 9/9 [00:10<00:00,  1.15s/it, dice_loss + bce_loss - 0.7407, iou_score - 0.1931]\n",
      "\n",
      "Epoch: 3\n",
      "train: 100%|██████████| 17/17 [00:17<00:00,  1.04s/it, dice_loss + bce_loss - 0.7155, iou_score - 0.233] \n",
      "valid: 100%|██████████| 9/9 [00:10<00:00,  1.16s/it, dice_loss + bce_loss - 0.6735, iou_score - 0.257] \n",
      "\n",
      "Epoch: 4\n",
      "train: 100%|██████████| 17/17 [00:17<00:00,  1.03s/it, dice_loss + bce_loss - 0.746, iou_score - 0.2131] \n",
      "valid: 100%|██████████| 9/9 [00:10<00:00,  1.22s/it, dice_loss + bce_loss - 0.6758, iou_score - 0.2546]\n",
      "\n",
      "Epoch: 5\n",
      "train: 100%|██████████| 17/17 [00:18<00:00,  1.06s/it, dice_loss + bce_loss - 0.6597, iou_score - 0.2746]\n",
      "valid: 100%|██████████| 9/9 [00:10<00:00,  1.16s/it, dice_loss + bce_loss - 0.7582, iou_score - 0.1793] \n",
      "\n",
      "Epoch: 6\n",
      "train: 100%|██████████| 17/17 [00:17<00:00,  1.05s/it, dice_loss + bce_loss - 0.6537, iou_score - 0.2616] \n",
      "valid: 100%|██████████| 9/9 [00:10<00:00,  1.16s/it, dice_loss + bce_loss - 0.657, iou_score - 0.2636] \n",
      "Model saved!\n",
      "\n",
      "Epoch: 7\n",
      "train: 100%|██████████| 17/17 [00:17<00:00,  1.04s/it, dice_loss + bce_loss - 0.5241, iou_score - 0.3776]\n",
      "valid: 100%|██████████| 9/9 [00:10<00:00,  1.18s/it, dice_loss + bce_loss - 0.6548, iou_score - 0.2583]\n",
      "\n",
      "Epoch: 8\n",
      "train: 100%|██████████| 17/17 [00:17<00:00,  1.04s/it, dice_loss + bce_loss - 0.5199, iou_score - 0.3714]\n",
      "valid: 100%|██████████| 9/9 [00:10<00:00,  1.17s/it, dice_loss + bce_loss - 0.7037, iou_score - 0.2188]\n",
      "\n",
      "Epoch: 9\n",
      "train: 100%|██████████| 17/17 [00:18<00:00,  1.10s/it, dice_loss + bce_loss - 0.4976, iou_score - 0.4022]\n",
      "valid: 100%|██████████| 9/9 [00:10<00:00,  1.20s/it, dice_loss + bce_loss - 0.6552, iou_score - 0.263] \n",
      "\n",
      "Epoch: 10\n",
      "train: 100%|██████████| 17/17 [00:17<00:00,  1.04s/it, dice_loss + bce_loss - 0.5459, iou_score - 0.3549]\n",
      "valid: 100%|██████████| 9/9 [00:10<00:00,  1.15s/it, dice_loss + bce_loss - 0.6478, iou_score - 0.2701]\n",
      "Model saved!\n",
      "\n",
      "Epoch: 11\n",
      "train: 100%|██████████| 17/17 [00:18<00:00,  1.08s/it, dice_loss + bce_loss - 0.4608, iou_score - 0.429] \n",
      "valid: 100%|██████████| 9/9 [00:10<00:00,  1.16s/it, dice_loss + bce_loss - 0.6502, iou_score - 0.2665]\n",
      "\n",
      "Epoch: 12\n",
      "train: 100%|██████████| 17/17 [00:16<00:00,  1.01it/s, dice_loss + bce_loss - 0.467, iou_score - 0.433]  \n",
      "valid: 100%|██████████| 9/9 [00:10<00:00,  1.13s/it, dice_loss + bce_loss - 0.6553, iou_score - 0.2606]\n",
      "\n",
      "Epoch: 13\n",
      "train: 100%|██████████| 17/17 [00:16<00:00,  1.01it/s, dice_loss + bce_loss - 0.4751, iou_score - 0.4106]\n",
      "valid: 100%|██████████| 9/9 [00:10<00:00,  1.17s/it, dice_loss + bce_loss - 0.6504, iou_score - 0.2644]\n",
      "\n",
      "Epoch: 14\n",
      "train: 100%|██████████| 17/17 [00:17<00:00,  1.04s/it, dice_loss + bce_loss - 0.4753, iou_score - 0.4192]\n",
      "valid: 100%|██████████| 9/9 [00:10<00:00,  1.18s/it, dice_loss + bce_loss - 0.6545, iou_score - 0.261] \n",
      "\n",
      "Epoch: 15\n",
      "train: 100%|██████████| 17/17 [00:17<00:00,  1.03s/it, dice_loss + bce_loss - 0.4674, iou_score - 0.4284]\n",
      "valid: 100%|██████████| 9/9 [00:10<00:00,  1.17s/it, dice_loss + bce_loss - 0.6564, iou_score - 0.2585]\n",
      "\n",
      "Epoch: 16\n",
      "train: 100%|██████████| 17/17 [00:17<00:00,  1.02s/it, dice_loss + bce_loss - 0.53, iou_score - 0.3741]  \n",
      "valid: 100%|██████████| 9/9 [00:10<00:00,  1.20s/it, dice_loss + bce_loss - 0.6517, iou_score - 0.2631]\n",
      "\n",
      "Epoch: 17\n",
      "train: 100%|██████████| 17/17 [00:16<00:00,  1.03it/s, dice_loss + bce_loss - 0.4753, iou_score - 0.4233]\n",
      "valid: 100%|██████████| 9/9 [00:10<00:00,  1.15s/it, dice_loss + bce_loss - 0.6481, iou_score - 0.267] \n",
      "\n",
      "Epoch: 18\n",
      "train: 100%|██████████| 17/17 [00:16<00:00,  1.03it/s, dice_loss + bce_loss - 0.5, iou_score - 0.3918]   \n",
      "valid: 100%|██████████| 9/9 [00:10<00:00,  1.15s/it, dice_loss + bce_loss - 0.6463, iou_score - 0.2687]\n",
      "\n",
      "Epoch: 19\n",
      "train: 100%|██████████| 17/17 [00:17<00:00,  1.01s/it, dice_loss + bce_loss - 0.5098, iou_score - 0.3994]\n",
      "valid: 100%|██████████| 9/9 [00:10<00:00,  1.14s/it, dice_loss + bce_loss - 0.6477, iou_score - 0.267] \n",
      "\n",
      "Epoch: 20\n",
      "train: 100%|██████████| 17/17 [00:16<00:00,  1.02it/s, dice_loss + bce_loss - 0.5135, iou_score - 0.3923]\n",
      "valid: 100%|██████████| 9/9 [00:10<00:00,  1.15s/it, dice_loss + bce_loss - 0.6528, iou_score - 0.2617]\n",
      "Training on fold 3...\n",
      "\n",
      "Epoch: 1\n",
      "train: 100%|██████████| 17/17 [00:17<00:00,  1.04s/it, dice_loss + bce_loss - 1.047, iou_score - 0.1051] \n",
      "valid: 100%|██████████| 9/9 [00:10<00:00,  1.16s/it, dice_loss + bce_loss - 0.8346, iou_score - 0.1315] \n",
      "\n",
      "Epoch: 2\n",
      "train: 100%|██████████| 17/17 [00:17<00:00,  1.02s/it, dice_loss + bce_loss - 0.7183, iou_score - 0.2227]\n",
      "valid: 100%|██████████| 9/9 [00:10<00:00,  1.16s/it, dice_loss + bce_loss - 0.8156, iou_score - 0.1495] \n",
      "\n",
      "Epoch: 3\n",
      "train: 100%|██████████| 17/17 [00:18<00:00,  1.08s/it, dice_loss + bce_loss - 0.652, iou_score - 0.2722] \n",
      "valid: 100%|██████████| 9/9 [00:10<00:00,  1.19s/it, dice_loss + bce_loss - 0.8044, iou_score - 0.1536]\n",
      "\n",
      "Epoch: 4\n",
      "train: 100%|██████████| 17/17 [00:17<00:00,  1.01s/it, dice_loss + bce_loss - 0.6674, iou_score - 0.2562]\n",
      "valid: 100%|██████████| 9/9 [00:10<00:00,  1.15s/it, dice_loss + bce_loss - 0.7231, iou_score - 0.2142]\n",
      "\n",
      "Epoch: 5\n",
      "train: 100%|██████████| 17/17 [00:17<00:00,  1.02s/it, dice_loss + bce_loss - 0.6387, iou_score - 0.2808]\n",
      "valid: 100%|██████████| 9/9 [00:10<00:00,  1.15s/it, dice_loss + bce_loss - 0.7411, iou_score - 0.2107]\n",
      "\n",
      "Epoch: 6\n",
      "train: 100%|██████████| 17/17 [00:17<00:00,  1.02s/it, dice_loss + bce_loss - 0.5968, iou_score - 0.3216]\n",
      "valid: 100%|██████████| 9/9 [00:10<00:00,  1.17s/it, dice_loss + bce_loss - 0.7453, iou_score - 0.2153]\n",
      "\n",
      "Epoch: 7\n",
      "train: 100%|██████████| 17/17 [00:17<00:00,  1.02s/it, dice_loss + bce_loss - 0.565, iou_score - 0.3462] \n",
      "valid: 100%|██████████| 9/9 [00:10<00:00,  1.18s/it, dice_loss + bce_loss - 0.7167, iou_score - 0.219] \n",
      "\n",
      "Epoch: 8\n",
      "train: 100%|██████████| 17/17 [00:18<00:00,  1.06s/it, dice_loss + bce_loss - 0.4672, iou_score - 0.4327]\n",
      "valid: 100%|██████████| 9/9 [00:10<00:00,  1.15s/it, dice_loss + bce_loss - 0.6895, iou_score - 0.2398]\n",
      "\n",
      "Epoch: 9\n",
      "train: 100%|██████████| 17/17 [00:16<00:00,  1.04it/s, dice_loss + bce_loss - 0.4546, iou_score - 0.4317]\n",
      "valid: 100%|██████████| 9/9 [00:10<00:00,  1.14s/it, dice_loss + bce_loss - 0.6819, iou_score - 0.246] \n",
      "\n",
      "Epoch: 10\n",
      "train: 100%|██████████| 17/17 [00:16<00:00,  1.00it/s, dice_loss + bce_loss - 0.4612, iou_score - 0.4338]\n",
      "valid: 100%|██████████| 9/9 [00:10<00:00,  1.19s/it, dice_loss + bce_loss - 0.6834, iou_score - 0.2464]\n",
      "\n",
      "Epoch: 11\n",
      "train: 100%|██████████| 17/17 [00:17<00:00,  1.01s/it, dice_loss + bce_loss - 0.4148, iou_score - 0.4803]\n",
      "valid: 100%|██████████| 9/9 [00:10<00:00,  1.14s/it, dice_loss + bce_loss - 0.6976, iou_score - 0.2331]\n",
      "\n",
      "Epoch: 12\n",
      "train: 100%|██████████| 17/17 [00:16<00:00,  1.00it/s, dice_loss + bce_loss - 0.4506, iou_score - 0.4476]\n",
      "valid: 100%|██████████| 9/9 [00:10<00:00,  1.15s/it, dice_loss + bce_loss - 0.688, iou_score - 0.2407] \n",
      "\n",
      "Epoch: 13\n",
      "train: 100%|██████████| 17/17 [00:16<00:00,  1.02it/s, dice_loss + bce_loss - 0.422, iou_score - 0.4567] \n",
      "valid: 100%|██████████| 9/9 [00:10<00:00,  1.14s/it, dice_loss + bce_loss - 0.6847, iou_score - 0.2438]\n",
      "\n",
      "Epoch: 14\n",
      "train: 100%|██████████| 17/17 [00:16<00:00,  1.01it/s, dice_loss + bce_loss - 0.458, iou_score - 0.4372] \n",
      "valid: 100%|██████████| 9/9 [00:10<00:00,  1.14s/it, dice_loss + bce_loss - 0.6835, iou_score - 0.2455]\n",
      "\n",
      "Epoch: 15\n",
      "train: 100%|██████████| 17/17 [00:16<00:00,  1.02it/s, dice_loss + bce_loss - 0.4268, iou_score - 0.4581]\n",
      "valid: 100%|██████████| 9/9 [00:10<00:00,  1.13s/it, dice_loss + bce_loss - 0.683, iou_score - 0.2459] \n",
      "\n",
      "Epoch: 16\n",
      "train: 100%|██████████| 17/17 [00:16<00:00,  1.01it/s, dice_loss + bce_loss - 0.508, iou_score - 0.3877] \n",
      "valid: 100%|██████████| 9/9 [00:10<00:00,  1.15s/it, dice_loss + bce_loss - 0.6828, iou_score - 0.2462]\n",
      "\n",
      "Epoch: 17\n",
      "train: 100%|██████████| 17/17 [00:16<00:00,  1.02it/s, dice_loss + bce_loss - 0.3717, iou_score - 0.5168]\n",
      "valid: 100%|██████████| 9/9 [00:10<00:00,  1.15s/it, dice_loss + bce_loss - 0.687, iou_score - 0.2422] \n",
      "\n",
      "Epoch: 18\n",
      "train: 100%|██████████| 17/17 [00:16<00:00,  1.00it/s, dice_loss + bce_loss - 0.4696, iou_score - 0.4204]\n",
      "valid: 100%|██████████| 9/9 [00:10<00:00,  1.16s/it, dice_loss + bce_loss - 0.6824, iou_score - 0.2463]\n",
      "\n",
      "Epoch: 19\n",
      "train: 100%|██████████| 17/17 [00:16<00:00,  1.01it/s, dice_loss + bce_loss - 0.4679, iou_score - 0.4272]\n",
      "valid: 100%|██████████| 9/9 [00:10<00:00,  1.16s/it, dice_loss + bce_loss - 0.6825, iou_score - 0.2464]\n",
      "\n",
      "Epoch: 20\n",
      "train: 100%|██████████| 17/17 [00:16<00:00,  1.01it/s, dice_loss + bce_loss - 0.3965, iou_score - 0.4837]\n",
      "valid: 100%|██████████| 9/9 [00:10<00:00,  1.17s/it, dice_loss + bce_loss - 0.685, iou_score - 0.2443] \n"
     ]
    },
    {
     "data": {
      "text/html": [
       "Waiting for W&B process to finish... <strong style=\"color:green\">(success).</strong>"
      ],
      "text/plain": [
       "<IPython.core.display.HTML object>"
      ]
     },
     "metadata": {},
     "output_type": "display_data"
    },
    {
     "data": {
      "application/vnd.jupyter.widget-view+json": {
       "model_id": "ecdc5f97f7c84a08bc86888eb721210a",
       "version_major": 2,
       "version_minor": 0
      },
      "text/plain": [
       "VBox(children=(Label(value='0.001 MB of 0.037 MB uploaded (0.000 MB deduped)\\r'), FloatProgress(value=0.035739…"
      ]
     },
     "metadata": {},
     "output_type": "display_data"
    },
    {
     "data": {
      "text/html": [
       "<style>\n",
       "    table.wandb td:nth-child(1) { padding: 0 10px; text-align: left ; width: auto;} td:nth-child(2) {text-align: left ; width: 100%}\n",
       "    .wandb-row { display: flex; flex-direction: row; flex-wrap: wrap; justify-content: flex-start; width: 100% }\n",
       "    .wandb-col { display: flex; flex-direction: column; flex-basis: 100%; flex: 1; padding: 10px; }\n",
       "    </style>\n",
       "<div class=\"wandb-row\"><div class=\"wandb-col\"><h3>Run history:</h3><br/><table class=\"wandb\"><tr><td>fold_1/train/train_IoU</td><td>▁▃▃▂▄▅▆▇▇▇▇▇█▇▇█▇▇▇▆</td></tr><tr><td>fold_1/train/train_loss</td><td>█▆▆▆▅▄▂▂▂▂▁▂▁▁▂▁▂▂▂▃</td></tr><tr><td>fold_1/valid/valid_IoU</td><td>▁▄▅█▆▇▇█████████████</td></tr><tr><td>fold_1/valid/valid_loss</td><td>█▄▄▁▂▂▁▁▁▁▁▁▁▁▁▁▁▁▁▁</td></tr><tr><td>fold_2/train/train_IoU</td><td>▁▃▄▃▄▄▇▇▇▆█████▇█▇▇▇</td></tr><tr><td>fold_2/train/train_loss</td><td>█▆▅▆▄▄▂▂▂▂▁▁▁▁▁▂▁▂▂▂</td></tr><tr><td>fold_2/valid/valid_IoU</td><td>▁▅▇▇▄██▆████████████</td></tr><tr><td>fold_2/valid/valid_loss</td><td>█▄▂▂▅▁▁▃▁▁▁▁▁▁▁▁▁▁▁▁</td></tr><tr><td>fold_3/train/train_IoU</td><td>▁▃▄▄▄▅▅▇▇▇▇▇▇▇▇▆█▆▆▇</td></tr><tr><td>fold_3/train/train_loss</td><td>█▅▄▄▄▃▃▂▂▂▁▂▂▂▂▂▁▂▂▁</td></tr><tr><td>fold_3/valid/valid_IoU</td><td>▁▂▂▆▆▆▆███▇█████████</td></tr><tr><td>fold_3/valid/valid_loss</td><td>█▇▇▃▄▄▃▁▁▁▂▁▁▁▁▁▁▁▁▁</td></tr></table><br/></div><div class=\"wandb-col\"><h3>Run summary:</h3><br/><table class=\"wandb\"><tr><td>fold_1/train/train_IoU</td><td>0.37735</td></tr><tr><td>fold_1/train/train_loss</td><td>0.51996</td></tr><tr><td>fold_1/valid/valid_IoU</td><td>0.26087</td></tr><tr><td>fold_1/valid/valid_loss</td><td>0.67177</td></tr><tr><td>fold_2/train/train_IoU</td><td>0.3923</td></tr><tr><td>fold_2/train/train_loss</td><td>0.51353</td></tr><tr><td>fold_2/valid/valid_IoU</td><td>0.26169</td></tr><tr><td>fold_2/valid/valid_loss</td><td>0.65281</td></tr><tr><td>fold_3/train/train_IoU</td><td>0.48367</td></tr><tr><td>fold_3/train/train_loss</td><td>0.39653</td></tr><tr><td>fold_3/valid/valid_IoU</td><td>0.24426</td></tr><tr><td>fold_3/valid/valid_loss</td><td>0.68499</td></tr></table><br/></div></div>"
      ],
      "text/plain": [
       "<IPython.core.display.HTML object>"
      ]
     },
     "metadata": {},
     "output_type": "display_data"
    },
    {
     "data": {
      "text/html": [
       " View run <strong style=\"color:#cdcd00\">ferengi-daedalus-128</strong> at: <a href=\"https://wandb.ai/dalyutkin01/Trus_images/runs/crx98mim\" target=\"_blank\">https://wandb.ai/dalyutkin01/Trus_images/runs/crx98mim</a><br/>Synced 5 W&B file(s), 0 media file(s), 0 artifact file(s) and 0 other file(s)"
      ],
      "text/plain": [
       "<IPython.core.display.HTML object>"
      ]
     },
     "metadata": {},
     "output_type": "display_data"
    },
    {
     "data": {
      "text/html": [
       "Find logs at: <code>.\\wandb\\run-20230405_144919-crx98mim\\logs</code>"
      ],
      "text/plain": [
       "<IPython.core.display.HTML object>"
      ]
     },
     "metadata": {},
     "output_type": "display_data"
    }
   ],
   "source": [
    "track = 0\n",
    "TEST_IMAGES = 0\n",
    "TEST_MASKS = 0\n",
    "loader_for_top_model = 0\n",
    "for fold, (train_data, test_data) in enumerate(fold_data):\n",
    "    print(f\"Training on fold {fold + 1}...\")\n",
    "    model = src.FPN(\n",
    "        encoder_name=ENCODER, \n",
    "        encoder_weights=ENCODER_WEIGHTS,\n",
    "        in_channels=1,\n",
    "        classes=1,\n",
    "        activation=ACTIVATION,\n",
    "    )\n",
    "    optimizer = torch.optim.Adam([dict(params=model.parameters(), lr=PARAMS[\"lr\"]),])\n",
    "    scheduler = torch.optim.lr_scheduler.ReduceLROnPlateau(optimizer, mode='min',\n",
    "        factor=0.1, patience=1, threshold=0.0001, threshold_mode='abs')\n",
    "    # scheduler = torch.optim.lr_scheduler.ExponentialLR(optimizer, gamma=0.02)\n",
    "    train_epoch = src.utils.train.TrainEpoch(\n",
    "        model, \n",
    "        loss=loss, \n",
    "        metrics=metrics, \n",
    "        optimizer=optimizer,\n",
    "        device=DEVICE,\n",
    "        verbose=True,\n",
    "    )\n",
    "    valid_epoch = src.utils.train.ValidEpoch(\n",
    "        model,\n",
    "        loss=loss, \n",
    "        metrics=metrics, \n",
    "        device=DEVICE,\n",
    "        verbose=True,\n",
    "    )\n",
    "    \n",
    "    train_dataloader, valid_dataloader = preprocess.Generator(\n",
    "        batch_size=PARAMS[\"batch_size\"],\n",
    "        X_train=train_data[\"images\"],\n",
    "        y_train=train_data[\"masks\"],\n",
    "        X_test=test_data[\"images\"],\n",
    "        y_test=test_data[\"masks\"]\n",
    "    )\n",
    "    for epoch in range(0, 20):\n",
    "        print('\\nEpoch: {}'.format(epoch + 1))\n",
    "        train_logs = train_epoch.run(train_dataloader)\n",
    "        valid_logs = valid_epoch.run(valid_dataloader)\n",
    "        \n",
    "        wandb.log({\n",
    "            f'fold_{fold+1}/train/train_IoU': train_logs['iou_score'],\n",
    "            f'fold_{fold+1}/train/train_loss': train_logs['dice_loss + bce_loss']\n",
    "        })\n",
    "        wandb.log({\n",
    "            f'fold_{fold+1}/valid/valid_IoU': valid_logs['iou_score'], \n",
    "            f'fold_{fold+1}/valid/valid_loss': valid_logs['dice_loss + bce_loss']\n",
    "        })\n",
    "        \n",
    "        scheduler.step(valid_logs['dice_loss + bce_loss'])\n",
    "        if track < valid_logs['iou_score']:\n",
    "            TEST_IMAGES = test_data[\"images\"]\n",
    "            TEST_MASKS = test_data[\"masks\"]\n",
    "            track = valid_logs['iou_score']\n",
    "            loader_for_top_model = test_data\n",
    "            torch.save({\n",
    "                'model_state_dict': model.state_dict(),\n",
    "                'best_IoU' : track\n",
    "                }, f'./checkpoint/best_model_{PARAMS[\"num_splits\"]}fold.pth')\n",
    "            print('Model saved!')\n",
    "wandb.finish()"
   ]
  },
  {
   "cell_type": "code",
   "execution_count": 9,
   "metadata": {},
   "outputs": [
    {
     "data": {
      "text/plain": [
       "0.27013885312610203"
      ]
     },
     "execution_count": 9,
     "metadata": {},
     "output_type": "execute_result"
    }
   ],
   "source": [
    "valid_pred_folder = './valid_predict_kfold_v1/'\n",
    "checkpoint = torch.load(f'./checkpoint/best_model_{PARAMS[\"num_splits\"]}fold.pth')\n",
    "model.load_state_dict(checkpoint['model_state_dict'])\n",
    "checkpoint['best_IoU']"
   ]
  },
  {
   "cell_type": "code",
   "execution_count": 10,
   "metadata": {},
   "outputs": [],
   "source": [
    "shape = TEST_IMAGES[0].shape[:2]\n",
    "preds = []\n",
    "for image in TEST_IMAGES:\n",
    "    image_prepoc = preprocess.prepocessing_image(image)\n",
    "    image_prepoc = torch.tensor(np.array([[image_prepoc]]), dtype = torch.float)\n",
    "    image_prepoc = image_prepoc.to(DEVICE)\n",
    "    with torch.no_grad():\n",
    "        predict = model.forward(image_prepoc)\n",
    "    predict_value = predict.cpu().detach().numpy()\n",
    "    preds.append(predict_value)"
   ]
  },
  {
   "cell_type": "code",
   "execution_count": 11,
   "metadata": {},
   "outputs": [],
   "source": [
    "for num in range(len(TEST_IMAGES)):\n",
    "    true_mask = TEST_MASKS[num]\n",
    "    greenBGR = src.utils.plotting.Visual.green_chanel(true_mask)\n",
    "    concat_true = cv2.addWeighted(TEST_IMAGES[num], 0.4, TEST_MASKS[num], 0.9, 0)\n",
    "    \n",
    "    #resize true image and create 3rd channels\n",
    "    cvtColor = cv2.cvtColor(TEST_IMAGES[num], cv2.COLOR_BGR2GRAY )\n",
    "    resize_image = cv2.resize(cvtColor, (1280, 872), interpolation = cv2.INTER_AREA)\n",
    "    resize_image = cv2.cvtColor(resize_image, cv2.COLOR_BGR2RGB)\n",
    "    \n",
    "    #preproc predict\n",
    "    predict_mask = src.utils.plotting.Visual.preproc_predict(preds[num])\n",
    "    blueBGR_predict = src.utils.plotting.Visual.blue_chanel_predict(predict_mask)\n",
    "    greenBGR_predict = src.utils.plotting.Visual.green_chanel_predict(predict_mask)\n",
    "    \n",
    "    #calc IoU\n",
    "    IoU = src.utils.plotting.Visual.calc_IoU(greenBGR, greenBGR_predict)\n",
    "    \n",
    "    #concat two masks\n",
    "    bitwiseAnd = cv2.bitwise_or(greenBGR, blueBGR_predict)\n",
    "    \n",
    "    #concat true images with mask\n",
    "    concat_predict = cv2.addWeighted(resize_image, 0.4, bitwiseAnd, 0.7, 0)\n",
    "    concat_predict_resize = cv2.resize(concat_predict, (1280, 872), interpolation = cv2.INTER_AREA)\n",
    "    \n",
    "    #put text\n",
    "    font = cv2.FONT_HERSHEY_SIMPLEX\n",
    "    org = (570, 50)\n",
    "    fontScale = 1\n",
    "    color = (0, 255, 255)\n",
    "    thickness = 2\n",
    "    image = cv2.putText(concat_predict_resize, 'IoU ' + str(round(IoU, 3)), org, font, \n",
    "                   fontScale, color, thickness, cv2.LINE_AA)\n",
    "    \n",
    "    #save \n",
    "    cv2.imwrite(filename=os.path.join(valid_pred_folder + str(num) + \"_true\" + '.png'), img=concat_true)\n",
    "    cv2.imwrite(filename=os.path.join(valid_pred_folder + str(num) + \"_predict\" + '.png'), img=concat_predict_resize)"
   ]
  },
  {
   "cell_type": "code",
   "execution_count": null,
   "metadata": {},
   "outputs": [],
   "source": []
  }
 ],
 "metadata": {
  "kernelspec": {
   "display_name": "env_trus",
   "language": "python",
   "name": "python3"
  },
  "language_info": {
   "codemirror_mode": {
    "name": "ipython",
    "version": 3
   },
   "file_extension": ".py",
   "mimetype": "text/x-python",
   "name": "python",
   "nbconvert_exporter": "python",
   "pygments_lexer": "ipython3",
   "version": "3.9.13"
  },
  "orig_nbformat": 4,
  "vscode": {
   "interpreter": {
    "hash": "4af9a2159fab24886d4f91335261a63555b0395985130eb8d259fcbaf5c78d65"
   }
  }
 },
 "nbformat": 4,
 "nbformat_minor": 2
}
