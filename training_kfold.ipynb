{
 "cells": [
  {
   "cell_type": "code",
   "execution_count": 1,
   "metadata": {},
   "outputs": [],
   "source": [
    "import torch\n",
    "import src\n",
    "import wandb\n",
    "import numpy as np\n",
    "import os\n",
    "import cv2\n",
    "import random\n",
    "\n",
    "from PIL import Image\n",
    "from sklearn.model_selection import KFold"
   ]
  },
  {
   "cell_type": "code",
   "execution_count": 2,
   "metadata": {},
   "outputs": [],
   "source": [
    "def set_random_seed(seed):\n",
    "    torch.backends.cudnn.deterministic = True\n",
    "    torch.manual_seed(seed)\n",
    "    torch.cuda.manual_seed(seed)\n",
    "    np.random.seed(seed)\n",
    "    random.seed(seed)"
   ]
  },
  {
   "cell_type": "code",
   "execution_count": 3,
   "metadata": {},
   "outputs": [],
   "source": [
    "ENCODER = 'resnet152'\n",
    "ENCODER_WEIGHTS = 'imagenet'\n",
    "ACTIVATION = 'sigmoid' # could be None for logits or 'softmax2d' for multicalss segmentation\n",
    "DEVICE = ('cuda' if torch.cuda.is_available() else 'cpu') \n",
    "PARAMS = {\n",
    "    \"lr\" : 0.0001,\n",
    "    \"batch_size\" : 1,\n",
    "    \"num_splits\" : 3,\n",
    "}\n",
    "set_random_seed(345262)"
   ]
  },
  {
   "cell_type": "code",
   "execution_count": 4,
   "metadata": {},
   "outputs": [],
   "source": [
    "loss = src.utils.base.SumOfLosses(\n",
    "    src.utils.losses.DiceLoss(),\n",
    "    src.utils.losses.BCELoss()\n",
    ")\n",
    "\n",
    "metrics = [\n",
    "    src.utils.metrics.IoU(threshold=0.5)\n",
    "]"
   ]
  },
  {
   "cell_type": "code",
   "execution_count": 5,
   "metadata": {},
   "outputs": [
    {
     "name": "stderr",
     "output_type": "stream",
     "text": [
      "Failed to detect the name of this notebook, you can set it manually with the WANDB_NOTEBOOK_NAME environment variable to enable code saving.\n",
      "\u001b[34m\u001b[1mwandb\u001b[0m: Currently logged in as: \u001b[33mdalyutkin01\u001b[0m. Use \u001b[1m`wandb login --relogin`\u001b[0m to force relogin\n"
     ]
    },
    {
     "data": {
      "text/html": [
       "wandb version 0.14.1 is available!  To upgrade, please run:\n",
       " $ pip install wandb --upgrade"
      ],
      "text/plain": [
       "<IPython.core.display.HTML object>"
      ]
     },
     "metadata": {},
     "output_type": "display_data"
    },
    {
     "data": {
      "text/html": [
       "Tracking run with wandb version 0.13.9"
      ],
      "text/plain": [
       "<IPython.core.display.HTML object>"
      ]
     },
     "metadata": {},
     "output_type": "display_data"
    },
    {
     "data": {
      "text/html": [
       "Run data is saved locally in <code>c:\\Users\\Dmitry\\Desktop\\code\\analysis_trus_images\\wandb\\run-20230406_162015-teo5bjjp</code>"
      ],
      "text/plain": [
       "<IPython.core.display.HTML object>"
      ]
     },
     "metadata": {},
     "output_type": "display_data"
    },
    {
     "data": {
      "text/html": [
       "Syncing run <strong><a href=\"https://wandb.ai/dalyutkin01/Trus_images/runs/teo5bjjp\" target=\"_blank\">andorian-resistance-217</a></strong> to <a href=\"https://wandb.ai/dalyutkin01/Trus_images\" target=\"_blank\">Weights & Biases</a> (<a href=\"https://wandb.me/run\" target=\"_blank\">docs</a>)<br/>"
      ],
      "text/plain": [
       "<IPython.core.display.HTML object>"
      ]
     },
     "metadata": {},
     "output_type": "display_data"
    },
    {
     "data": {
      "text/html": [
       " View project at <a href=\"https://wandb.ai/dalyutkin01/Trus_images\" target=\"_blank\">https://wandb.ai/dalyutkin01/Trus_images</a>"
      ],
      "text/plain": [
       "<IPython.core.display.HTML object>"
      ]
     },
     "metadata": {},
     "output_type": "display_data"
    },
    {
     "data": {
      "text/html": [
       " View run at <a href=\"https://wandb.ai/dalyutkin01/Trus_images/runs/teo5bjjp\" target=\"_blank\">https://wandb.ai/dalyutkin01/Trus_images/runs/teo5bjjp</a>"
      ],
      "text/plain": [
       "<IPython.core.display.HTML object>"
      ]
     },
     "metadata": {},
     "output_type": "display_data"
    },
    {
     "data": {
      "text/html": [
       "<button onClick=\"this.nextSibling.style.display='block';this.style.display='none';\">Display W&B run</button><iframe src=\"https://wandb.ai/dalyutkin01/Trus_images/runs/teo5bjjp?jupyter=true\" style=\"border:none;width:100%;height:420px;display:none;\"></iframe>"
      ],
      "text/plain": [
       "<wandb.sdk.wandb_run.Run at 0x265190a9dc0>"
      ]
     },
     "execution_count": 5,
     "metadata": {},
     "output_type": "execute_result"
    }
   ],
   "source": [
    "wandb.login()\n",
    "wandb.init(project=\"Trus_images\")"
   ]
  },
  {
   "cell_type": "code",
   "execution_count": 6,
   "metadata": {},
   "outputs": [],
   "source": [
    "preprocess = src.utils.dataset.Preprocessing(\n",
    "    dir='./data/',\n",
    "    img_size=768,\n",
    "    augmentation=False\n",
    ")"
   ]
  },
  {
   "cell_type": "code",
   "execution_count": 7,
   "metadata": {},
   "outputs": [],
   "source": [
    "clear_images, clear_masks = preprocess.load_folder()\n",
    "kfold = KFold(n_splits=PARAMS[\"num_splits\"], shuffle=True)\n",
    "fold_data = []\n",
    "for fold, (train_indices, test_indices) in enumerate(kfold.split(clear_masks)):\n",
    "    train_data = {\n",
    "        \"images\" : [clear_images[index] for index in train_indices],\n",
    "        \"masks\" : [clear_masks[index] for index in train_indices]\n",
    "    }\n",
    "    test_data = {\n",
    "        \"images\" : [clear_images[index] for index in test_indices],\n",
    "        \"masks\" : [clear_masks[index] for index in test_indices]\n",
    "    }\n",
    "    fold_data.append((train_data, test_data))"
   ]
  },
  {
   "cell_type": "code",
   "execution_count": null,
   "metadata": {},
   "outputs": [],
   "source": []
  },
  {
   "cell_type": "code",
   "execution_count": 8,
   "metadata": {},
   "outputs": [],
   "source": [
    "# import matplotlib.pyplot as plt\n",
    "# img = clear_images[1]\n",
    "# # cv2.imshow(\"original\", img)\n",
    " \n",
    "# # Display cropped image\n",
    "# b, g, r = cv2.split(img)\n",
    "# np.multiply(b, 1.4, out=b, casting=\"unsafe\")\n",
    "# np.multiply(g, 1.7, out=g, casting=\"unsafe\")\n",
    "# np.multiply(r, 3, out=r, casting=\"unsafe\")\n",
    "\n",
    "# after = cv2.merge([b, g, r])\n",
    "\n",
    "# cv2.imshow('before', img)\n",
    "# cv2.imshow('after', after)\n",
    "# cv2.waitKey()"
   ]
  },
  {
   "cell_type": "code",
   "execution_count": 9,
   "metadata": {},
   "outputs": [],
   "source": [
    "# img = preprocess.prepocessing_image(clear_images[0])\n",
    "# img.sum()\n",
    "# cv2.imshow('after', img)\n",
    "# cv2.waitKey()"
   ]
  },
  {
   "cell_type": "code",
   "execution_count": 10,
   "metadata": {},
   "outputs": [
    {
     "name": "stdout",
     "output_type": "stream",
     "text": [
      "Training on fold 1...\n",
      "\n",
      "Epoch: 1\n",
      "train: 100%|██████████| 68/68 [00:29<00:00,  2.34it/s, dice_loss + bce_loss - 0.8054, iou_score - 0.1968] \n",
      "valid: 100%|██████████| 34/34 [00:13<00:00,  2.59it/s, dice_loss + bce_loss - 0.7677, iou_score - 0.2337] \n",
      "Model saved!\n",
      "\n",
      "Epoch: 2\n",
      "train: 100%|██████████| 68/68 [00:21<00:00,  3.13it/s, dice_loss + bce_loss - 0.6034, iou_score - 0.3598]\n",
      "valid: 100%|██████████| 34/34 [00:11<00:00,  2.98it/s, dice_loss + bce_loss - 0.7646, iou_score - 0.2671]\n",
      "Model saved!\n",
      "\n",
      "Epoch: 3\n",
      "train: 100%|██████████| 68/68 [00:21<00:00,  3.21it/s, dice_loss + bce_loss - 0.5197, iou_score - 0.4211]\n",
      "valid: 100%|██████████| 34/34 [00:11<00:00,  3.00it/s, dice_loss + bce_loss - 0.7774, iou_score - 0.2919]\n",
      "Model saved!\n",
      "\n",
      "Epoch: 4\n",
      "train: 100%|██████████| 68/68 [00:21<00:00,  3.20it/s, dice_loss + bce_loss - 0.3954, iou_score - 0.5201]\n",
      "valid: 100%|██████████| 34/34 [00:11<00:00,  2.99it/s, dice_loss + bce_loss - 0.7929, iou_score - 0.2585] \n",
      "\n",
      "Epoch: 5\n",
      "train: 100%|██████████| 68/68 [00:21<00:00,  3.19it/s, dice_loss + bce_loss - 0.2783, iou_score - 0.6298]\n",
      "valid: 100%|██████████| 34/34 [00:11<00:00,  3.02it/s, dice_loss + bce_loss - 0.7395, iou_score - 0.307] \n",
      "Model saved!\n",
      "\n",
      "Epoch: 6\n",
      "train: 100%|██████████| 68/68 [00:21<00:00,  3.18it/s, dice_loss + bce_loss - 0.2134, iou_score - 0.7061]\n",
      "valid: 100%|██████████| 34/34 [00:11<00:00,  3.01it/s, dice_loss + bce_loss - 0.7773, iou_score - 0.2804]\n",
      "\n",
      "Epoch: 7\n",
      "train: 100%|██████████| 68/68 [00:21<00:00,  3.16it/s, dice_loss + bce_loss - 0.1806, iou_score - 0.7479]\n",
      "valid: 100%|██████████| 34/34 [00:11<00:00,  3.08it/s, dice_loss + bce_loss - 0.8312, iou_score - 0.2484]\n",
      "\n",
      "Epoch: 8\n",
      "train: 100%|██████████| 68/68 [00:21<00:00,  3.21it/s, dice_loss + bce_loss - 0.1498, iou_score - 0.7823]\n",
      "valid: 100%|██████████| 34/34 [00:11<00:00,  3.04it/s, dice_loss + bce_loss - 0.7922, iou_score - 0.2761]\n",
      "\n",
      "Epoch: 9\n",
      "train: 100%|██████████| 68/68 [00:21<00:00,  3.20it/s, dice_loss + bce_loss - 0.1422, iou_score - 0.7926]\n",
      "valid: 100%|██████████| 34/34 [00:11<00:00,  3.05it/s, dice_loss + bce_loss - 0.7709, iou_score - 0.2915]\n",
      "\n",
      "Epoch: 10\n",
      "train: 100%|██████████| 68/68 [00:21<00:00,  3.23it/s, dice_loss + bce_loss - 0.1387, iou_score - 0.7997]\n",
      "valid: 100%|██████████| 34/34 [00:11<00:00,  3.05it/s, dice_loss + bce_loss - 0.7743, iou_score - 0.2883]\n",
      "\n",
      "Epoch: 11\n",
      "train: 100%|██████████| 68/68 [00:21<00:00,  3.16it/s, dice_loss + bce_loss - 0.1363, iou_score - 0.8025]\n",
      "valid: 100%|██████████| 34/34 [00:11<00:00,  3.01it/s, dice_loss + bce_loss - 0.7639, iou_score - 0.2972]\n",
      "\n",
      "Epoch: 12\n",
      "train: 100%|██████████| 68/68 [00:21<00:00,  3.23it/s, dice_loss + bce_loss - 0.1324, iou_score - 0.8074]\n",
      "valid: 100%|██████████| 34/34 [00:11<00:00,  3.07it/s, dice_loss + bce_loss - 0.7934, iou_score - 0.2747]\n",
      "\n",
      "Epoch: 13\n",
      "train: 100%|██████████| 68/68 [00:21<00:00,  3.22it/s, dice_loss + bce_loss - 0.1365, iou_score - 0.8025]\n",
      "valid: 100%|██████████| 34/34 [00:11<00:00,  3.04it/s, dice_loss + bce_loss - 0.7865, iou_score - 0.2813]\n",
      "\n",
      "Epoch: 14\n",
      "train: 100%|██████████| 68/68 [00:21<00:00,  3.23it/s, dice_loss + bce_loss - 0.1361, iou_score - 0.802] \n",
      "valid: 100%|██████████| 34/34 [00:11<00:00,  3.05it/s, dice_loss + bce_loss - 0.789, iou_score - 0.2777] \n",
      "\n",
      "Epoch: 15\n",
      "train: 100%|██████████| 68/68 [00:21<00:00,  3.22it/s, dice_loss + bce_loss - 0.1361, iou_score - 0.8023]\n",
      "valid: 100%|██████████| 34/34 [00:11<00:00,  3.03it/s, dice_loss + bce_loss - 0.7723, iou_score - 0.2883]\n",
      "Training on fold 2...\n",
      "\n",
      "Epoch: 1\n",
      "train: 100%|██████████| 68/68 [00:21<00:00,  3.19it/s, dice_loss + bce_loss - 0.8624, iou_score - 0.1712] \n",
      "valid: 100%|██████████| 34/34 [00:11<00:00,  3.06it/s, dice_loss + bce_loss - 0.6792, iou_score - 0.3157]\n",
      "Model saved!\n",
      "\n",
      "Epoch: 2\n",
      "train: 100%|██████████| 68/68 [00:21<00:00,  3.20it/s, dice_loss + bce_loss - 0.6391, iou_score - 0.3509]\n",
      "valid: 100%|██████████| 34/34 [00:11<00:00,  3.03it/s, dice_loss + bce_loss - 0.8112, iou_score - 0.3292]\n",
      "Model saved!\n",
      "\n",
      "Epoch: 3\n",
      "train: 100%|██████████| 68/68 [00:21<00:00,  3.17it/s, dice_loss + bce_loss - 0.5565, iou_score - 0.3903]\n",
      "valid: 100%|██████████| 34/34 [00:11<00:00,  3.01it/s, dice_loss + bce_loss - 0.688, iou_score - 0.2859]  \n",
      "\n",
      "Epoch: 4\n",
      "train: 100%|██████████| 68/68 [00:21<00:00,  3.20it/s, dice_loss + bce_loss - 0.3857, iou_score - 0.5334]\n",
      "valid: 100%|██████████| 34/34 [00:11<00:00,  3.07it/s, dice_loss + bce_loss - 0.6227, iou_score - 0.3285]\n",
      "\n",
      "Epoch: 5\n",
      "train: 100%|██████████| 68/68 [00:20<00:00,  3.26it/s, dice_loss + bce_loss - 0.2856, iou_score - 0.6337]\n",
      "valid: 100%|██████████| 34/34 [00:11<00:00,  3.06it/s, dice_loss + bce_loss - 0.7457, iou_score - 0.237] \n",
      "\n",
      "Epoch: 6\n",
      "train: 100%|██████████| 68/68 [00:20<00:00,  3.27it/s, dice_loss + bce_loss - 0.2129, iou_score - 0.7131]\n",
      "valid: 100%|██████████| 34/34 [00:11<00:00,  3.05it/s, dice_loss + bce_loss - 0.6495, iou_score - 0.316] \n",
      "\n",
      "Epoch: 7\n",
      "train: 100%|██████████| 68/68 [00:21<00:00,  3.15it/s, dice_loss + bce_loss - 0.1826, iou_score - 0.7503]\n",
      "valid: 100%|██████████| 34/34 [00:11<00:00,  3.03it/s, dice_loss + bce_loss - 0.6235, iou_score - 0.337] \n",
      "Model saved!\n",
      "\n",
      "Epoch: 8\n",
      "train: 100%|██████████| 68/68 [00:21<00:00,  3.22it/s, dice_loss + bce_loss - 0.1729, iou_score - 0.7618]\n",
      "valid: 100%|██████████| 34/34 [00:11<00:00,  3.04it/s, dice_loss + bce_loss - 0.6658, iou_score - 0.3054]\n",
      "\n",
      "Epoch: 9\n",
      "train: 100%|██████████| 68/68 [00:20<00:00,  3.24it/s, dice_loss + bce_loss - 0.1641, iou_score - 0.7754]\n",
      "valid: 100%|██████████| 34/34 [00:11<00:00,  3.02it/s, dice_loss + bce_loss - 0.6624, iou_score - 0.3085]\n",
      "\n",
      "Epoch: 10\n",
      "train: 100%|██████████| 68/68 [00:20<00:00,  3.28it/s, dice_loss + bce_loss - 0.1673, iou_score - 0.7696]\n",
      "valid: 100%|██████████| 34/34 [00:11<00:00,  3.03it/s, dice_loss + bce_loss - 0.6396, iou_score - 0.325] \n",
      "\n",
      "Epoch: 11\n",
      "train: 100%|██████████| 68/68 [00:21<00:00,  3.21it/s, dice_loss + bce_loss - 0.1675, iou_score - 0.7709]\n",
      "valid: 100%|██████████| 34/34 [00:11<00:00,  3.04it/s, dice_loss + bce_loss - 0.6147, iou_score - 0.3437]\n",
      "Model saved!\n",
      "\n",
      "Epoch: 12\n",
      "train: 100%|██████████| 68/68 [00:21<00:00,  3.19it/s, dice_loss + bce_loss - 0.1681, iou_score - 0.7705]\n",
      "valid: 100%|██████████| 34/34 [00:11<00:00,  3.04it/s, dice_loss + bce_loss - 0.6337, iou_score - 0.3278]\n",
      "\n",
      "Epoch: 13\n",
      "train: 100%|██████████| 68/68 [00:21<00:00,  3.22it/s, dice_loss + bce_loss - 0.1643, iou_score - 0.7736]\n",
      "valid: 100%|██████████| 34/34 [00:11<00:00,  3.02it/s, dice_loss + bce_loss - 0.6395, iou_score - 0.3252]\n",
      "\n",
      "Epoch: 14\n",
      "train: 100%|██████████| 68/68 [00:20<00:00,  3.24it/s, dice_loss + bce_loss - 0.1661, iou_score - 0.7715]\n",
      "valid: 100%|██████████| 34/34 [00:11<00:00,  2.99it/s, dice_loss + bce_loss - 0.6507, iou_score - 0.3161]\n",
      "\n",
      "Epoch: 15\n",
      "train: 100%|██████████| 68/68 [00:21<00:00,  3.21it/s, dice_loss + bce_loss - 0.1667, iou_score - 0.7701]\n",
      "valid: 100%|██████████| 34/34 [00:11<00:00,  3.05it/s, dice_loss + bce_loss - 0.6505, iou_score - 0.3182]\n",
      "Training on fold 3...\n",
      "\n",
      "Epoch: 1\n",
      "train: 100%|██████████| 68/68 [00:21<00:00,  3.21it/s, dice_loss + bce_loss - 0.823, iou_score - 0.196]   \n",
      "valid: 100%|██████████| 34/34 [00:11<00:00,  3.07it/s, dice_loss + bce_loss - 0.8638, iou_score - 0.1195]\n",
      "\n",
      "Epoch: 2\n",
      "train: 100%|██████████| 68/68 [00:21<00:00,  3.23it/s, dice_loss + bce_loss - 0.6177, iou_score - 0.3475]\n",
      "valid: 100%|██████████| 34/34 [00:11<00:00,  3.05it/s, dice_loss + bce_loss - 0.7736, iou_score - 0.2443]\n",
      "\n",
      "Epoch: 3\n",
      "train: 100%|██████████| 68/68 [00:21<00:00,  3.16it/s, dice_loss + bce_loss - 0.4285, iou_score - 0.4983]\n",
      "valid: 100%|██████████| 34/34 [00:11<00:00,  3.02it/s, dice_loss + bce_loss - 1.034, iou_score - 0.2315] \n",
      "\n",
      "Epoch: 4\n",
      "train: 100%|██████████| 68/68 [00:20<00:00,  3.24it/s, dice_loss + bce_loss - 0.411, iou_score - 0.5173] \n",
      "valid: 100%|██████████| 34/34 [00:11<00:00,  3.04it/s, dice_loss + bce_loss - 0.7674, iou_score - 0.2385]\n",
      "\n",
      "Epoch: 5\n",
      "train: 100%|██████████| 68/68 [00:21<00:00,  3.22it/s, dice_loss + bce_loss - 0.3359, iou_score - 0.5862]\n",
      "valid: 100%|██████████| 34/34 [00:11<00:00,  3.07it/s, dice_loss + bce_loss - 0.8821, iou_score - 0.2469]\n",
      "\n",
      "Epoch: 6\n",
      "train: 100%|██████████| 68/68 [00:20<00:00,  3.26it/s, dice_loss + bce_loss - 0.265, iou_score - 0.6567] \n",
      "valid: 100%|██████████| 34/34 [00:11<00:00,  3.05it/s, dice_loss + bce_loss - 0.9656, iou_score - 0.1229] \n",
      "\n",
      "Epoch: 7\n",
      "train: 100%|██████████| 68/68 [00:21<00:00,  3.23it/s, dice_loss + bce_loss - 0.2765, iou_score - 0.6487]\n",
      "valid: 100%|██████████| 34/34 [00:11<00:00,  3.06it/s, dice_loss + bce_loss - 0.8372, iou_score - 0.2248]\n",
      "\n",
      "Epoch: 8\n",
      "train: 100%|██████████| 68/68 [00:21<00:00,  3.22it/s, dice_loss + bce_loss - 0.1992, iou_score - 0.7306]\n",
      "valid: 100%|██████████| 34/34 [00:11<00:00,  3.02it/s, dice_loss + bce_loss - 0.8449, iou_score - 0.2095]\n",
      "\n",
      "Epoch: 9\n",
      "train: 100%|██████████| 68/68 [00:21<00:00,  3.23it/s, dice_loss + bce_loss - 0.1564, iou_score - 0.7794]\n",
      "valid: 100%|██████████| 34/34 [00:11<00:00,  3.08it/s, dice_loss + bce_loss - 0.8459, iou_score - 0.2042]\n",
      "\n",
      "Epoch: 10\n",
      "train: 100%|██████████| 68/68 [00:20<00:00,  3.29it/s, dice_loss + bce_loss - 0.1506, iou_score - 0.7881]\n",
      "valid: 100%|██████████| 34/34 [00:10<00:00,  3.11it/s, dice_loss + bce_loss - 0.8227, iou_score - 0.2334]\n",
      "\n",
      "Epoch: 11\n",
      "train: 100%|██████████| 68/68 [00:20<00:00,  3.29it/s, dice_loss + bce_loss - 0.1473, iou_score - 0.7929]\n",
      "valid: 100%|██████████| 34/34 [00:10<00:00,  3.13it/s, dice_loss + bce_loss - 0.8586, iou_score - 0.1901]\n",
      "\n",
      "Epoch: 12\n",
      "train: 100%|██████████| 68/68 [00:20<00:00,  3.33it/s, dice_loss + bce_loss - 0.1461, iou_score - 0.7949]\n",
      "valid: 100%|██████████| 34/34 [00:10<00:00,  3.10it/s, dice_loss + bce_loss - 0.831, iou_score - 0.2212] \n",
      "\n",
      "Epoch: 13\n",
      "train: 100%|██████████| 68/68 [00:20<00:00,  3.29it/s, dice_loss + bce_loss - 0.1454, iou_score - 0.7951] \n",
      "valid: 100%|██████████| 34/34 [00:10<00:00,  3.10it/s, dice_loss + bce_loss - 0.8488, iou_score - 0.2012]\n",
      "\n",
      "Epoch: 14\n",
      "train: 100%|██████████| 68/68 [00:20<00:00,  3.24it/s, dice_loss + bce_loss - 0.1445, iou_score - 0.7957] \n",
      "valid: 100%|██████████| 34/34 [00:10<00:00,  3.10it/s, dice_loss + bce_loss - 0.8112, iou_score - 0.2504]\n",
      "\n",
      "Epoch: 15\n",
      "train: 100%|██████████| 68/68 [00:20<00:00,  3.29it/s, dice_loss + bce_loss - 0.1426, iou_score - 0.7982]\n",
      "valid: 100%|██████████| 34/34 [00:10<00:00,  3.11it/s, dice_loss + bce_loss - 0.8383, iou_score - 0.2165]\n"
     ]
    },
    {
     "data": {
      "text/html": [
       "Waiting for W&B process to finish... <strong style=\"color:green\">(success).</strong>"
      ],
      "text/plain": [
       "<IPython.core.display.HTML object>"
      ]
     },
     "metadata": {},
     "output_type": "display_data"
    },
    {
     "data": {
      "text/html": [
       "<style>\n",
       "    table.wandb td:nth-child(1) { padding: 0 10px; text-align: left ; width: auto;} td:nth-child(2) {text-align: left ; width: 100%}\n",
       "    .wandb-row { display: flex; flex-direction: row; flex-wrap: wrap; justify-content: flex-start; width: 100% }\n",
       "    .wandb-col { display: flex; flex-direction: column; flex-basis: 100%; flex: 1; padding: 10px; }\n",
       "    </style>\n",
       "<div class=\"wandb-row\"><div class=\"wandb-col\"><h3>Run history:</h3><br/><table class=\"wandb\"><tr><td>fold_1/train/train_IoU</td><td>▁▃▄▅▆▇▇████████</td></tr><tr><td>fold_1/train/train_loss</td><td>█▆▅▄▃▂▂▁▁▁▁▁▁▁▁</td></tr><tr><td>fold_1/valid/valid_IoU</td><td>▁▄▇▃█▅▂▅▇▆▇▅▆▅▆</td></tr><tr><td>fold_1/valid/valid_loss</td><td>▃▃▄▅▁▄█▅▃▄▃▅▅▅▄</td></tr><tr><td>fold_2/train/train_IoU</td><td>▁▃▄▅▆▇█████████</td></tr><tr><td>fold_2/train/train_loss</td><td>█▆▅▃▂▁▁▁▁▁▁▁▁▁▁</td></tr><tr><td>fold_2/valid/valid_IoU</td><td>▆▇▄▇▁▆█▅▆▇█▇▇▆▆</td></tr><tr><td>fold_2/valid/valid_loss</td><td>▃█▄▁▆▂▁▃▃▂▁▂▂▂▂</td></tr><tr><td>fold_3/train/train_IoU</td><td>▁▃▅▅▆▆▆▇███████</td></tr><tr><td>fold_3/train/train_loss</td><td>█▆▄▄▃▂▂▂▁▁▁▁▁▁▁</td></tr><tr><td>fold_3/valid/valid_IoU</td><td>▁█▇▇█▁▇▆▆▇▅▆▅█▆</td></tr><tr><td>fold_3/valid/valid_loss</td><td>▄▁█▁▄▆▃▃▃▂▃▃▃▂▃</td></tr></table><br/></div><div class=\"wandb-col\"><h3>Run summary:</h3><br/><table class=\"wandb\"><tr><td>fold_1/train/train_IoU</td><td>0.80227</td></tr><tr><td>fold_1/train/train_loss</td><td>0.1361</td></tr><tr><td>fold_1/valid/valid_IoU</td><td>0.28835</td></tr><tr><td>fold_1/valid/valid_loss</td><td>0.77228</td></tr><tr><td>fold_2/train/train_IoU</td><td>0.77014</td></tr><tr><td>fold_2/train/train_loss</td><td>0.16666</td></tr><tr><td>fold_2/valid/valid_IoU</td><td>0.31822</td></tr><tr><td>fold_2/valid/valid_loss</td><td>0.65045</td></tr><tr><td>fold_3/train/train_IoU</td><td>0.79816</td></tr><tr><td>fold_3/train/train_loss</td><td>0.14263</td></tr><tr><td>fold_3/valid/valid_IoU</td><td>0.21649</td></tr><tr><td>fold_3/valid/valid_loss</td><td>0.83828</td></tr></table><br/></div></div>"
      ],
      "text/plain": [
       "<IPython.core.display.HTML object>"
      ]
     },
     "metadata": {},
     "output_type": "display_data"
    },
    {
     "data": {
      "text/html": [
       " View run <strong style=\"color:#cdcd00\">andorian-resistance-217</strong> at: <a href=\"https://wandb.ai/dalyutkin01/Trus_images/runs/teo5bjjp\" target=\"_blank\">https://wandb.ai/dalyutkin01/Trus_images/runs/teo5bjjp</a><br/>Synced 5 W&B file(s), 0 media file(s), 0 artifact file(s) and 0 other file(s)"
      ],
      "text/plain": [
       "<IPython.core.display.HTML object>"
      ]
     },
     "metadata": {},
     "output_type": "display_data"
    },
    {
     "data": {
      "text/html": [
       "Find logs at: <code>.\\wandb\\run-20230406_162015-teo5bjjp\\logs</code>"
      ],
      "text/plain": [
       "<IPython.core.display.HTML object>"
      ]
     },
     "metadata": {},
     "output_type": "display_data"
    }
   ],
   "source": [
    "track = 0\n",
    "TEST_IMAGES = 0\n",
    "TEST_MASKS = 0\n",
    "loader_for_top_model = 0\n",
    "for fold, (train_data, test_data) in enumerate(fold_data):\n",
    "    print(f\"Training on fold {fold + 1}...\")\n",
    "    model = src.FPN(\n",
    "        encoder_name=ENCODER, \n",
    "        encoder_weights=ENCODER_WEIGHTS,\n",
    "        in_channels=3,\n",
    "        classes=1,\n",
    "        activation=ACTIVATION,\n",
    "    )\n",
    "    optimizer = torch.optim.Adam([dict(params=model.parameters(), lr=PARAMS[\"lr\"]),])\n",
    "    scheduler = torch.optim.lr_scheduler.ReduceLROnPlateau(optimizer, mode='min',\n",
    "        factor=0.1, patience=1, threshold=0.0001, threshold_mode='abs')\n",
    "    # scheduler = torch.optim.lr_scheduler.ExponentialLR(optimizer, gamma=0.02)\n",
    "    train_epoch = src.utils.train.TrainEpoch(\n",
    "        model, \n",
    "        loss=loss, \n",
    "        metrics=metrics, \n",
    "        optimizer=optimizer,\n",
    "        device=DEVICE,\n",
    "        verbose=True,\n",
    "    )\n",
    "    valid_epoch = src.utils.train.ValidEpoch(\n",
    "        model,\n",
    "        loss=loss, \n",
    "        metrics=metrics, \n",
    "        device=DEVICE,\n",
    "        verbose=True,\n",
    "    )\n",
    "    \n",
    "    train_dataloader, valid_dataloader = preprocess.Generator(\n",
    "        batch_size=PARAMS[\"batch_size\"],\n",
    "        X_train=train_data[\"images\"],\n",
    "        y_train=train_data[\"masks\"],\n",
    "        X_test=test_data[\"images\"],\n",
    "        y_test=test_data[\"masks\"]\n",
    "    )\n",
    "\n",
    "    for epoch in range(0, 15):\n",
    "        print('\\nEpoch: {}'.format(epoch + 1))\n",
    "        train_logs = train_epoch.run(train_dataloader)\n",
    "        valid_logs = valid_epoch.run(valid_dataloader)\n",
    "        \n",
    "        wandb.log({\n",
    "            f'fold_{fold+1}/train/train_IoU': train_logs['iou_score'],\n",
    "            f'fold_{fold+1}/train/train_loss': train_logs['dice_loss + bce_loss']\n",
    "        })\n",
    "        wandb.log({\n",
    "            f'fold_{fold+1}/valid/valid_IoU': valid_logs['iou_score'], \n",
    "            f'fold_{fold+1}/valid/valid_loss': valid_logs['dice_loss + bce_loss']\n",
    "        })\n",
    "        \n",
    "        scheduler.step(valid_logs['dice_loss + bce_loss'])\n",
    "        if track < valid_logs['iou_score']:\n",
    "            TEST_IMAGES = test_data[\"images\"]\n",
    "            TEST_MASKS = test_data[\"masks\"]\n",
    "            track = valid_logs['iou_score']\n",
    "            loader_for_top_model = test_data\n",
    "            torch.save({\n",
    "                'model_state_dict': model.state_dict(),\n",
    "                'best_IoU' : track\n",
    "                }, f'./checkpoint/best_model_{PARAMS[\"num_splits\"]}fold.pth')\n",
    "            print('Model saved!')\n",
    "wandb.finish()"
   ]
  },
  {
   "cell_type": "code",
   "execution_count": 11,
   "metadata": {},
   "outputs": [
    {
     "data": {
      "text/plain": [
       "0.34370550995691695"
      ]
     },
     "execution_count": 11,
     "metadata": {},
     "output_type": "execute_result"
    }
   ],
   "source": [
    "valid_pred_folder = './valid_predict_kfold_v1/'\n",
    "checkpoint = torch.load(f'./checkpoint/best_model_{PARAMS[\"num_splits\"]}fold.pth')\n",
    "model.load_state_dict(checkpoint['model_state_dict'])\n",
    "checkpoint['best_IoU']"
   ]
  },
  {
   "cell_type": "code",
   "execution_count": 12,
   "metadata": {},
   "outputs": [],
   "source": [
    "shape = TEST_IMAGES[0].shape[:2]\n",
    "preds = []\n",
    "for image in TEST_IMAGES:\n",
    "    image_prepoc = preprocess.inference_image(image)\n",
    "    image_prepoc = torch.tensor(np.array([image_prepoc]), dtype = torch.float)\n",
    "    image_prepoc = image_prepoc.to(DEVICE)\n",
    "    with torch.no_grad():\n",
    "        predict = model.forward(image_prepoc)\n",
    "    predict_value = predict.cpu().detach().numpy()\n",
    "    preds.append(predict_value)"
   ]
  },
  {
   "cell_type": "code",
   "execution_count": 13,
   "metadata": {},
   "outputs": [],
   "source": [
    "for num in range(len(TEST_IMAGES)):\n",
    "    true_mask = TEST_MASKS[num]\n",
    "    greenBGR = src.utils.plotting.Visual.green_chanel(true_mask)\n",
    "    concat_true = cv2.addWeighted(TEST_IMAGES[num], 0.4, TEST_MASKS[num], 0.9, 0)\n",
    "    \n",
    "    #resize true image and create 3rd channels\n",
    "    cvtColor = cv2.cvtColor(TEST_IMAGES[num], cv2.COLOR_BGR2GRAY )\n",
    "    resize_image = cv2.resize(cvtColor, (1280, 872), interpolation = cv2.INTER_AREA)\n",
    "    resize_image = cv2.cvtColor(resize_image, cv2.COLOR_BGR2RGB)\n",
    "    \n",
    "    #preproc predict\n",
    "    predict_mask = src.utils.plotting.Visual.preproc_predict(preds[num])\n",
    "    blueBGR_predict = src.utils.plotting.Visual.blue_chanel_predict(predict_mask)\n",
    "    greenBGR_predict = src.utils.plotting.Visual.green_chanel_predict(predict_mask)\n",
    "    \n",
    "    #calc IoU\n",
    "    IoU = src.utils.plotting.Visual.calc_IoU(greenBGR, greenBGR_predict)\n",
    "    \n",
    "    #concat two masks\n",
    "    bitwiseAnd = cv2.bitwise_or(greenBGR, blueBGR_predict)\n",
    "    \n",
    "    #concat true images with mask\n",
    "    concat_predict = cv2.addWeighted(resize_image, 0.4, bitwiseAnd, 0.7, 0)\n",
    "    concat_predict_resize = cv2.resize(concat_predict, (1280, 872), interpolation = cv2.INTER_AREA)\n",
    "    \n",
    "    #put text\n",
    "    font = cv2.FONT_HERSHEY_SIMPLEX\n",
    "    org = (570, 50)\n",
    "    fontScale = 1\n",
    "    color = (0, 255, 255)\n",
    "    thickness = 2\n",
    "    image = cv2.putText(concat_predict_resize, 'IoU ' + str(round(IoU, 3)), org, font, \n",
    "                   fontScale, color, thickness, cv2.LINE_AA)\n",
    "    \n",
    "    #save \n",
    "    cv2.imwrite(filename=os.path.join(valid_pred_folder + str(num) + \"_true\" + '.png'), img=concat_true)\n",
    "    cv2.imwrite(filename=os.path.join(valid_pred_folder + str(num) + \"_predict\" + '.png'), img=concat_predict_resize)"
   ]
  },
  {
   "cell_type": "code",
   "execution_count": null,
   "metadata": {},
   "outputs": [],
   "source": []
  }
 ],
 "metadata": {
  "kernelspec": {
   "display_name": "env_trus",
   "language": "python",
   "name": "python3"
  },
  "language_info": {
   "codemirror_mode": {
    "name": "ipython",
    "version": 3
   },
   "file_extension": ".py",
   "mimetype": "text/x-python",
   "name": "python",
   "nbconvert_exporter": "python",
   "pygments_lexer": "ipython3",
   "version": "3.9.13"
  },
  "orig_nbformat": 4,
  "vscode": {
   "interpreter": {
    "hash": "4af9a2159fab24886d4f91335261a63555b0395985130eb8d259fcbaf5c78d65"
   }
  }
 },
 "nbformat": 4,
 "nbformat_minor": 2
}
