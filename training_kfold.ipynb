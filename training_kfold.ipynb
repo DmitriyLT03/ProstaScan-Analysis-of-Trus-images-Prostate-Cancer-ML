{
 "cells": [
  {
   "cell_type": "code",
   "execution_count": 1,
   "metadata": {},
   "outputs": [],
   "source": [
    "import torch\n",
    "import src\n",
    "import wandb\n",
    "import numpy as np\n",
    "import os\n",
    "import cv2\n",
    "\n",
    "from PIL import Image\n",
    "from sklearn.model_selection import KFold\n",
    "from src.utils.dataset import Preprocessing"
   ]
  },
  {
   "cell_type": "code",
   "execution_count": 2,
   "metadata": {},
   "outputs": [],
   "source": [
    "ENCODER = 'resnet152'\n",
    "ENCODER_WEIGHTS = 'imagenet'\n",
    "ACTIVATION = 'sigmoid' # could be None for logits or 'softmax2d' for multicalss segmentation\n",
    "DEVICE = ('cuda' if torch.cuda.is_available() else 'cpu') \n",
    "PARAMS = {\n",
    "    \"lr\" : 0.0005,\n",
    "    \"batch_size\" : 1,\n",
    "    \"num_splits\" : 4,\n",
    "}"
   ]
  },
  {
   "cell_type": "code",
   "execution_count": 3,
   "metadata": {},
   "outputs": [],
   "source": [
    "loss = src.utils.base.SumOfLosses(\n",
    "    src.utils.losses.DiceLoss(),\n",
    "    src.utils.losses.BCELoss()\n",
    ")\n",
    "\n",
    "metrics = [\n",
    "    src.utils.metrics.IoU(threshold=0.5)\n",
    "]"
   ]
  },
  {
   "cell_type": "code",
   "execution_count": 4,
   "metadata": {},
   "outputs": [
    {
     "name": "stderr",
     "output_type": "stream",
     "text": [
      "Failed to detect the name of this notebook, you can set it manually with the WANDB_NOTEBOOK_NAME environment variable to enable code saving.\n",
      "\u001b[34m\u001b[1mwandb\u001b[0m: Currently logged in as: \u001b[33mdalyutkin01\u001b[0m. Use \u001b[1m`wandb login --relogin`\u001b[0m to force relogin\n"
     ]
    },
    {
     "data": {
      "text/html": [
       "wandb version 0.14.0 is available!  To upgrade, please run:\n",
       " $ pip install wandb --upgrade"
      ],
      "text/plain": [
       "<IPython.core.display.HTML object>"
      ]
     },
     "metadata": {},
     "output_type": "display_data"
    },
    {
     "data": {
      "text/html": [
       "Tracking run with wandb version 0.13.9"
      ],
      "text/plain": [
       "<IPython.core.display.HTML object>"
      ]
     },
     "metadata": {},
     "output_type": "display_data"
    },
    {
     "data": {
      "text/html": [
       "Run data is saved locally in <code>c:\\Users\\Dmitry\\Desktop\\code\\analysis_trus_images\\wandb\\run-20230404_131933-hl6kcf8p</code>"
      ],
      "text/plain": [
       "<IPython.core.display.HTML object>"
      ]
     },
     "metadata": {},
     "output_type": "display_data"
    },
    {
     "data": {
      "text/html": [
       "Syncing run <strong><a href=\"https://wandb.ai/dalyutkin01/Trus_images/runs/hl6kcf8p\" target=\"_blank\">pious-durian-91</a></strong> to <a href=\"https://wandb.ai/dalyutkin01/Trus_images\" target=\"_blank\">Weights & Biases</a> (<a href=\"https://wandb.me/run\" target=\"_blank\">docs</a>)<br/>"
      ],
      "text/plain": [
       "<IPython.core.display.HTML object>"
      ]
     },
     "metadata": {},
     "output_type": "display_data"
    },
    {
     "data": {
      "text/html": [
       " View project at <a href=\"https://wandb.ai/dalyutkin01/Trus_images\" target=\"_blank\">https://wandb.ai/dalyutkin01/Trus_images</a>"
      ],
      "text/plain": [
       "<IPython.core.display.HTML object>"
      ]
     },
     "metadata": {},
     "output_type": "display_data"
    },
    {
     "data": {
      "text/html": [
       " View run at <a href=\"https://wandb.ai/dalyutkin01/Trus_images/runs/hl6kcf8p\" target=\"_blank\">https://wandb.ai/dalyutkin01/Trus_images/runs/hl6kcf8p</a>"
      ],
      "text/plain": [
       "<IPython.core.display.HTML object>"
      ]
     },
     "metadata": {},
     "output_type": "display_data"
    },
    {
     "data": {
      "text/html": [
       "<button onClick=\"this.nextSibling.style.display='block';this.style.display='none';\">Display W&B run</button><iframe src=\"https://wandb.ai/dalyutkin01/Trus_images/runs/hl6kcf8p?jupyter=true\" style=\"border:none;width:100%;height:420px;display:none;\"></iframe>"
      ],
      "text/plain": [
       "<wandb.sdk.wandb_run.Run at 0x1739a1e0820>"
      ]
     },
     "execution_count": 4,
     "metadata": {},
     "output_type": "execute_result"
    }
   ],
   "source": [
    "wandb.login()\n",
    "wandb.init(project=\"Trus_images\")"
   ]
  },
  {
   "cell_type": "code",
   "execution_count": 5,
   "metadata": {},
   "outputs": [],
   "source": [
    "preprocess = Preprocessing(\n",
    "    dir='./data/',\n",
    "    img_size=768,\n",
    "    augmentation=False\n",
    ")"
   ]
  },
  {
   "cell_type": "code",
   "execution_count": 6,
   "metadata": {},
   "outputs": [],
   "source": [
    "clear_images, clear_masks = preprocess.load_folder()\n",
    "kfold = KFold(n_splits=PARAMS[\"num_splits\"], shuffle=True)\n",
    "fold_data = []\n",
    "for fold, (train_indices, test_indices) in enumerate(kfold.split(clear_masks)):\n",
    "    train_data = {\n",
    "        \"images\" : [clear_images[index] for index in train_indices],\n",
    "        \"masks\" : [clear_masks[index] for index in train_indices]\n",
    "    }\n",
    "    test_data = {\n",
    "        \"images\" : [clear_images[index] for index in test_indices],\n",
    "        \"masks\" : [clear_masks[index] for index in test_indices]\n",
    "    }\n",
    "    fold_data.append((train_data, test_data))"
   ]
  },
  {
   "cell_type": "code",
   "execution_count": 7,
   "metadata": {},
   "outputs": [
    {
     "name": "stdout",
     "output_type": "stream",
     "text": [
      "Training on fold 1...\n",
      "\n",
      "Epoch: 1\n",
      "train: 100%|██████████| 76/76 [00:24<00:00,  3.14it/s, dice_loss + bce_loss - 0.9298, iou_score - 0.135] \n",
      "valid: 100%|██████████| 26/26 [00:10<00:00,  2.50it/s, dice_loss + bce_loss - 0.8223, iou_score - 0.1994]\n",
      "Model saved!\n",
      "\n",
      "Epoch: 2\n",
      "train: 100%|██████████| 76/76 [00:21<00:00,  3.54it/s, dice_loss + bce_loss - 0.7476, iou_score - 0.2254]\n",
      "valid: 100%|██████████| 26/26 [00:10<00:00,  2.50it/s, dice_loss + bce_loss - 0.6743, iou_score - 0.2788]\n",
      "Model saved!\n",
      "\n",
      "Epoch: 3\n",
      "train: 100%|██████████| 76/76 [00:21<00:00,  3.57it/s, dice_loss + bce_loss - 0.6828, iou_score - 0.2724]\n",
      "valid: 100%|██████████| 26/26 [00:10<00:00,  2.45it/s, dice_loss + bce_loss - 0.708, iou_score - 0.2661] \n",
      "\n",
      "Epoch: 4\n",
      "train: 100%|██████████| 76/76 [00:21<00:00,  3.56it/s, dice_loss + bce_loss - 0.6205, iou_score - 0.3221]\n",
      "valid: 100%|██████████| 26/26 [00:10<00:00,  2.50it/s, dice_loss + bce_loss - 0.5974, iou_score - 0.347] \n",
      "Model saved!\n",
      "\n",
      "Epoch: 5\n",
      "train: 100%|██████████| 76/76 [00:21<00:00,  3.56it/s, dice_loss + bce_loss - 0.5887, iou_score - 0.3462]\n",
      "valid: 100%|██████████| 26/26 [00:10<00:00,  2.51it/s, dice_loss + bce_loss - 0.6389, iou_score - 0.31]  \n",
      "\n",
      "Epoch: 6\n",
      "train: 100%|██████████| 76/76 [00:21<00:00,  3.51it/s, dice_loss + bce_loss - 0.5038, iou_score - 0.4145]\n",
      "valid: 100%|██████████| 26/26 [00:10<00:00,  2.52it/s, dice_loss + bce_loss - 0.6424, iou_score - 0.3114]\n",
      "\n",
      "Epoch: 7\n",
      "train: 100%|██████████| 76/76 [00:21<00:00,  3.59it/s, dice_loss + bce_loss - 0.429, iou_score - 0.4857] \n",
      "valid: 100%|██████████| 26/26 [00:10<00:00,  2.54it/s, dice_loss + bce_loss - 0.6708, iou_score - 0.2772]\n",
      "\n",
      "Epoch: 8\n",
      "train: 100%|██████████| 76/76 [00:21<00:00,  3.61it/s, dice_loss + bce_loss - 0.4122, iou_score - 0.4928]\n",
      "valid: 100%|██████████| 26/26 [00:10<00:00,  2.56it/s, dice_loss + bce_loss - 0.6771, iou_score - 0.2894]\n",
      "\n",
      "Epoch: 9\n",
      "train: 100%|██████████| 76/76 [00:21<00:00,  3.58it/s, dice_loss + bce_loss - 0.3652, iou_score - 0.5447]\n",
      "valid: 100%|██████████| 26/26 [00:10<00:00,  2.46it/s, dice_loss + bce_loss - 0.7744, iou_score - 0.2371] \n",
      "\n",
      "Epoch: 10\n",
      "train: 100%|██████████| 76/76 [00:21<00:00,  3.56it/s, dice_loss + bce_loss - 0.3392, iou_score - 0.565] \n",
      "valid: 100%|██████████| 26/26 [00:10<00:00,  2.55it/s, dice_loss + bce_loss - 0.7028, iou_score - 0.271]  \n",
      "\n",
      "Epoch: 11\n",
      "train: 100%|██████████| 76/76 [00:21<00:00,  3.51it/s, dice_loss + bce_loss - 0.3303, iou_score - 0.5747]\n",
      "valid: 100%|██████████| 26/26 [00:10<00:00,  2.50it/s, dice_loss + bce_loss - 0.7509, iou_score - 0.2446]\n",
      "\n",
      "Epoch: 12\n",
      "train: 100%|██████████| 76/76 [00:22<00:00,  3.33it/s, dice_loss + bce_loss - 0.3003, iou_score - 0.6015]\n",
      "valid: 100%|██████████| 26/26 [00:10<00:00,  2.41it/s, dice_loss + bce_loss - 0.7816, iou_score - 0.2071] \n",
      "\n",
      "Epoch: 13\n",
      "train: 100%|██████████| 76/76 [00:21<00:00,  3.55it/s, dice_loss + bce_loss - 0.3031, iou_score - 0.6026]\n",
      "valid: 100%|██████████| 26/26 [00:10<00:00,  2.50it/s, dice_loss + bce_loss - 0.7653, iou_score - 0.2347]\n",
      "\n",
      "Epoch: 14\n",
      "train: 100%|██████████| 76/76 [00:21<00:00,  3.55it/s, dice_loss + bce_loss - 0.2676, iou_score - 0.6402]\n",
      "valid: 100%|██████████| 26/26 [00:10<00:00,  2.56it/s, dice_loss + bce_loss - 0.6973, iou_score - 0.2784]\n",
      "\n",
      "Epoch: 15\n",
      "train: 100%|██████████| 76/76 [00:20<00:00,  3.62it/s, dice_loss + bce_loss - 0.2227, iou_score - 0.6828]\n",
      "valid: 100%|██████████| 26/26 [00:10<00:00,  2.55it/s, dice_loss + bce_loss - 0.8451, iou_score - 0.1705]\n",
      "Training on fold 2...\n",
      "\n",
      "Epoch: 1\n",
      "train: 100%|██████████| 76/76 [00:21<00:00,  3.58it/s, dice_loss + bce_loss - 0.8823, iou_score - 0.1508] \n",
      "valid: 100%|██████████| 26/26 [00:10<00:00,  2.56it/s, dice_loss + bce_loss - 1.069, iou_score - 0.06685]\n",
      "\n",
      "Epoch: 2\n",
      "train: 100%|██████████| 76/76 [00:21<00:00,  3.60it/s, dice_loss + bce_loss - 0.6555, iou_score - 0.2924]\n",
      "valid: 100%|██████████| 26/26 [00:10<00:00,  2.53it/s, dice_loss + bce_loss - 0.6766, iou_score - 0.2781]  \n",
      "\n",
      "Epoch: 3\n",
      "train: 100%|██████████| 76/76 [00:20<00:00,  3.62it/s, dice_loss + bce_loss - 0.698, iou_score - 0.2637] \n",
      "valid: 100%|██████████| 26/26 [00:10<00:00,  2.55it/s, dice_loss + bce_loss - 0.7589, iou_score - 0.2172]\n",
      "\n",
      "Epoch: 4\n",
      "train: 100%|██████████| 76/76 [00:20<00:00,  3.62it/s, dice_loss + bce_loss - 0.5911, iou_score - 0.3492]\n",
      "valid: 100%|██████████| 26/26 [00:10<00:00,  2.54it/s, dice_loss + bce_loss - 0.7399, iou_score - 0.2318]\n",
      "\n",
      "Epoch: 5\n",
      "train: 100%|██████████| 76/76 [00:21<00:00,  3.59it/s, dice_loss + bce_loss - 0.4991, iou_score - 0.431] \n",
      "valid: 100%|██████████| 26/26 [00:10<00:00,  2.56it/s, dice_loss + bce_loss - 0.9114, iou_score - 0.1137] \n",
      "\n",
      "Epoch: 6\n",
      "train: 100%|██████████| 76/76 [00:21<00:00,  3.55it/s, dice_loss + bce_loss - 0.4786, iou_score - 0.4429]\n",
      "valid: 100%|██████████| 26/26 [00:11<00:00,  2.36it/s, dice_loss + bce_loss - 0.8187, iou_score - 0.2055] \n",
      "\n",
      "Epoch: 7\n",
      "train: 100%|██████████| 76/76 [00:22<00:00,  3.41it/s, dice_loss + bce_loss - 0.448, iou_score - 0.4717] \n",
      "valid: 100%|██████████| 26/26 [00:10<00:00,  2.53it/s, dice_loss + bce_loss - 0.8955, iou_score - 0.1195] \n",
      "\n",
      "Epoch: 8\n",
      "train: 100%|██████████| 76/76 [00:21<00:00,  3.49it/s, dice_loss + bce_loss - 0.3911, iou_score - 0.5217]\n",
      "valid: 100%|██████████| 26/26 [00:10<00:00,  2.50it/s, dice_loss + bce_loss - 0.9511, iou_score - 0.07591]\n",
      "\n",
      "Epoch: 9\n",
      "train: 100%|██████████| 76/76 [00:20<00:00,  3.65it/s, dice_loss + bce_loss - 0.3737, iou_score - 0.5364]\n",
      "valid: 100%|██████████| 26/26 [00:10<00:00,  2.56it/s, dice_loss + bce_loss - 0.7402, iou_score - 0.237] \n",
      "\n",
      "Epoch: 10\n",
      "train: 100%|██████████| 76/76 [00:21<00:00,  3.51it/s, dice_loss + bce_loss - 0.32, iou_score - 0.5872]  \n",
      "valid: 100%|██████████| 26/26 [00:10<00:00,  2.51it/s, dice_loss + bce_loss - 1.049, iou_score - 0.04262] \n",
      "\n",
      "Epoch: 11\n",
      "train: 100%|██████████| 76/76 [00:20<00:00,  3.64it/s, dice_loss + bce_loss - 0.3247, iou_score - 0.5852]\n",
      "valid: 100%|██████████| 26/26 [00:10<00:00,  2.52it/s, dice_loss + bce_loss - 1.037, iou_score - 0.06504] \n",
      "\n",
      "Epoch: 12\n",
      "train: 100%|██████████| 76/76 [00:20<00:00,  3.62it/s, dice_loss + bce_loss - 0.3294, iou_score - 0.5846]\n",
      "valid: 100%|██████████| 26/26 [00:10<00:00,  2.50it/s, dice_loss + bce_loss - 0.8182, iou_score - 0.1635]  \n",
      "\n",
      "Epoch: 13\n",
      "train: 100%|██████████| 76/76 [00:20<00:00,  3.63it/s, dice_loss + bce_loss - 0.2894, iou_score - 0.6334]\n",
      "valid: 100%|██████████| 26/26 [00:10<00:00,  2.53it/s, dice_loss + bce_loss - 0.8929, iou_score - 0.1396] \n",
      "\n",
      "Epoch: 14\n",
      "train: 100%|██████████| 76/76 [00:21<00:00,  3.51it/s, dice_loss + bce_loss - 0.254, iou_score - 0.6642] \n",
      "valid: 100%|██████████| 26/26 [00:10<00:00,  2.52it/s, dice_loss + bce_loss - 0.8304, iou_score - 0.1836] \n",
      "\n",
      "Epoch: 15\n",
      "train: 100%|██████████| 76/76 [00:20<00:00,  3.63it/s, dice_loss + bce_loss - 0.2049, iou_score - 0.7198]\n",
      "valid: 100%|██████████| 26/26 [00:10<00:00,  2.55it/s, dice_loss + bce_loss - 0.8233, iou_score - 0.186]  \n",
      "Training on fold 3...\n",
      "\n",
      "Epoch: 1\n",
      "train: 100%|██████████| 77/77 [00:21<00:00,  3.57it/s, dice_loss + bce_loss - 0.8428, iou_score - 0.1613] \n",
      "valid: 100%|██████████| 25/25 [00:10<00:00,  2.41it/s, dice_loss + bce_loss - 0.7662, iou_score - 0.2273]\n",
      "\n",
      "Epoch: 2\n",
      "train: 100%|██████████| 77/77 [00:21<00:00,  3.60it/s, dice_loss + bce_loss - 0.716, iou_score - 0.2434] \n",
      "valid: 100%|██████████| 25/25 [00:10<00:00,  2.40it/s, dice_loss + bce_loss - 0.8055, iou_score - 0.2014]\n",
      "\n",
      "Epoch: 3\n",
      "train: 100%|██████████| 77/77 [00:21<00:00,  3.63it/s, dice_loss + bce_loss - 0.6522, iou_score - 0.2944]\n",
      "valid: 100%|██████████| 25/25 [00:10<00:00,  2.42it/s, dice_loss + bce_loss - 0.6821, iou_score - 0.2707]\n",
      "\n",
      "Epoch: 4\n",
      "train: 100%|██████████| 77/77 [00:21<00:00,  3.61it/s, dice_loss + bce_loss - 0.626, iou_score - 0.3111] \n",
      "valid: 100%|██████████| 25/25 [00:10<00:00,  2.40it/s, dice_loss + bce_loss - 0.7443, iou_score - 0.2249]\n",
      "\n",
      "Epoch: 5\n",
      "train: 100%|██████████| 77/77 [00:21<00:00,  3.53it/s, dice_loss + bce_loss - 0.5649, iou_score - 0.3643]\n",
      "valid: 100%|██████████| 25/25 [00:10<00:00,  2.46it/s, dice_loss + bce_loss - 0.8174, iou_score - 0.1836] \n",
      "\n",
      "Epoch: 6\n",
      "train: 100%|██████████| 77/77 [00:21<00:00,  3.53it/s, dice_loss + bce_loss - 0.5406, iou_score - 0.3856]\n",
      "valid: 100%|██████████| 25/25 [00:10<00:00,  2.37it/s, dice_loss + bce_loss - 0.8175, iou_score - 0.1823] \n",
      "\n",
      "Epoch: 7\n",
      "train: 100%|██████████| 77/77 [00:21<00:00,  3.59it/s, dice_loss + bce_loss - 0.4384, iou_score - 0.4743]\n",
      "valid: 100%|██████████| 25/25 [00:10<00:00,  2.46it/s, dice_loss + bce_loss - 0.8413, iou_score - 0.1618] \n",
      "\n",
      "Epoch: 8\n",
      "train: 100%|██████████| 77/77 [00:21<00:00,  3.65it/s, dice_loss + bce_loss - 0.4208, iou_score - 0.4862]\n",
      "valid: 100%|██████████| 25/25 [00:10<00:00,  2.48it/s, dice_loss + bce_loss - 0.7573, iou_score - 0.2134] \n",
      "\n",
      "Epoch: 9\n",
      "train: 100%|██████████| 77/77 [00:21<00:00,  3.65it/s, dice_loss + bce_loss - 0.3735, iou_score - 0.5344]\n",
      "valid: 100%|██████████| 25/25 [00:10<00:00,  2.47it/s, dice_loss + bce_loss - 1.069, iou_score - 0.03621] \n",
      "\n",
      "Epoch: 10\n",
      "train: 100%|██████████| 77/77 [00:21<00:00,  3.58it/s, dice_loss + bce_loss - 0.3385, iou_score - 0.5596]\n",
      "valid: 100%|██████████| 25/25 [00:10<00:00,  2.48it/s, dice_loss + bce_loss - 0.8723, iou_score - 0.148]  \n",
      "\n",
      "Epoch: 11\n",
      "train: 100%|██████████| 77/77 [00:20<00:00,  3.70it/s, dice_loss + bce_loss - 0.3055, iou_score - 0.5987]\n",
      "valid: 100%|██████████| 25/25 [00:10<00:00,  2.47it/s, dice_loss + bce_loss - 0.999, iou_score - 0.08263] \n",
      "\n",
      "Epoch: 12\n",
      "train: 100%|██████████| 77/77 [00:21<00:00,  3.64it/s, dice_loss + bce_loss - 0.2971, iou_score - 0.6071]\n",
      "valid: 100%|██████████| 25/25 [00:10<00:00,  2.48it/s, dice_loss + bce_loss - 0.8579, iou_score - 0.1715]\n",
      "\n",
      "Epoch: 13\n",
      "train: 100%|██████████| 77/77 [00:20<00:00,  3.67it/s, dice_loss + bce_loss - 0.2751, iou_score - 0.6333]\n",
      "valid: 100%|██████████| 25/25 [00:10<00:00,  2.44it/s, dice_loss + bce_loss - 0.783, iou_score - 0.2189]  \n",
      "\n",
      "Epoch: 14\n",
      "train: 100%|██████████| 77/77 [00:21<00:00,  3.62it/s, dice_loss + bce_loss - 0.2787, iou_score - 0.6287]\n",
      "valid: 100%|██████████| 25/25 [00:10<00:00,  2.47it/s, dice_loss + bce_loss - 1.003, iou_score - 0.09099] \n",
      "\n",
      "Epoch: 15\n",
      "train: 100%|██████████| 77/77 [00:21<00:00,  3.66it/s, dice_loss + bce_loss - 0.2208, iou_score - 0.6905]\n",
      "valid: 100%|██████████| 25/25 [00:10<00:00,  2.46it/s, dice_loss + bce_loss - 1.016, iou_score - 0.08034] \n",
      "Training on fold 4...\n",
      "\n",
      "Epoch: 1\n",
      "train: 100%|██████████| 77/77 [00:22<00:00,  3.46it/s, dice_loss + bce_loss - 0.8273, iou_score - 0.1588] \n",
      "valid: 100%|██████████| 25/25 [00:10<00:00,  2.47it/s, dice_loss + bce_loss - 0.9915, iou_score - 0.1146] \n",
      "\n",
      "Epoch: 2\n",
      "train: 100%|██████████| 77/77 [00:21<00:00,  3.65it/s, dice_loss + bce_loss - 0.6678, iou_score - 0.2871]\n",
      "valid: 100%|██████████| 25/25 [00:10<00:00,  2.43it/s, dice_loss + bce_loss - 0.6774, iou_score - 0.2729]\n",
      "\n",
      "Epoch: 3\n",
      "train: 100%|██████████| 77/77 [00:21<00:00,  3.55it/s, dice_loss + bce_loss - 0.6336, iou_score - 0.3106]\n",
      "valid: 100%|██████████| 25/25 [00:10<00:00,  2.47it/s, dice_loss + bce_loss - 0.8675, iou_score - 0.1267] \n",
      "\n",
      "Epoch: 4\n",
      "train: 100%|██████████| 77/77 [00:21<00:00,  3.65it/s, dice_loss + bce_loss - 0.587, iou_score - 0.3479] \n",
      "valid: 100%|██████████| 25/25 [00:10<00:00,  2.48it/s, dice_loss + bce_loss - 0.8384, iou_score - 0.1517] \n",
      "\n",
      "Epoch: 5\n",
      "train: 100%|██████████| 77/77 [00:21<00:00,  3.64it/s, dice_loss + bce_loss - 0.5257, iou_score - 0.4032]\n",
      "valid: 100%|██████████| 25/25 [00:10<00:00,  2.49it/s, dice_loss + bce_loss - 0.7302, iou_score - 0.239] \n",
      "\n",
      "Epoch: 6\n",
      "train: 100%|██████████| 77/77 [00:21<00:00,  3.60it/s, dice_loss + bce_loss - 0.498, iou_score - 0.4237] \n",
      "valid: 100%|██████████| 25/25 [00:10<00:00,  2.45it/s, dice_loss + bce_loss - 0.9858, iou_score - 0.06667] \n",
      "\n",
      "Epoch: 7\n",
      "train: 100%|██████████| 77/77 [00:21<00:00,  3.63it/s, dice_loss + bce_loss - 0.4424, iou_score - 0.4752]\n",
      "valid: 100%|██████████| 25/25 [00:10<00:00,  2.47it/s, dice_loss + bce_loss - 0.8616, iou_score - 0.1255] \n",
      "\n",
      "Epoch: 8\n",
      "train: 100%|██████████| 77/77 [00:21<00:00,  3.64it/s, dice_loss + bce_loss - 0.425, iou_score - 0.4859] \n",
      "valid: 100%|██████████| 25/25 [00:10<00:00,  2.50it/s, dice_loss + bce_loss - 0.7601, iou_score - 0.2141]\n",
      "\n",
      "Epoch: 9\n",
      "train: 100%|██████████| 77/77 [00:21<00:00,  3.66it/s, dice_loss + bce_loss - 0.3712, iou_score - 0.5407]\n",
      "valid: 100%|██████████| 25/25 [00:10<00:00,  2.48it/s, dice_loss + bce_loss - 0.7786, iou_score - 0.2057]\n",
      "\n",
      "Epoch: 10\n",
      "train: 100%|██████████| 77/77 [00:21<00:00,  3.59it/s, dice_loss + bce_loss - 0.3761, iou_score - 0.5463]\n",
      "valid: 100%|██████████| 25/25 [00:10<00:00,  2.45it/s, dice_loss + bce_loss - 0.75, iou_score - 0.2312]  \n",
      "\n",
      "Epoch: 11\n",
      "train: 100%|██████████| 77/77 [00:20<00:00,  3.68it/s, dice_loss + bce_loss - 0.3182, iou_score - 0.5945]\n",
      "valid: 100%|██████████| 25/25 [00:10<00:00,  2.44it/s, dice_loss + bce_loss - 0.7557, iou_score - 0.223] \n",
      "\n",
      "Epoch: 12\n",
      "train: 100%|██████████| 77/77 [00:21<00:00,  3.52it/s, dice_loss + bce_loss - 0.3271, iou_score - 0.5801]\n",
      "valid: 100%|██████████| 25/25 [00:10<00:00,  2.47it/s, dice_loss + bce_loss - 0.7723, iou_score - 0.2114]\n",
      "\n",
      "Epoch: 13\n",
      "train: 100%|██████████| 77/77 [00:20<00:00,  3.67it/s, dice_loss + bce_loss - 0.2859, iou_score - 0.625] \n",
      "valid: 100%|██████████| 25/25 [00:10<00:00,  2.45it/s, dice_loss + bce_loss - 0.7382, iou_score - 0.2452]\n",
      "\n",
      "Epoch: 14\n",
      "train: 100%|██████████| 77/77 [00:22<00:00,  3.50it/s, dice_loss + bce_loss - 0.2371, iou_score - 0.6796]\n",
      "valid: 100%|██████████| 25/25 [00:10<00:00,  2.42it/s, dice_loss + bce_loss - 0.7509, iou_score - 0.2511]\n",
      "\n",
      "Epoch: 15\n",
      "train: 100%|██████████| 77/77 [00:21<00:00,  3.64it/s, dice_loss + bce_loss - 0.2047, iou_score - 0.7167]\n",
      "valid: 100%|██████████| 25/25 [00:10<00:00,  2.48it/s, dice_loss + bce_loss - 0.7553, iou_score - 0.236] \n"
     ]
    },
    {
     "data": {
      "text/html": [
       "Waiting for W&B process to finish... <strong style=\"color:green\">(success).</strong>"
      ],
      "text/plain": [
       "<IPython.core.display.HTML object>"
      ]
     },
     "metadata": {},
     "output_type": "display_data"
    },
    {
     "data": {
      "application/vnd.jupyter.widget-view+json": {
       "model_id": "0217923f0a8741afb6e1b120c5be172a",
       "version_major": 2,
       "version_minor": 0
      },
      "text/plain": [
       "VBox(children=(Label(value='0.001 MB of 0.001 MB uploaded (0.000 MB deduped)\\r'), FloatProgress(value=1.0, max…"
      ]
     },
     "metadata": {},
     "output_type": "display_data"
    },
    {
     "data": {
      "text/html": [
       "<style>\n",
       "    table.wandb td:nth-child(1) { padding: 0 10px; text-align: left ; width: auto;} td:nth-child(2) {text-align: left ; width: 100%}\n",
       "    .wandb-row { display: flex; flex-direction: row; flex-wrap: wrap; justify-content: flex-start; width: 100% }\n",
       "    .wandb-col { display: flex; flex-direction: column; flex-basis: 100%; flex: 1; padding: 10px; }\n",
       "    </style>\n",
       "<div class=\"wandb-row\"><div class=\"wandb-col\"><h3>Run history:</h3><br/><table class=\"wandb\"><tr><td>fold_1/train/train_IoU</td><td>▁▂▃▃▄▅▅▆▆▆▇▇▇▇█</td></tr><tr><td>fold_1/train/train_loss</td><td>█▆▆▅▅▄▃▃▂▂▂▂▂▁▁</td></tr><tr><td>fold_1/valid/valid_IoU</td><td>▂▅▅█▇▇▅▆▄▅▄▂▄▅▁</td></tr><tr><td>fold_1/valid/valid_loss</td><td>▇▃▄▁▂▂▃▃▆▄▅▆▆▄█</td></tr><tr><td>fold_2/train/train_IoU</td><td>▁▃▂▃▄▅▅▆▆▆▆▆▇▇█</td></tr><tr><td>fold_2/train/train_loss</td><td>█▆▆▅▄▄▄▃▃▂▂▂▂▂▁</td></tr><tr><td>fold_2/valid/valid_IoU</td><td>▂█▆▇▃▆▃▂▇▁▂▅▄▅▅</td></tr><tr><td>fold_2/valid/valid_loss</td><td>█▁▂▂▅▄▅▆▂█▇▄▅▄▄</td></tr><tr><td>fold_3/train/train_IoU</td><td>▁▂▃▃▄▄▅▅▆▆▇▇▇▇█</td></tr><tr><td>fold_3/train/train_loss</td><td>█▇▆▆▅▅▃▃▃▂▂▂▂▂▁</td></tr><tr><td>fold_3/valid/valid_IoU</td><td>▇▆█▇▅▅▅▆▁▄▂▅▆▃▂</td></tr><tr><td>fold_3/valid/valid_loss</td><td>▃▃▁▂▃▃▄▂█▄▇▄▃▇▇</td></tr><tr><td>fold_4/train/train_IoU</td><td>▁▃▃▃▄▄▅▅▆▆▆▆▇██</td></tr><tr><td>fold_4/train/train_loss</td><td>█▆▆▅▅▄▄▃▃▃▂▂▂▁▁</td></tr><tr><td>fold_4/valid/valid_IoU</td><td>▃█▃▄▇▁▃▆▆▇▆▆▇▇▇</td></tr><tr><td>fold_4/valid/valid_loss</td><td>█▁▅▅▂█▅▃▃▃▃▃▂▃▃</td></tr></table><br/></div><div class=\"wandb-col\"><h3>Run summary:</h3><br/><table class=\"wandb\"><tr><td>fold_1/train/train_IoU</td><td>0.68277</td></tr><tr><td>fold_1/train/train_loss</td><td>0.2227</td></tr><tr><td>fold_1/valid/valid_IoU</td><td>0.17048</td></tr><tr><td>fold_1/valid/valid_loss</td><td>0.84505</td></tr><tr><td>fold_2/train/train_IoU</td><td>0.71982</td></tr><tr><td>fold_2/train/train_loss</td><td>0.20495</td></tr><tr><td>fold_2/valid/valid_IoU</td><td>0.18597</td></tr><tr><td>fold_2/valid/valid_loss</td><td>0.82334</td></tr><tr><td>fold_3/train/train_IoU</td><td>0.69046</td></tr><tr><td>fold_3/train/train_loss</td><td>0.22075</td></tr><tr><td>fold_3/valid/valid_IoU</td><td>0.08034</td></tr><tr><td>fold_3/valid/valid_loss</td><td>1.01559</td></tr><tr><td>fold_4/train/train_IoU</td><td>0.71674</td></tr><tr><td>fold_4/train/train_loss</td><td>0.20466</td></tr><tr><td>fold_4/valid/valid_IoU</td><td>0.23598</td></tr><tr><td>fold_4/valid/valid_loss</td><td>0.75532</td></tr></table><br/></div></div>"
      ],
      "text/plain": [
       "<IPython.core.display.HTML object>"
      ]
     },
     "metadata": {},
     "output_type": "display_data"
    },
    {
     "data": {
      "text/html": [
       " View run <strong style=\"color:#cdcd00\">pious-durian-91</strong> at: <a href=\"https://wandb.ai/dalyutkin01/Trus_images/runs/hl6kcf8p\" target=\"_blank\">https://wandb.ai/dalyutkin01/Trus_images/runs/hl6kcf8p</a><br/>Synced 5 W&B file(s), 0 media file(s), 0 artifact file(s) and 0 other file(s)"
      ],
      "text/plain": [
       "<IPython.core.display.HTML object>"
      ]
     },
     "metadata": {},
     "output_type": "display_data"
    },
    {
     "data": {
      "text/html": [
       "Find logs at: <code>.\\wandb\\run-20230404_131933-hl6kcf8p\\logs</code>"
      ],
      "text/plain": [
       "<IPython.core.display.HTML object>"
      ]
     },
     "metadata": {},
     "output_type": "display_data"
    }
   ],
   "source": [
    "track = 0\n",
    "TEST_IMAGES = 0\n",
    "TEST_MASKS = 0\n",
    "loader_for_top_model = 0\n",
    "for fold, (train_data, test_data) in enumerate(fold_data):\n",
    "    print(f\"Training on fold {fold + 1}...\")\n",
    "    model = src.FPN(\n",
    "        encoder_name=ENCODER, \n",
    "        encoder_weights=ENCODER_WEIGHTS,\n",
    "        in_channels=1,\n",
    "        classes=1,\n",
    "        activation=ACTIVATION,\n",
    "    )\n",
    "    optimizer = torch.optim.Adam([dict(params=model.parameters(), lr=PARAMS[\"lr\"]),])\n",
    "    scheduler = torch.optim.lr_scheduler.ReduceLROnPlateau(optimizer, mode='min',\n",
    "        factor=0.1, patience=10, threshold=0.0001, threshold_mode='abs')\n",
    "    train_epoch = src.utils.train.TrainEpoch(\n",
    "        model, \n",
    "        loss=loss, \n",
    "        metrics=metrics, \n",
    "        optimizer=optimizer,\n",
    "        device=DEVICE,\n",
    "        verbose=True,\n",
    "    )\n",
    "    valid_epoch = src.utils.train.ValidEpoch(\n",
    "        model,\n",
    "        loss=loss, \n",
    "        metrics=metrics, \n",
    "        device=DEVICE,\n",
    "        verbose=True,\n",
    "    )\n",
    "    \n",
    "    train_dataloader, valid_dataloader = preprocess.Generator(\n",
    "        batch_size=PARAMS[\"batch_size\"],\n",
    "        X_train=train_data[\"images\"],\n",
    "        y_train=train_data[\"masks\"],\n",
    "        X_test=test_data[\"images\"],\n",
    "        y_test=test_data[\"masks\"]\n",
    "    )\n",
    "    for epoch in range(0, 15):\n",
    "        print('\\nEpoch: {}'.format(epoch + 1))\n",
    "        train_logs = train_epoch.run(train_dataloader)\n",
    "        valid_logs = valid_epoch.run(valid_dataloader)\n",
    "        \n",
    "        wandb.log({\n",
    "            f'fold_{fold+1}/train/train_IoU': train_logs['iou_score'],\n",
    "            f'fold_{fold+1}/train/train_loss': train_logs['dice_loss + bce_loss']\n",
    "        })\n",
    "        wandb.log({\n",
    "            f'fold_{fold+1}/valid/valid_IoU': valid_logs['iou_score'], \n",
    "            f'fold_{fold+1}/valid/valid_loss': valid_logs['dice_loss + bce_loss']\n",
    "        })\n",
    "        \n",
    "        scheduler.step(valid_logs['dice_loss + bce_loss'])\n",
    "        if track < valid_logs['iou_score']:\n",
    "            TEST_IMAGES = test_data[\"images\"]\n",
    "            TEST_MASKS = test_data[\"masks\"]\n",
    "            track = valid_logs['iou_score']\n",
    "            loader_for_top_model = test_data\n",
    "            torch.save({\n",
    "                'model_state_dict': model.state_dict(),\n",
    "                'best_IoU' : track\n",
    "                }, './checkpoint/best_model_kfold.pth')\n",
    "            print('Model saved!')\n",
    "wandb.finish()"
   ]
  },
  {
   "cell_type": "code",
   "execution_count": 14,
   "metadata": {},
   "outputs": [],
   "source": [
    "checkpoint = torch.load('./checkpoint/best_model_kfold.pth')\n",
    "# "
   ]
  },
  {
   "cell_type": "code",
   "execution_count": 9,
   "metadata": {},
   "outputs": [
    {
     "data": {
      "text/plain": [
       "<All keys matched successfully>"
      ]
     },
     "execution_count": 9,
     "metadata": {},
     "output_type": "execute_result"
    }
   ],
   "source": [
    "model.load_state_dict(checkpoint['model_state_dict'])"
   ]
  },
  {
   "cell_type": "code",
   "execution_count": 10,
   "metadata": {},
   "outputs": [],
   "source": [
    "shape = TEST_IMAGES[0].shape[:2]\n",
    "preds = []\n",
    "for image in TEST_IMAGES:\n",
    "    image_prepoc = preprocess.prepocessing_image(image)\n",
    "    image_prepoc = torch.tensor(np.array([[image_prepoc]]), dtype = torch.float)\n",
    "    image_prepoc = image_prepoc.to(DEVICE)\n",
    "    with torch.no_grad():\n",
    "        predict = model.forward(image_prepoc)\n",
    "    predict_value = predict.cpu().detach().numpy()\n",
    "    preds.append(predict_value)"
   ]
  },
  {
   "cell_type": "code",
   "execution_count": 11,
   "metadata": {},
   "outputs": [],
   "source": [
    "valid_pred_folder = './valid_predict_kfold_v1/'"
   ]
  },
  {
   "cell_type": "code",
   "execution_count": 12,
   "metadata": {},
   "outputs": [],
   "source": [
    "def preproc_predict(image):\n",
    "    predict = (image[0][0]*255).astype(np.uint8)\n",
    "    img  = np.array(Image.fromarray(predict))\n",
    "    return img\n",
    "\n",
    "def green_chanel(image):\n",
    "    blue,green,red = cv2.split(image)\n",
    "    zeros = np.zeros(blue.shape, np.uint8)\n",
    "    greenBGR = cv2.merge([zeros,green,zeros])\n",
    "    return greenBGR\n",
    "\n",
    "def blue_chanel_predict(image):\n",
    "    image = cv2.cvtColor(image, cv2.COLOR_BGR2RGB)\n",
    "    image = cv2.resize(image, (1280, 872), interpolation = cv2.INTER_AREA)\n",
    "    blue, _, _ = cv2.split(image)\n",
    "    zeros = np.zeros(blue.shape, np.uint8)\n",
    "    blueBGR = cv2.merge([blue,zeros,zeros])\n",
    "    return blueBGR\n",
    "\n",
    "def green_chanel_predict(image):\n",
    "    image = cv2.cvtColor(image, cv2.COLOR_BGR2RGB)\n",
    "    image = cv2.resize(image, (1280, 872), interpolation = cv2.INTER_AREA)\n",
    "    _, green, _ = cv2.split(image)\n",
    "    zeros = np.zeros(green.shape, np.uint8)\n",
    "    green = cv2.merge([zeros,green,zeros])\n",
    "    return green\n",
    "\n",
    "def calc_IoU(image_first, image_second):\n",
    "    bitwiseOR = cv2.bitwise_or(image_first, image_second)\n",
    "    bitwiseOR = bitwiseOR / 255\n",
    "    bitwiseOR = (np.rint(bitwiseOR)).astype(int)\n",
    "    summary = bitwiseOR.sum()\n",
    "    bitwiseAnd = cv2.bitwise_and(image_first, image_second)\n",
    "    bitwiseAnd = bitwiseAnd / 255\n",
    "    bitwiseAnd = (np.rint(bitwiseAnd)).astype(int)\n",
    "    peres = bitwiseAnd.sum()\n",
    "    return peres / summary"
   ]
  },
  {
   "cell_type": "code",
   "execution_count": 13,
   "metadata": {},
   "outputs": [],
   "source": [
    "for num in range(len(TEST_IMAGES)):\n",
    "    true_mask = TEST_MASKS[num]\n",
    "    greenBGR = green_chanel(true_mask)\n",
    "    concat_true = cv2.addWeighted(TEST_IMAGES[num], 0.4, TEST_MASKS[num], 0.9, 0)\n",
    "    \n",
    "    #resize true image and create 3rd channels\n",
    "    cvtColor = cv2.cvtColor(TEST_IMAGES[num], cv2.COLOR_BGR2GRAY )\n",
    "    resize_image = cv2.resize(cvtColor, (1280, 872), interpolation = cv2.INTER_AREA)\n",
    "    resize_image = cv2.cvtColor(resize_image, cv2.COLOR_BGR2RGB)\n",
    "    \n",
    "    #preproc predict\n",
    "    predict_mask = preproc_predict(preds[num])\n",
    "    blueBGR_predict = blue_chanel_predict(predict_mask)\n",
    "    greenBGR_predict = green_chanel_predict(predict_mask)\n",
    "    # concat_predict = cv2.bitwise_or(resize_image, predict_mask, mask = predict_mask)\n",
    "    # image_rgb=cv2.cvtColor(concat_predict, cv2.COLOR_BGR2RGB)\n",
    "    \n",
    "    #calc IoU\n",
    "    # print(greenBGR.shape)\n",
    "    # print(greenBGR_predict.shape)\n",
    "    IoU = calc_IoU(greenBGR, greenBGR_predict)\n",
    "    \n",
    "    #concat two masks\n",
    "    bitwiseAnd = cv2.bitwise_or(greenBGR, blueBGR_predict)\n",
    "    \n",
    "    #concat true images with mask\n",
    "    concat_predict = cv2.addWeighted(resize_image, 0.4, bitwiseAnd, 0.7, 0)\n",
    "    concat_predict_resize = cv2.resize(concat_predict, (1280, 872), interpolation = cv2.INTER_AREA)\n",
    "    \n",
    "    #put text\n",
    "    font = cv2.FONT_HERSHEY_SIMPLEX\n",
    "    org = (570, 50)\n",
    "    fontScale = 1\n",
    "    color = (0, 255, 255)\n",
    "    thickness = 2\n",
    "    image = cv2.putText(concat_predict_resize, 'IoU ' + str(round(IoU, 3)), org, font, \n",
    "                   fontScale, color, thickness, cv2.LINE_AA)\n",
    "    \n",
    "    #save \n",
    "    cv2.imwrite(filename=os.path.join(valid_pred_folder + str(num) + \"_true\" + '.png'), img=concat_true)\n",
    "    cv2.imwrite(filename=os.path.join(valid_pred_folder + str(num) + \"_predict\" + '.png'), img=concat_predict_resize)"
   ]
  }
 ],
 "metadata": {
  "kernelspec": {
   "display_name": "env_trus",
   "language": "python",
   "name": "python3"
  },
  "language_info": {
   "codemirror_mode": {
    "name": "ipython",
    "version": 3
   },
   "file_extension": ".py",
   "mimetype": "text/x-python",
   "name": "python",
   "nbconvert_exporter": "python",
   "pygments_lexer": "ipython3",
   "version": "3.9.13"
  },
  "orig_nbformat": 4,
  "vscode": {
   "interpreter": {
    "hash": "4af9a2159fab24886d4f91335261a63555b0395985130eb8d259fcbaf5c78d65"
   }
  }
 },
 "nbformat": 4,
 "nbformat_minor": 2
}
