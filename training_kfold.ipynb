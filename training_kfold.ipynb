{
 "cells": [
  {
   "cell_type": "code",
   "execution_count": 1,
   "metadata": {},
   "outputs": [],
   "source": [
    "import torch\n",
    "import src\n",
    "import wandb\n",
    "import numpy as np\n",
    "import os\n",
    "import cv2\n",
    "import random\n",
    "\n",
    "from PIL import Image\n",
    "from sklearn.model_selection import KFold"
   ]
  },
  {
   "cell_type": "code",
   "execution_count": 2,
   "metadata": {},
   "outputs": [],
   "source": [
    "def set_random_seed(seed):\n",
    "    torch.backends.cudnn.deterministic = True\n",
    "    torch.manual_seed(seed)\n",
    "    torch.cuda.manual_seed(seed)\n",
    "    np.random.seed(seed)\n",
    "    random.seed(seed)"
   ]
  },
  {
   "cell_type": "code",
   "execution_count": 3,
   "metadata": {},
   "outputs": [],
   "source": [
    "ENCODER = 'resnet152'\n",
    "ENCODER_WEIGHTS = 'imagenet'\n",
    "ACTIVATION = 'sigmoid' # could be None for logits or 'softmax2d' for multicalss segmentation\n",
    "DEVICE = ('cuda' if torch.cuda.is_available() else 'cpu') \n",
    "PARAMS = {\n",
    "    \"lr\" : 0.00005,\n",
    "    \"batch_size\" : 1,\n",
    "    \"num_splits\" : 3,\n",
    "}\n",
    "set_random_seed(345262)"
   ]
  },
  {
   "cell_type": "code",
   "execution_count": 4,
   "metadata": {},
   "outputs": [],
   "source": [
    "loss = src.utils.base.SumOfLosses(\n",
    "    src.utils.losses.DiceLoss(),\n",
    "    src.utils.losses.BCELoss()\n",
    ")\n",
    "\n",
    "# loss = src.utils.losses.JaccardLoss()\n",
    "\n",
    "# loss = src.utils.losses.DiceLoss()\n",
    "\n",
    "metrics = [\n",
    "    src.utils.metrics.IoU(threshold=0.9)\n",
    "]"
   ]
  },
  {
   "cell_type": "code",
   "execution_count": 5,
   "metadata": {},
   "outputs": [
    {
     "name": "stderr",
     "output_type": "stream",
     "text": [
      "Failed to detect the name of this notebook, you can set it manually with the WANDB_NOTEBOOK_NAME environment variable to enable code saving.\n",
      "\u001b[34m\u001b[1mwandb\u001b[0m: Currently logged in as: \u001b[33mdalyutkin01\u001b[0m (\u001b[33mcancer_research\u001b[0m). Use \u001b[1m`wandb login --relogin`\u001b[0m to force relogin\n"
     ]
    },
    {
     "data": {
      "text/html": [
       "wandb version 0.14.2 is available!  To upgrade, please run:\n",
       " $ pip install wandb --upgrade"
      ],
      "text/plain": [
       "<IPython.core.display.HTML object>"
      ]
     },
     "metadata": {},
     "output_type": "display_data"
    },
    {
     "data": {
      "text/html": [
       "Tracking run with wandb version 0.13.9"
      ],
      "text/plain": [
       "<IPython.core.display.HTML object>"
      ]
     },
     "metadata": {},
     "output_type": "display_data"
    },
    {
     "data": {
      "text/html": [
       "Run data is saved locally in <code>c:\\Users\\Dmitry\\Desktop\\code\\analysis_trus_images\\wandb\\run-20230410_164035-v17b49vb</code>"
      ],
      "text/plain": [
       "<IPython.core.display.HTML object>"
      ]
     },
     "metadata": {},
     "output_type": "display_data"
    },
    {
     "data": {
      "text/html": [
       "Syncing run <strong><a href=\"https://wandb.ai/cancer_research/cancer_research-dima/runs/v17b49vb\" target=\"_blank\">absurd-microwave-47</a></strong> to <a href=\"https://wandb.ai/cancer_research/cancer_research-dima\" target=\"_blank\">Weights & Biases</a> (<a href=\"https://wandb.me/run\" target=\"_blank\">docs</a>)<br/>"
      ],
      "text/plain": [
       "<IPython.core.display.HTML object>"
      ]
     },
     "metadata": {},
     "output_type": "display_data"
    },
    {
     "data": {
      "text/html": [
       " View project at <a href=\"https://wandb.ai/cancer_research/cancer_research-dima\" target=\"_blank\">https://wandb.ai/cancer_research/cancer_research-dima</a>"
      ],
      "text/plain": [
       "<IPython.core.display.HTML object>"
      ]
     },
     "metadata": {},
     "output_type": "display_data"
    },
    {
     "data": {
      "text/html": [
       " View run at <a href=\"https://wandb.ai/cancer_research/cancer_research-dima/runs/v17b49vb\" target=\"_blank\">https://wandb.ai/cancer_research/cancer_research-dima/runs/v17b49vb</a>"
      ],
      "text/plain": [
       "<IPython.core.display.HTML object>"
      ]
     },
     "metadata": {},
     "output_type": "display_data"
    },
    {
     "data": {
      "text/html": [
       "<button onClick=\"this.nextSibling.style.display='block';this.style.display='none';\">Display W&B run</button><iframe src=\"https://wandb.ai/cancer_research/cancer_research-dima/runs/v17b49vb?jupyter=true\" style=\"border:none;width:100%;height:420px;display:none;\"></iframe>"
      ],
      "text/plain": [
       "<wandb.sdk.wandb_run.Run at 0x1c51921dd00>"
      ]
     },
     "execution_count": 5,
     "metadata": {},
     "output_type": "execute_result"
    }
   ],
   "source": [
    "wandb.login()\n",
    "wandb.init(project=\"cancer_research-dima\")"
   ]
  },
  {
   "cell_type": "code",
   "execution_count": 6,
   "metadata": {},
   "outputs": [],
   "source": [
    "preprocess = src.utils.dataset.Preprocessing(\n",
    "    dir='./data/',\n",
    "    img_size=768,\n",
    "    augmentation=False\n",
    ")"
   ]
  },
  {
   "cell_type": "code",
   "execution_count": 7,
   "metadata": {},
   "outputs": [],
   "source": [
    "clear_images, clear_masks = preprocess.load_folder()\n",
    "kfold = KFold(n_splits=PARAMS[\"num_splits\"], shuffle=True)\n",
    "fold_data = []\n",
    "for fold, (train_indices, test_indices) in enumerate(kfold.split(clear_masks)):\n",
    "    train_data = {\n",
    "        \"images\" : [clear_images[index] for index in train_indices],\n",
    "        \"masks\" : [clear_masks[index] for index in train_indices]\n",
    "    }\n",
    "    test_data = {\n",
    "        \"images\" : [clear_images[index] for index in test_indices],\n",
    "        \"masks\" : [clear_masks[index] for index in test_indices]\n",
    "    }\n",
    "    fold_data.append((train_data, test_data))"
   ]
  },
  {
   "cell_type": "code",
   "execution_count": 8,
   "metadata": {},
   "outputs": [
    {
     "data": {
      "text/plain": [
       "(615, 980)"
      ]
     },
     "execution_count": 8,
     "metadata": {},
     "output_type": "execute_result"
    }
   ],
   "source": [
    "clear_masks[0].shape"
   ]
  },
  {
   "cell_type": "code",
   "execution_count": 9,
   "metadata": {},
   "outputs": [
    {
     "name": "stdout",
     "output_type": "stream",
     "text": [
      "Training on fold 1...\n",
      "\n",
      "Epoch: 1\n",
      "train: 100%|██████████| 68/68 [00:38<00:00,  1.77it/s, dice_loss + bce_loss - 1.557, iou_score - 0.1941] \n",
      "valid: 100%|██████████| 34/34 [00:13<00:00,  2.53it/s, dice_loss + bce_loss - 1.411, iou_score - 0.3012]\n",
      "Model saved!\n",
      "\n",
      "Epoch: 2\n",
      "train: 100%|██████████| 68/68 [00:34<00:00,  1.96it/s, dice_loss + bce_loss - 1.364, iou_score - 0.4082]\n",
      "valid: 100%|██████████| 34/34 [00:13<00:00,  2.52it/s, dice_loss + bce_loss - 1.339, iou_score - 0.357] \n",
      "Model saved!\n",
      "\n",
      "Epoch: 3\n",
      "train: 100%|██████████| 68/68 [00:33<00:00,  2.05it/s, dice_loss + bce_loss - 1.268, iou_score - 0.5361]\n",
      "valid: 100%|██████████| 34/34 [00:13<00:00,  2.50it/s, dice_loss + bce_loss - 1.253, iou_score - 0.3621]\n",
      "Model saved!\n",
      "\n",
      "Epoch: 4\n",
      "train: 100%|██████████| 68/68 [00:32<00:00,  2.07it/s, dice_loss + bce_loss - 1.192, iou_score - 0.6299]\n",
      "valid: 100%|██████████| 34/34 [00:13<00:00,  2.55it/s, dice_loss + bce_loss - 1.231, iou_score - 0.3604]\n",
      "\n",
      "Epoch: 5\n",
      "train: 100%|██████████| 68/68 [00:33<00:00,  2.06it/s, dice_loss + bce_loss - 1.126, iou_score - 0.7002]\n",
      "valid: 100%|██████████| 34/34 [00:13<00:00,  2.52it/s, dice_loss + bce_loss - 1.15, iou_score - 0.3883] \n",
      "Model saved!\n",
      "Training on fold 2...\n",
      "\n",
      "Epoch: 1\n",
      "train: 100%|██████████| 68/68 [00:32<00:00,  2.07it/s, dice_loss + bce_loss - 1.179, iou_score - 0.01822]  \n",
      "valid: 100%|██████████| 34/34 [00:13<00:00,  2.50it/s, dice_loss + bce_loss - 1.1, iou_score - 0.07533]  \n",
      "\n",
      "Epoch: 2\n",
      "train: 100%|██████████| 68/68 [00:31<00:00,  2.13it/s, dice_loss + bce_loss - 1.03, iou_score - 0.3144]   \n",
      "valid: 100%|██████████| 34/34 [00:13<00:00,  2.47it/s, dice_loss + bce_loss - 0.9952, iou_score - 0.3503]\n",
      "\n",
      "Epoch: 3\n",
      "train: 100%|██████████| 68/68 [00:33<00:00,  2.06it/s, dice_loss + bce_loss - 0.915, iou_score - 0.5708] \n",
      "valid: 100%|██████████| 34/34 [00:13<00:00,  2.53it/s, dice_loss + bce_loss - 0.9386, iou_score - 0.3878]\n",
      "\n",
      "Epoch: 4\n",
      "train: 100%|██████████| 68/68 [00:35<00:00,  1.93it/s, dice_loss + bce_loss - 0.831, iou_score - 0.6479] \n",
      "valid: 100%|██████████| 34/34 [00:14<00:00,  2.32it/s, dice_loss + bce_loss - 0.8631, iou_score - 0.4676]\n",
      "Model saved!\n",
      "\n",
      "Epoch: 5\n",
      "train: 100%|██████████| 68/68 [00:32<00:00,  2.06it/s, dice_loss + bce_loss - 0.754, iou_score - 0.7085] \n",
      "valid: 100%|██████████| 34/34 [00:13<00:00,  2.52it/s, dice_loss + bce_loss - 0.8991, iou_score - 0.3051] \n",
      "Training on fold 3...\n",
      "\n",
      "Epoch: 1\n",
      "train: 100%|██████████| 68/68 [00:32<00:00,  2.10it/s, dice_loss + bce_loss - 1.65, iou_score - 0.1699]  \n",
      "valid: 100%|██████████| 34/34 [00:13<00:00,  2.57it/s, dice_loss + bce_loss - 1.495, iou_score - 0.1467] \n",
      "\n",
      "Epoch: 2\n",
      "train: 100%|██████████| 68/68 [00:31<00:00,  2.14it/s, dice_loss + bce_loss - 1.399, iou_score - 0.4258]\n",
      "valid: 100%|██████████| 34/34 [00:13<00:00,  2.60it/s, dice_loss + bce_loss - 1.391, iou_score - 0.3188]\n",
      "\n",
      "Epoch: 3\n",
      "train: 100%|██████████| 68/68 [00:32<00:00,  2.12it/s, dice_loss + bce_loss - 1.302, iou_score - 0.5799]\n",
      "valid: 100%|██████████| 34/34 [00:13<00:00,  2.60it/s, dice_loss + bce_loss - 1.307, iou_score - 0.3218]\n",
      "\n",
      "Epoch: 4\n",
      "train: 100%|██████████| 68/68 [00:31<00:00,  2.15it/s, dice_loss + bce_loss - 1.232, iou_score - 0.6608]\n",
      "valid: 100%|██████████| 34/34 [00:13<00:00,  2.61it/s, dice_loss + bce_loss - 1.261, iou_score - 0.3401]\n",
      "\n",
      "Epoch: 5\n",
      "train: 100%|██████████| 68/68 [00:31<00:00,  2.15it/s, dice_loss + bce_loss - 1.174, iou_score - 0.7149]\n",
      "valid: 100%|██████████| 34/34 [00:13<00:00,  2.58it/s, dice_loss + bce_loss - 1.211, iou_score - 0.3121]\n"
     ]
    },
    {
     "data": {
      "text/html": [
       "Waiting for W&B process to finish... <strong style=\"color:green\">(success).</strong>"
      ],
      "text/plain": [
       "<IPython.core.display.HTML object>"
      ]
     },
     "metadata": {},
     "output_type": "display_data"
    },
    {
     "data": {
      "application/vnd.jupyter.widget-view+json": {
       "model_id": "bf76fd271d0941da8af2b2c4c1f864d0",
       "version_major": 2,
       "version_minor": 0
      },
      "text/plain": [
       "VBox(children=(Label(value='0.001 MB of 0.009 MB uploaded (0.000 MB deduped)\\r'), FloatProgress(value=0.142019…"
      ]
     },
     "metadata": {},
     "output_type": "display_data"
    },
    {
     "data": {
      "text/html": [
       "<style>\n",
       "    table.wandb td:nth-child(1) { padding: 0 10px; text-align: left ; width: auto;} td:nth-child(2) {text-align: left ; width: 100%}\n",
       "    .wandb-row { display: flex; flex-direction: row; flex-wrap: wrap; justify-content: flex-start; width: 100% }\n",
       "    .wandb-col { display: flex; flex-direction: column; flex-basis: 100%; flex: 1; padding: 10px; }\n",
       "    </style>\n",
       "<div class=\"wandb-row\"><div class=\"wandb-col\"><h3>Run history:</h3><br/><table class=\"wandb\"><tr><td>fold_1/train/train_IoU</td><td>▁▄▆▇█</td></tr><tr><td>fold_1/train/train_loss</td><td>█▅▃▂▁</td></tr><tr><td>fold_1/valid/valid_IoU</td><td>▁▅▆▆█</td></tr><tr><td>fold_1/valid/valid_loss</td><td>█▆▄▃▁</td></tr><tr><td>fold_2/train/train_IoU</td><td>▁▄▇▇█</td></tr><tr><td>fold_2/train/train_loss</td><td>█▆▄▂▁</td></tr><tr><td>fold_2/valid/valid_IoU</td><td>▁▆▇█▅</td></tr><tr><td>fold_2/valid/valid_loss</td><td>█▅▃▁▂</td></tr><tr><td>fold_3/train/train_IoU</td><td>▁▄▆▇█</td></tr><tr><td>fold_3/train/train_loss</td><td>█▄▃▂▁</td></tr><tr><td>fold_3/valid/valid_IoU</td><td>▁▇▇█▇</td></tr><tr><td>fold_3/valid/valid_loss</td><td>█▅▃▂▁</td></tr></table><br/></div><div class=\"wandb-col\"><h3>Run summary:</h3><br/><table class=\"wandb\"><tr><td>fold_1/train/train_IoU</td><td>0.70017</td></tr><tr><td>fold_1/train/train_loss</td><td>1.12567</td></tr><tr><td>fold_1/valid/valid_IoU</td><td>0.38828</td></tr><tr><td>fold_1/valid/valid_loss</td><td>1.15039</td></tr><tr><td>fold_2/train/train_IoU</td><td>0.70853</td></tr><tr><td>fold_2/train/train_loss</td><td>0.75398</td></tr><tr><td>fold_2/valid/valid_IoU</td><td>0.30512</td></tr><tr><td>fold_2/valid/valid_loss</td><td>0.89912</td></tr><tr><td>fold_3/train/train_IoU</td><td>0.71486</td></tr><tr><td>fold_3/train/train_loss</td><td>1.17388</td></tr><tr><td>fold_3/valid/valid_IoU</td><td>0.31211</td></tr><tr><td>fold_3/valid/valid_loss</td><td>1.21127</td></tr></table><br/></div></div>"
      ],
      "text/plain": [
       "<IPython.core.display.HTML object>"
      ]
     },
     "metadata": {},
     "output_type": "display_data"
    },
    {
     "data": {
      "text/html": [
       " View run <strong style=\"color:#cdcd00\">absurd-microwave-47</strong> at: <a href=\"https://wandb.ai/cancer_research/cancer_research-dima/runs/v17b49vb\" target=\"_blank\">https://wandb.ai/cancer_research/cancer_research-dima/runs/v17b49vb</a><br/>Synced 5 W&B file(s), 0 media file(s), 0 artifact file(s) and 0 other file(s)"
      ],
      "text/plain": [
       "<IPython.core.display.HTML object>"
      ]
     },
     "metadata": {},
     "output_type": "display_data"
    },
    {
     "data": {
      "text/html": [
       "Find logs at: <code>.\\wandb\\run-20230410_164035-v17b49vb\\logs</code>"
      ],
      "text/plain": [
       "<IPython.core.display.HTML object>"
      ]
     },
     "metadata": {},
     "output_type": "display_data"
    }
   ],
   "source": [
    "track = 0\n",
    "TEST_IMAGES = 0\n",
    "TEST_MASKS = 0\n",
    "loader_for_top_model = 0\n",
    "for fold, (train_data, test_data) in enumerate(fold_data):\n",
    "    print(f\"Training on fold {fold + 1}...\")\n",
    "    model = src.UnetPlusPlus(\n",
    "        encoder_name=ENCODER, \n",
    "        encoder_weights=ENCODER_WEIGHTS,\n",
    "        in_channels=3,\n",
    "        classes=1,\n",
    "        activation=ACTIVATION,\n",
    "    )\n",
    "    optimizer = torch.optim.Adam([dict(params=model.parameters(), lr=PARAMS[\"lr\"]),])\n",
    "    scheduler = torch.optim.lr_scheduler.ReduceLROnPlateau(optimizer, mode='min',\n",
    "        factor=0.1, patience=1, threshold=0.0001, threshold_mode='abs')\n",
    "    # scheduler = torch.optim.lr_scheduler.ExponentialLR(optimizer, gamma=0.02)\n",
    "    train_epoch = src.utils.train.TrainEpoch(\n",
    "        model, \n",
    "        loss=loss, \n",
    "        metrics=metrics, \n",
    "        optimizer=optimizer,\n",
    "        device=DEVICE,\n",
    "        verbose=True,\n",
    "    )\n",
    "    valid_epoch = src.utils.train.ValidEpoch(\n",
    "        model,\n",
    "        loss=loss, \n",
    "        metrics=metrics, \n",
    "        device=DEVICE,\n",
    "        verbose=True,\n",
    "    )\n",
    "    \n",
    "    train_dataloader, valid_dataloader = preprocess.Generator(\n",
    "        batch_size=PARAMS[\"batch_size\"],\n",
    "        X_train=train_data[\"images\"],\n",
    "        y_train=train_data[\"masks\"],\n",
    "        X_test=test_data[\"images\"],\n",
    "        y_test=test_data[\"masks\"]\n",
    "    )\n",
    "\n",
    "    for epoch in range(0, 5):\n",
    "        print('\\nEpoch: {}'.format(epoch + 1))\n",
    "        train_logs = train_epoch.run(train_dataloader)\n",
    "        valid_logs = valid_epoch.run(valid_dataloader)\n",
    "        \n",
    "        wandb.log({\n",
    "            f'fold_{fold+1}/train/train_IoU': train_logs['iou_score'],\n",
    "            f'fold_{fold+1}/train/train_loss': train_logs['dice_loss + bce_loss']\n",
    "        })\n",
    "        wandb.log({\n",
    "            f'fold_{fold+1}/valid/valid_IoU': valid_logs['iou_score'], \n",
    "            f'fold_{fold+1}/valid/valid_loss': valid_logs['dice_loss + bce_loss']\n",
    "        })\n",
    "        \n",
    "        scheduler.step(valid_logs['dice_loss + bce_loss'])\n",
    "        if track < valid_logs['iou_score']:\n",
    "            TEST_IMAGES = test_data[\"images\"]\n",
    "            TEST_MASKS = test_data[\"masks\"]\n",
    "            track = valid_logs['iou_score']\n",
    "            loader_for_top_model = test_data\n",
    "            torch.save({\n",
    "                'model_state_dict': model.state_dict(),\n",
    "                'best_IoU' : track\n",
    "                }, f'./checkpoint/best_model_{PARAMS[\"num_splits\"]}fold.pth')\n",
    "            print('Model saved!')\n",
    "wandb.finish()"
   ]
  },
  {
   "cell_type": "code",
   "execution_count": 10,
   "metadata": {},
   "outputs": [
    {
     "data": {
      "text/plain": [
       "0.4676332465001406"
      ]
     },
     "execution_count": 10,
     "metadata": {},
     "output_type": "execute_result"
    }
   ],
   "source": [
    "valid_pred_folder = './valid_predict_kfold_v1/'\n",
    "checkpoint = torch.load(f'./checkpoint/best_model_{PARAMS[\"num_splits\"]}fold.pth')\n",
    "model.load_state_dict(checkpoint['model_state_dict'])\n",
    "checkpoint['best_IoU']"
   ]
  },
  {
   "cell_type": "code",
   "execution_count": 11,
   "metadata": {},
   "outputs": [],
   "source": [
    "preds = []\n",
    "for image in TEST_IMAGES:\n",
    "    image_prepoc = preprocess.inference_image(image)\n",
    "    image_prepoc = torch.tensor(np.array([image_prepoc]), dtype = torch.float)\n",
    "    image_prepoc = image_prepoc.to(DEVICE)\n",
    "    with torch.no_grad():\n",
    "        predict = model.forward(image_prepoc)\n",
    "    predict_value = predict.cpu().detach().numpy()\n",
    "    preds.append(predict_value)"
   ]
  },
  {
   "cell_type": "code",
   "execution_count": 12,
   "metadata": {},
   "outputs": [],
   "source": [
    "def test(number):\n",
    "    test = cv2.resize(\n",
    "        TEST_MASKS[number],\n",
    "        (768, 768),\n",
    "        interpolation = cv2.INTER_AREA\n",
    "    ).astype('float32')\n",
    "    return float(metrics[0](torch.tensor(test), torch.tensor(preds[number][0][0])))"
   ]
  },
  {
   "cell_type": "code",
   "execution_count": 13,
   "metadata": {},
   "outputs": [
    {
     "name": "stdout",
     "output_type": "stream",
     "text": [
      "0.023302702972774997\n"
     ]
    }
   ],
   "source": [
    "test_list = []\n",
    "for i in range(len(TEST_MASKS)):\n",
    "    test_list.append(test(i))\n",
    "print(sum(test_list) / len(test_list))"
   ]
  },
  {
   "cell_type": "code",
   "execution_count": 14,
   "metadata": {},
   "outputs": [],
   "source": [
    "for num in range(len(TEST_IMAGES)):\n",
    "    true_mask = TEST_MASKS[num]\n",
    "    true_mask = cv2.cvtColor(true_mask, cv2.COLOR_BGR2RGB)\n",
    "    greenBGR = src.utils.plotting.Visual.green_chanel(true_mask)\n",
    "    concat_true = cv2.addWeighted(TEST_IMAGES[num], 0.4, true_mask, 0.9, 0)\n",
    "    \n",
    "    #preproc predict\n",
    "    predict_mask = src.utils.plotting.Visual.preproc_predict(preds[num])\n",
    "    blueBGR_predict = src.utils.plotting.Visual.blue_chanel_predict(predict_mask)\n",
    "    greenBGR_predict = src.utils.plotting.Visual.green_chanel_predict(predict_mask)\n",
    "    \n",
    "    #calc IoU\n",
    "    IoU = src.utils.plotting.Visual.calc_IoU(greenBGR, greenBGR_predict)\n",
    "    \n",
    "    #concat two masks\n",
    "    bitwiseAnd = cv2.bitwise_or(greenBGR, blueBGR_predict)\n",
    "    \n",
    "    #concat true images with mask\n",
    "    concat_predict = cv2.addWeighted(TEST_IMAGES[num], 0.7, bitwiseAnd, 0.7, 0)\n",
    "    concat_predict_resize = cv2.resize(concat_predict, (1280, 872), interpolation = cv2.INTER_AREA)\n",
    "    \n",
    "    #put text\n",
    "    font = cv2.FONT_HERSHEY_SIMPLEX\n",
    "    org = (570, 50)\n",
    "    fontScale = 1\n",
    "    color = (0, 255, 255)\n",
    "    thickness = 2\n",
    "    image = cv2.putText(concat_predict_resize, 'IoU ' + str(round(IoU, 3)), org, font, \n",
    "                   fontScale, color, thickness, cv2.LINE_AA)\n",
    "    \n",
    "    #save \n",
    "    cv2.imwrite(filename=os.path.join(valid_pred_folder + str(num) + \"_true\" + '.png'), img=concat_true)\n",
    "    cv2.imwrite(filename=os.path.join(valid_pred_folder + str(num) + \"_predict\" + '.png'), img=concat_predict_resize)"
   ]
  },
  {
   "cell_type": "code",
   "execution_count": 16,
   "metadata": {},
   "outputs": [
    {
     "name": "stderr",
     "output_type": "stream",
     "text": [
      "c:\\Users\\Dmitry\\Desktop\\code\\analysis_trus_images\\src\\base\\model.py:16: TracerWarning: Converting a tensor to a Python boolean might cause the trace to be incorrect. We can't record the data flow of Python values, so this value will be treated as a constant in the future. This means that the trace might not generalize to other inputs!\n",
      "  if h % output_stride != 0 or w % output_stride != 0:\n"
     ]
    }
   ],
   "source": [
    "x = torch.randn(1, 3, 768, 768, requires_grad=True)\n",
    "model.to('cpu')\n",
    "model.eval()\n",
    "torch.onnx.export(\n",
    "    model, x, \"UNET++_trained.onnx\", \n",
    "    export_params=True, \n",
    "    verbose=True,\n",
    "    input_names = [ \"actual_input_1\" ] + [ \"learned_%d\" % i for i in range(20)],\n",
    "    output_names = [ \"output1\" ])"
   ]
  },
  {
   "cell_type": "code",
   "execution_count": null,
   "metadata": {},
   "outputs": [],
   "source": []
  }
 ],
 "metadata": {
  "kernelspec": {
   "display_name": "env_trus",
   "language": "python",
   "name": "python3"
  },
  "language_info": {
   "codemirror_mode": {
    "name": "ipython",
    "version": 3
   },
   "file_extension": ".py",
   "mimetype": "text/x-python",
   "name": "python",
   "nbconvert_exporter": "python",
   "pygments_lexer": "ipython3",
   "version": "3.9.13"
  },
  "orig_nbformat": 4,
  "vscode": {
   "interpreter": {
    "hash": "4af9a2159fab24886d4f91335261a63555b0395985130eb8d259fcbaf5c78d65"
   }
  }
 },
 "nbformat": 4,
 "nbformat_minor": 2
}
