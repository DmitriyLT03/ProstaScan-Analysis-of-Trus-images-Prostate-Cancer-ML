{
 "cells": [
  {
   "cell_type": "code",
   "execution_count": 1,
   "metadata": {},
   "outputs": [],
   "source": [
    "import torch \n",
    "import os\n",
    "from PIL import Image"
   ]
  },
  {
   "cell_type": "code",
   "execution_count": 2,
   "metadata": {},
   "outputs": [],
   "source": [
    "DB_PATH_TRAIN = './dataset/train'"
   ]
  },
  {
   "cell_type": "code",
   "execution_count": 3,
   "metadata": {},
   "outputs": [],
   "source": [
    "import cv2"
   ]
  },
  {
   "cell_type": "code",
   "execution_count": 4,
   "metadata": {},
   "outputs": [],
   "source": [
    "image1 = cv2.imread('./dataset/mask/train/10_png.rf.a55c5e095f77ea0325cdb77cb97e4bf7.jpg')\n",
    "image2 = cv2.imread('./dataset/mask/train/10_png.rf.a55c5e095f77ea0325cdb77cb97e4bf7_mask.png')"
   ]
  },
  {
   "cell_type": "code",
   "execution_count": 5,
   "metadata": {},
   "outputs": [],
   "source": [
    "# for i in range(len(image2)):\n",
    "#     for j in range(len(image2[i])):\n",
    "#         for k in range(len(image2[i][j])):\n",
    "#             if image2[i][j][k] != 0:\n",
    "#                 image2[i][j][k] = 255"
   ]
  },
  {
   "cell_type": "code",
   "execution_count": 6,
   "metadata": {},
   "outputs": [],
   "source": [
    "# image2[0]"
   ]
  },
  {
   "cell_type": "code",
   "execution_count": 7,
   "metadata": {},
   "outputs": [],
   "source": [
    "# subtracted = image1 - image2"
   ]
  },
  {
   "cell_type": "code",
   "execution_count": 8,
   "metadata": {},
   "outputs": [],
   "source": [
    "# import cv2\n",
    "# import matplotlib.pyplot as plt\n",
    "\n",
    "# image = cv2.cvtColor(image2, cv2.COLOR_BGR2RGB)\n",
    "# plt.imshow(image)\n",
    "# plt.show()"
   ]
  },
  {
   "cell_type": "code",
   "execution_count": 9,
   "metadata": {},
   "outputs": [],
   "source": [
    "# from unet import UNet"
   ]
  },
  {
   "cell_type": "code",
   "execution_count": 10,
   "metadata": {},
   "outputs": [],
   "source": [
    "import matplotlib.pyplot as plt\n",
    "import numpy as np\n",
    "\n",
    "def plot_img_and_mask(img, mask):\n",
    "    \n",
    "    classes = mask.max() + 1\n",
    "    fig, ax = plt.subplots(1, classes + 1)\n",
    "    \n",
    "    ax[0].set_title('Input image')\n",
    "    \n",
    "    ax[0].imshow(img)\n",
    "    \n",
    "    for i in range(classes):\n",
    "        \n",
    "        copy_mask = mask.copy()\n",
    "        \n",
    "        ax[i + 1].set_title(f'Mask (class {i})')\n",
    "        \n",
    "        result = np.where(copy_mask, 1, 255)\n",
    "\n",
    "        ax[i + 1].imshow(result)\n",
    "        \n",
    "    plt.xticks([]), plt.yticks([])\n",
    "    \n",
    "    plt.show()"
   ]
  },
  {
   "cell_type": "code",
   "execution_count": 11,
   "metadata": {},
   "outputs": [],
   "source": [
    "# %matplotlib inline\n",
    "image1 = cv2.imread('./dataset/mask/train/10_png.rf.a55c5e095f77ea0325cdb77cb97e4bf7.jpg')\n",
    "image2 = cv2.imread('./dataset/mask/train/10_png.rf.a55c5e095f77ea0325cdb77cb97e4bf7_mask.png')\n",
    "# plot_img_and_mask(image1, image2)"
   ]
  },
  {
   "cell_type": "code",
   "execution_count": 12,
   "metadata": {},
   "outputs": [],
   "source": [
    "from utils.CustomDataset import Dataset"
   ]
  },
  {
   "cell_type": "code",
   "execution_count": 14,
   "metadata": {},
   "outputs": [
    {
     "name": "stderr",
     "output_type": "stream",
     "text": [
      "100%|██████████| 14/14 [00:04<00:00,  3.03it/s]\n"
     ]
    }
   ],
   "source": [
    "dataset = Dataset(\n",
    "    './data/main/train/images/',\n",
    "    './data/main/train/mask/'\n",
    ")"
   ]
  },
  {
   "cell_type": "code",
   "execution_count": 15,
   "metadata": {},
   "outputs": [
    {
     "data": {
      "text/plain": [
       "<utils.CustomDataset.Dataset at 0x1a1f3cb1f70>"
      ]
     },
     "execution_count": 15,
     "metadata": {},
     "output_type": "execute_result"
    }
   ],
   "source": []
  },
  {
   "cell_type": "code",
   "execution_count": null,
   "metadata": {},
   "outputs": [],
   "source": []
  }
 ],
 "metadata": {
  "kernelspec": {
   "display_name": "env_trus",
   "language": "python",
   "name": "python3"
  },
  "language_info": {
   "codemirror_mode": {
    "name": "ipython",
    "version": 3
   },
   "file_extension": ".py",
   "mimetype": "text/x-python",
   "name": "python",
   "nbconvert_exporter": "python",
   "pygments_lexer": "ipython3",
   "version": "3.9.13"
  },
  "orig_nbformat": 4,
  "vscode": {
   "interpreter": {
    "hash": "4af9a2159fab24886d4f91335261a63555b0395985130eb8d259fcbaf5c78d65"
   }
  }
 },
 "nbformat": 4,
 "nbformat_minor": 2
}
