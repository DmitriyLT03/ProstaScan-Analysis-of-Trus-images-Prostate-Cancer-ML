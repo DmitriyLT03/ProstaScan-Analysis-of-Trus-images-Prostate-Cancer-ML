{
 "cells": [
  {
   "cell_type": "code",
   "execution_count": 78,
   "metadata": {},
   "outputs": [],
   "source": [
    "import os\n",
    "import cv2\n",
    "import numpy as np\n",
    "from PIL import Image\n",
    "from matplotlib.pyplot import imshow"
   ]
  },
  {
   "cell_type": "code",
   "execution_count": 79,
   "metadata": {},
   "outputs": [],
   "source": [
    "data_path = './data/'"
   ]
  },
  {
   "cell_type": "code",
   "execution_count": 80,
   "metadata": {},
   "outputs": [],
   "source": [
    "data_saved_png = './data_png/'"
   ]
  },
  {
   "cell_type": "code",
   "execution_count": 81,
   "metadata": {},
   "outputs": [],
   "source": [
    "data_dir = os.listdir(data_path)"
   ]
  },
  {
   "cell_type": "code",
   "execution_count": 82,
   "metadata": {},
   "outputs": [
    {
     "name": "stderr",
     "output_type": "stream",
     "text": [
      "C:\\Users\\Dmitry\\AppData\\Local\\Temp\\ipykernel_15652\\2763466702.py:13: DeprecationWarning: NumPy will stop allowing conversion of out-of-bound Python integers to integer arrays.  The conversion of -1 to uint8 will fail in the future.\n",
      "For the old behavior, usually:\n",
      "    np.array(value).astype(dtype)`\n",
      "will give the desired result (the cast overflows).\n",
      "  curr_mask[curr_mask==1] = -1\n"
     ]
    }
   ],
   "source": [
    "for i in range(0, len(data_dir), 2):\n",
    "        \n",
    "    image = cv2.imread(data_path + data_dir[i])\n",
    "    mask = cv2.imread(data_path + data_dir[i+1])\n",
    "    \n",
    "    #concat mask with mask\n",
    "    \n",
    "    #save image in png\n",
    "    cv2.imwrite(filename=os.path.join(data_saved_png + data_dir[i][:-4] + '.png'), img=image)\n",
    "    \n",
    "    #chenge mask in 255\n",
    "    curr_mask = mask.copy()\n",
    "    curr_mask[curr_mask==1] = -1\n",
    "    \n",
    "    #save mask in png\n",
    "    cv2.imwrite(filename=os.path.join(data_saved_png + data_dir[i][:-4] + '_mask' + '.png'), img=curr_mask)\n",
    "    \n",
    "    #concat mask with image\n",
    "    concat = cv2.addWeighted(image, 0.5, curr_mask, 0.3, 0)\n",
    "    \n",
    "    #save concat\n",
    "    cv2.imwrite(filename=os.path.join(data_saved_png + data_dir[i][:-4] + '_concat' +'.png'), img=concat)"
   ]
  },
  {
   "cell_type": "code",
   "execution_count": null,
   "metadata": {},
   "outputs": [],
   "source": []
  }
 ],
 "metadata": {
  "kernelspec": {
   "display_name": "env_trus",
   "language": "python",
   "name": "python3"
  },
  "language_info": {
   "codemirror_mode": {
    "name": "ipython",
    "version": 3
   },
   "file_extension": ".py",
   "mimetype": "text/x-python",
   "name": "python",
   "nbconvert_exporter": "python",
   "pygments_lexer": "ipython3",
   "version": "3.9.13"
  },
  "orig_nbformat": 4
 },
 "nbformat": 4,
 "nbformat_minor": 2
}
